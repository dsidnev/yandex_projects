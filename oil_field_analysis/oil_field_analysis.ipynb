{
 "cells": [
  {
   "cell_type": "markdown",
   "id": "7e6a8069-31a4-47fc-a67e-2db67226837c",
   "metadata": {},
   "source": [
    "# Описание проекта\n",
    "\n",
    "Допустим, вы работаете в добывающей компании «ГлавРосГосНефть». Нужно решить, где бурить новую скважину. \n",
    "Шаги для выбора локации обычно такие:\n",
    "\n",
    "- В избранном регионе собирают характеристики для скважин: качество нефти и объём её запасов;\n",
    "- Строят модель для предсказания объёма запасов в новых скважинах;\n",
    "- Выбирают скважины с самыми высокими оценками значений;\n",
    "- Определяют регион с максимальной суммарной прибылью отобранных скважин.\n",
    "\n",
    "Вам предоставлены пробы нефти в трёх регионах. Характеристики для каждой скважины в регионе уже известны. Постройте модель для определения региона, где добыча принесёт наибольшую прибыль. Проанализируйте возможную прибыль и риски техникой Bootstrap."
   ]
  },
  {
   "cell_type": "markdown",
   "id": "b1a8d8fa-8815-492f-929b-d9cc0915b8ff",
   "metadata": {},
   "source": [
    "## Описание данных:\n",
    "\n",
    "- `id` — уникальный идентификатор скважины;\n",
    "- `f0`, `f1`, `f2` — три признака точек (неважно, что они означают, но сами признаки значимы);\n",
    "- `product` — объём запасов в скважине (тыс. баррелей)."
   ]
  },
  {
   "cell_type": "markdown",
   "id": "767a4525-2e01-4427-a850-30a1a8b7a7b7",
   "metadata": {},
   "source": [
    "## Условия задачи:\n",
    "    \n",
    "- Для обучения модели подходит только линейная регрессия (остальные — недостаточно предсказуемые).\n",
    "- При разведке региона исследуют 500 точек, из которых с помощью машинного обучения выбирают 200 лучших для разработки.\n",
    "- Бюджет на разработку скважин в регионе — 10 млрд рублей.\n",
    "- При нынешних ценах один баррель сырья приносит 450 рублей дохода. Доход с каждой единицы продукта составляет 450 тыс. рублей, поскольку объём указан в тысячах баррелей.\n",
    "- После оценки рисков нужно оставить лишь те регионы, в которых вероятность убытков меньше 2.5%. Среди них выбирают регион с наибольшей средней прибылью."
   ]
  },
  {
   "cell_type": "code",
   "execution_count": 4,
   "id": "d41d930d-1d75-47b0-b4ae-efe587b31d33",
   "metadata": {},
   "outputs": [],
   "source": [
    "!pip install phik -q"
   ]
  },
  {
   "cell_type": "code",
   "execution_count": 6,
   "id": "ce7a3335-1c80-4169-a062-aa02a69610c9",
   "metadata": {},
   "outputs": [],
   "source": [
    "import pandas as pd\n",
    "import numpy as np\n",
    "import matplotlib.pyplot as plt\n",
    "from matplotlib import gridspec\n",
    "import seaborn as sns\n",
    "import phik\n",
    "from phik.report import plot_correlation_matrix\n",
    "from tqdm import tqdm\n",
    "\n",
    "\n",
    "from sklearn.neighbors import KNeighborsClassifier\n",
    "from sklearn.preprocessing import StandardScaler\n",
    "from sklearn.model_selection import train_test_split\n",
    "\n",
    "from sklearn.metrics import roc_auc_score, roc_curve, make_scorer, r2_score, mean_absolute_error, root_mean_squared_error\n",
    "\n",
    "from sklearn.model_selection import RandomizedSearchCV, GridSearchCV, cross_val_score\n",
    "\n",
    "# загружаем нужные модели\n",
    "from sklearn.linear_model import LogisticRegression, LinearRegression, Ridge, Lasso, ElasticNet\n",
    "from sklearn.neighbors import KNeighborsClassifier\n",
    "from sklearn.tree import DecisionTreeClassifier, DecisionTreeRegressor\n",
    "from sklearn.svm import SVC, LinearSVR\n",
    "from sklearn.ensemble import RandomForestRegressor, RandomForestClassifier\n",
    "from sklearn.inspection import permutation_importance\n",
    "\n",
    "from statsmodels.stats.outliers_influence import variance_inflation_factor\n",
    "from statsmodels.tools.tools import add_constant\n",
    "\n",
    "from sklearn.exceptions import ConvergenceWarning \n",
    "from sklearn.tree import export_text\n",
    "from sklearn.tree import plot_tree\n",
    "\n",
    "import warnings\n",
    "from IPython.display import Markdown as md\n",
    "warnings.simplefilter('ignore', DeprecationWarning)\n",
    "warnings.filterwarnings(\"ignore\", category=ConvergenceWarning)"
   ]
  },
  {
   "cell_type": "code",
   "execution_count": 7,
   "id": "5d270d72-0890-4e43-b0a9-f5ea11010a9e",
   "metadata": {},
   "outputs": [],
   "source": [
    "RANDOM_STATE = 42\n",
    "TEST_SIZE = .25\n",
    "DEFAULT_COLOR = '#8174A0'\n",
    "\n",
    "sns.set_theme()"
   ]
  },
  {
   "cell_type": "code",
   "execution_count": 8,
   "id": "9ace61e4-b27d-4046-a397-279dc7d48715",
   "metadata": {},
   "outputs": [],
   "source": [
    "def check_multicollinearity_vif(df):\n",
    "    temp = (df\n",
    "        .drop(columns=['id'], errors='ignore'))\n",
    "\n",
    "    numeric_cols = (temp\n",
    "                    .select_dtypes(['float64', 'int', 'int64'])\n",
    "                    .columns)\n",
    "\n",
    "    df = pd.DataFrame(temp[numeric_cols], \n",
    "                  columns=numeric_cols)\n",
    "\n",
    "    X = add_constant(df)\n",
    "\n",
    "    vif = pd.DataFrame(\n",
    "    {\n",
    "    'Variable': X.columns,\n",
    "    'VIF': [variance_inflation_factor(X.values, i) for i in range(X.shape[1])]\n",
    "    }\n",
    "    )\n",
    "    return vif"
   ]
  },
  {
   "cell_type": "code",
   "execution_count": 9,
   "id": "dd99847f-84ac-4df3-8d47-18a487d89469",
   "metadata": {},
   "outputs": [],
   "source": [
    "def analyze_residuals(residuals, predictions, model_string=None):\n",
    "    \n",
    "    fig, axes = plt.subplots(nrows=1, ncols=2, figsize=(20,5))\n",
    "    sns.histplot(residuals, ax=axes[0], color='#ECDBBA', bins=20)\n",
    "    \n",
    "    if model_string is not None:\n",
    "        axes[0].set_title(f'Гистограмма распределения остатков [{model_string}]')\n",
    "    else:\n",
    "        axes[0].set_title(f'Гистограмма распределения остатков')\n",
    "        \n",
    "    axes[0].axvline(x=residuals.mean(), label='среднее', color='red', ls='--')\n",
    "    axes[0].axvline(x=0, label='нулевой уровень', color='green')\n",
    "    \n",
    "    axes[0].legend()\n",
    "    axes[0].set_xlabel('Остатки')\n",
    "\n",
    "    axes[1].scatter(predictions, residuals)\n",
    "    \n",
    "    axes[1].axhline(y=0, color='red', ls='--')\n",
    "    \n",
    "    axes[1].set_xlabel('Предсказания модели')\n",
    "    axes[1].set_ylabel('Остатки')\n",
    "    if model_string is not None:\n",
    "        axes[1].set_title(f'Анализ дисперсии [{model_string}]')\n",
    "    else:\n",
    "        axes[1].set_title(f'Анализ дисперсии')\n",
    "        \n",
    "    plt.show()"
   ]
  },
  {
   "cell_type": "code",
   "execution_count": 10,
   "id": "d1e0b9a6-2d95-4a16-89f2-d1af529b8306",
   "metadata": {},
   "outputs": [],
   "source": [
    "def plot_graphics(df, \n",
    "                  column_name, \n",
    "                  test_df=None, \n",
    "                  bins=30, \n",
    "                  range_hist=None, \n",
    "                  hist_color='#519872', \n",
    "                  boxplot_color='#B9D2D2', \n",
    "                  col_alias='', \n",
    "                  xlabel='', \n",
    "                  ylabel='', \n",
    "                  figsize=(10, 10)):\n",
    "    \n",
    "    if test_df is not None:\n",
    "        fig, ax = plt.subplots(2, 2, figsize=figsize)\n",
    "        ax = ax.flatten()\n",
    "    \n",
    "        ax1 = sns.histplot(data=df, x=column_name, ax=ax[0], bins=bins, binrange=range_hist, color=hist_color)\n",
    "        ax1.set_title(f'[Train] Гистограмма столбца {col_alias if len(col_alias) > 0 else column_name}')\n",
    "    \n",
    "        ax2 = sns.boxplot(data=df, x=column_name, ax=ax[1], color=boxplot_color)\n",
    "        ax2.set_title(f'[Train] Коробчатая диаграмма столбца {col_alias if len(col_alias) > 0 else column_name}')\n",
    "\n",
    "    \n",
    "        ax1.set_xlabel(xlabel if len(xlabel) > 0 else 'Значения')\n",
    "        ax1.set_ylabel(ylabel if len(ylabel) > 0 else 'Количество')\n",
    "        ax2.set_xlabel(xlabel if len(xlabel) > 0 else 'Значения')\n",
    "        \n",
    "        ax1 = sns.histplot(data=test_df, x=column_name, ax=ax[2], bins=bins, binrange=range_hist, color=hist_color)\n",
    "        ax1.set_title(f'[Test] Гистограмма столбца {col_alias if len(col_alias) > 0 else column_name}')\n",
    "    \n",
    "        ax2 = sns.boxplot(data=test_df, x=column_name, ax=ax[3], color=boxplot_color)\n",
    "        ax2.set_title(f'[Test] Коробчатая диаграмма столбца {col_alias if len(col_alias) > 0 else column_name}')\n",
    "\n",
    "    \n",
    "        ax1.set_xlabel(xlabel if len(xlabel) > 0 else 'Значения')\n",
    "        ax1.set_ylabel(ylabel if len(ylabel) > 0 else 'Количество')\n",
    "        ax2.set_xlabel(xlabel if len(xlabel) > 0 else 'Значения')\n",
    "        return \n",
    "\n",
    "        \n",
    "    fig, ax = plt.subplots(1, 2, figsize=(10, 5))\n",
    "    \n",
    "    ax1 = sns.histplot(data=df, x=column_name, ax=ax[0], bins=bins, binrange=range_hist, color=hist_color)\n",
    "    ax1.set_title(f'Гистограмма столбца {col_alias if len(col_alias) > 0 else column_name}')\n",
    "    \n",
    "    ax2 = sns.boxplot(data=df, x=column_name, ax=ax[1], color=boxplot_color)\n",
    "    ax2.set_title(f'Коробчатая диаграмма столбца {col_alias if len(col_alias) > 0 else column_name}')\n",
    "\n",
    "    \n",
    "    ax1.set_xlabel(xlabel if len(xlabel) > 0 else 'Значения')\n",
    "    ax1.set_ylabel(ylabel if len(ylabel) > 0 else 'Количество')\n",
    "    ax2.set_xlabel(xlabel if len(xlabel) > 0 else 'Значения') "
   ]
  },
  {
   "cell_type": "code",
   "execution_count": 11,
   "id": "52dd3731-2ab2-409e-835f-b28e792d9124",
   "metadata": {},
   "outputs": [],
   "source": [
    "def outliers_report(df: pd.DataFrame, column_names , strategy: str):\n",
    "    report = []\n",
    "    for cn in column_names:\n",
    "        if strategy == 'triple_sigma':\n",
    "            mean = df[cn].mean()\n",
    "            std = df[cn].std()\n",
    "            report.append({\n",
    "            'column_name': cn,\n",
    "            'left outliers count': df.query(f'@mean - 3 * @std > {cn}').shape[0],\n",
    "            'left outliers %': df.query(f'@mean - 3 * @std > {cn}').shape[0] / df.shape[0] * 100,\n",
    "            \n",
    "            'right outliers count': df.query(f'@mean + 3 * @std < {cn}').shape[0],\n",
    "            'right outliers %': df.query(f'@mean + 3 * @std < {cn}').shape[0] / df.shape[0] * 100   \n",
    "        })\n",
    "        elif strategy == 'iqr':\n",
    "            q25 = df[cn].quantile(.25)\n",
    "            q75 = df[cn].quantile(.75)\n",
    "            iqr = q75 - q25\n",
    "            report.append({\n",
    "            'column_name': cn,\n",
    "            'left outliers count': df.query(f'@q25 - 1.5 * @iqr > {cn}').shape[0],\n",
    "            'left outliers %': df.query(f'@q25 - 1.5 * @iqr > {cn}').shape[0] / df.shape[0] * 100,\n",
    "            \n",
    "            'right outliers count': df.query(f'@q75 + 1.5 * @iqr < {cn}').shape[0],\n",
    "            'right outliers %': df.query(f'@q75 + 1.5 * @iqr < {cn}').shape[0] / df.shape[0] * 100 \n",
    "        })\n",
    "    return pd.DataFrame(report).round(2)\n"
   ]
  },
  {
   "cell_type": "code",
   "execution_count": 12,
   "id": "1a13a87c-195b-4d2b-a63e-caaae0ae49d2",
   "metadata": {},
   "outputs": [],
   "source": [
    "def detect_outliers(df: pd.DataFrame, column_name: str, strategy: str):\n",
    "    if strategy == 'triple_sigma':\n",
    "        mean = df[column_name].mean()\n",
    "        std = df[column_name].std()\n",
    "        return df.query(f'~( @mean - 3 * @std < {column_name} < @mean + 3 * @std)')\n",
    "    elif strategy == 'iqr':\n",
    "        q25 = df[column_name].quantile(.25)\n",
    "        q75 = df[column_name].quantile(.75)\n",
    "        iqr = q75 - q25\n",
    "        return df.query(f'~( @q25 - 1.5 * @iqr < {column_name} < @q75 + 1.5 * @iqr)')"
   ]
  },
  {
   "cell_type": "markdown",
   "id": "f4582eb5-fe09-4a22-bf9e-c220f0b1f9e3",
   "metadata": {
    "tags": []
   },
   "source": [
    "## Первый датасет"
   ]
  },
  {
   "cell_type": "code",
   "execution_count": null,
   "id": "8b7c1e81-22bf-4487-b7ee-8c31fd21f567",
   "metadata": {},
   "outputs": [],
   "source": [
    "try:\n",
    "    region_1 = pd.read_csv('/datasets/geo_data_0.csv')\n",
    "except:\n",
    "    region_1 = pd.read_csv('path')"
   ]
  },
  {
   "cell_type": "code",
   "execution_count": 14,
   "id": "762a0682-fbb5-4f3f-bd96-3fd40f2cbf5d",
   "metadata": {
    "tags": []
   },
   "outputs": [
    {
     "data": {
      "text/html": [
       "<div>\n",
       "<style scoped>\n",
       "    .dataframe tbody tr th:only-of-type {\n",
       "        vertical-align: middle;\n",
       "    }\n",
       "\n",
       "    .dataframe tbody tr th {\n",
       "        vertical-align: top;\n",
       "    }\n",
       "\n",
       "    .dataframe thead th {\n",
       "        text-align: right;\n",
       "    }\n",
       "</style>\n",
       "<table border=\"1\" class=\"dataframe\">\n",
       "  <thead>\n",
       "    <tr style=\"text-align: right;\">\n",
       "      <th></th>\n",
       "      <th>id</th>\n",
       "      <th>f0</th>\n",
       "      <th>f1</th>\n",
       "      <th>f2</th>\n",
       "      <th>product</th>\n",
       "    </tr>\n",
       "  </thead>\n",
       "  <tbody>\n",
       "    <tr>\n",
       "      <th>0</th>\n",
       "      <td>txEyH</td>\n",
       "      <td>0.705745</td>\n",
       "      <td>-0.497823</td>\n",
       "      <td>1.221170</td>\n",
       "      <td>105.280062</td>\n",
       "    </tr>\n",
       "    <tr>\n",
       "      <th>1</th>\n",
       "      <td>2acmU</td>\n",
       "      <td>1.334711</td>\n",
       "      <td>-0.340164</td>\n",
       "      <td>4.365080</td>\n",
       "      <td>73.037750</td>\n",
       "    </tr>\n",
       "    <tr>\n",
       "      <th>2</th>\n",
       "      <td>409Wp</td>\n",
       "      <td>1.022732</td>\n",
       "      <td>0.151990</td>\n",
       "      <td>1.419926</td>\n",
       "      <td>85.265647</td>\n",
       "    </tr>\n",
       "    <tr>\n",
       "      <th>3</th>\n",
       "      <td>iJLyR</td>\n",
       "      <td>-0.032172</td>\n",
       "      <td>0.139033</td>\n",
       "      <td>2.978566</td>\n",
       "      <td>168.620776</td>\n",
       "    </tr>\n",
       "    <tr>\n",
       "      <th>4</th>\n",
       "      <td>Xdl7t</td>\n",
       "      <td>1.988431</td>\n",
       "      <td>0.155413</td>\n",
       "      <td>4.751769</td>\n",
       "      <td>154.036647</td>\n",
       "    </tr>\n",
       "  </tbody>\n",
       "</table>\n",
       "</div>"
      ],
      "text/plain": [
       "      id        f0        f1        f2     product\n",
       "0  txEyH  0.705745 -0.497823  1.221170  105.280062\n",
       "1  2acmU  1.334711 -0.340164  4.365080   73.037750\n",
       "2  409Wp  1.022732  0.151990  1.419926   85.265647\n",
       "3  iJLyR -0.032172  0.139033  2.978566  168.620776\n",
       "4  Xdl7t  1.988431  0.155413  4.751769  154.036647"
      ]
     },
     "execution_count": 14,
     "metadata": {},
     "output_type": "execute_result"
    }
   ],
   "source": [
    "region_1.head()"
   ]
  },
  {
   "cell_type": "code",
   "execution_count": 15,
   "id": "be82fe9e-c1ab-4df2-bb6f-0fd948083e71",
   "metadata": {
    "tags": []
   },
   "outputs": [
    {
     "name": "stdout",
     "output_type": "stream",
     "text": [
      "<class 'pandas.core.frame.DataFrame'>\n",
      "RangeIndex: 100000 entries, 0 to 99999\n",
      "Data columns (total 5 columns):\n",
      " #   Column   Non-Null Count   Dtype  \n",
      "---  ------   --------------   -----  \n",
      " 0   id       100000 non-null  object \n",
      " 1   f0       100000 non-null  float64\n",
      " 2   f1       100000 non-null  float64\n",
      " 3   f2       100000 non-null  float64\n",
      " 4   product  100000 non-null  float64\n",
      "dtypes: float64(4), object(1)\n",
      "memory usage: 3.8+ MB\n"
     ]
    }
   ],
   "source": [
    "region_1.info()"
   ]
  },
  {
   "cell_type": "code",
   "execution_count": 16,
   "id": "a34e9d50-c285-4837-941a-f092c660e3c9",
   "metadata": {
    "tags": []
   },
   "outputs": [
    {
     "data": {
      "image/png": "[encoded data removed]",
      "text/plain": [
       "<Figure size 720x576 with 4 Axes>"
      ]
     },
     "metadata": {
      "needs_background": "light"
     },
     "output_type": "display_data"
    }
   ],
   "source": [
    "region_1.hist(figsize=(10, 8), color=DEFAULT_COLOR);"
   ]
  },
  {
   "cell_type": "markdown",
   "id": "44c8d51b-c996-4e13-8608-ae04f2d921db",
   "metadata": {},
   "source": [
    "- аномально высоких значений не наблюдается"
   ]
  },
  {
   "cell_type": "code",
   "execution_count": 17,
   "id": "cb1e557d-e384-455a-9f46-f25eec8172d6",
   "metadata": {},
   "outputs": [
    {
     "data": {
      "text/html": [
       "<div>\n",
       "<style scoped>\n",
       "    .dataframe tbody tr th:only-of-type {\n",
       "        vertical-align: middle;\n",
       "    }\n",
       "\n",
       "    .dataframe tbody tr th {\n",
       "        vertical-align: top;\n",
       "    }\n",
       "\n",
       "    .dataframe thead th {\n",
       "        text-align: right;\n",
       "    }\n",
       "</style>\n",
       "<table border=\"1\" class=\"dataframe\">\n",
       "  <thead>\n",
       "    <tr style=\"text-align: right;\">\n",
       "      <th></th>\n",
       "      <th>f0</th>\n",
       "      <th>f1</th>\n",
       "      <th>f2</th>\n",
       "      <th>product</th>\n",
       "    </tr>\n",
       "  </thead>\n",
       "  <tbody>\n",
       "    <tr>\n",
       "      <th>count</th>\n",
       "      <td>100000.000000</td>\n",
       "      <td>100000.000000</td>\n",
       "      <td>100000.000000</td>\n",
       "      <td>100000.000000</td>\n",
       "    </tr>\n",
       "    <tr>\n",
       "      <th>mean</th>\n",
       "      <td>0.500419</td>\n",
       "      <td>0.250143</td>\n",
       "      <td>2.502647</td>\n",
       "      <td>92.500000</td>\n",
       "    </tr>\n",
       "    <tr>\n",
       "      <th>std</th>\n",
       "      <td>0.871832</td>\n",
       "      <td>0.504433</td>\n",
       "      <td>3.248248</td>\n",
       "      <td>44.288691</td>\n",
       "    </tr>\n",
       "    <tr>\n",
       "      <th>min</th>\n",
       "      <td>-1.408605</td>\n",
       "      <td>-0.848218</td>\n",
       "      <td>-12.088328</td>\n",
       "      <td>0.000000</td>\n",
       "    </tr>\n",
       "    <tr>\n",
       "      <th>25%</th>\n",
       "      <td>-0.072580</td>\n",
       "      <td>-0.200881</td>\n",
       "      <td>0.287748</td>\n",
       "      <td>56.497507</td>\n",
       "    </tr>\n",
       "    <tr>\n",
       "      <th>50%</th>\n",
       "      <td>0.502360</td>\n",
       "      <td>0.250252</td>\n",
       "      <td>2.515969</td>\n",
       "      <td>91.849972</td>\n",
       "    </tr>\n",
       "    <tr>\n",
       "      <th>75%</th>\n",
       "      <td>1.073581</td>\n",
       "      <td>0.700646</td>\n",
       "      <td>4.715088</td>\n",
       "      <td>128.564089</td>\n",
       "    </tr>\n",
       "    <tr>\n",
       "      <th>max</th>\n",
       "      <td>2.362331</td>\n",
       "      <td>1.343769</td>\n",
       "      <td>16.003790</td>\n",
       "      <td>185.364347</td>\n",
       "    </tr>\n",
       "  </tbody>\n",
       "</table>\n",
       "</div>"
      ],
      "text/plain": [
       "                  f0             f1             f2        product\n",
       "count  100000.000000  100000.000000  100000.000000  100000.000000\n",
       "mean        0.500419       0.250143       2.502647      92.500000\n",
       "std         0.871832       0.504433       3.248248      44.288691\n",
       "min        -1.408605      -0.848218     -12.088328       0.000000\n",
       "25%        -0.072580      -0.200881       0.287748      56.497507\n",
       "50%         0.502360       0.250252       2.515969      91.849972\n",
       "75%         1.073581       0.700646       4.715088     128.564089\n",
       "max         2.362331       1.343769      16.003790     185.364347"
      ]
     },
     "execution_count": 17,
     "metadata": {},
     "output_type": "execute_result"
    }
   ],
   "source": [
    "region_1.describe()"
   ]
  },
  {
   "cell_type": "markdown",
   "id": "8d51d9b7-5433-4a57-8f0e-7310caa141f5",
   "metadata": {},
   "source": [
    "### Исследование на пропуски"
   ]
  },
  {
   "cell_type": "code",
   "execution_count": 18,
   "id": "099931b1-2a0d-4ec6-bff0-e06214e5b0ee",
   "metadata": {},
   "outputs": [
    {
     "data": {
      "text/plain": [
       "id         0\n",
       "f0         0\n",
       "f1         0\n",
       "f2         0\n",
       "product    0\n",
       "dtype: int64"
      ]
     },
     "execution_count": 18,
     "metadata": {},
     "output_type": "execute_result"
    }
   ],
   "source": [
    "region_1.isna().sum()"
   ]
  },
  {
   "cell_type": "markdown",
   "id": "a676643c-40f7-4958-adea-b0b54f17514f",
   "metadata": {},
   "source": [
    "- пропуски в данных отсутствуют"
   ]
  },
  {
   "cell_type": "markdown",
   "id": "948a89cd-bb9d-4b0b-83b0-4d285dd9c11f",
   "metadata": {},
   "source": [
    "### Исследование на явные дубликаты"
   ]
  },
  {
   "cell_type": "code",
   "execution_count": 19,
   "id": "0a2f34ae-4c1b-404a-a435-dafb7a019182",
   "metadata": {},
   "outputs": [
    {
     "data": {
      "text/plain": [
       "0"
      ]
     },
     "execution_count": 19,
     "metadata": {},
     "output_type": "execute_result"
    }
   ],
   "source": [
    "region_1.duplicated().sum()"
   ]
  },
  {
   "cell_type": "markdown",
   "id": "383fe1f0-a6db-47f9-af36-d7619266e622",
   "metadata": {},
   "source": [
    "- явных дубликатов в данных нет"
   ]
  },
  {
   "cell_type": "markdown",
   "id": "a2496b0f-9af6-4a9d-9ba9-6659e1fc8b5c",
   "metadata": {},
   "source": [
    "### Исследование на неявные дубликаты"
   ]
  },
  {
   "cell_type": "code",
   "execution_count": 20,
   "id": "e32c824b-d3ae-4d24-b9c5-56fc6997cd66",
   "metadata": {},
   "outputs": [
    {
     "data": {
      "text/plain": [
       "10"
      ]
     },
     "execution_count": 20,
     "metadata": {},
     "output_type": "execute_result"
    }
   ],
   "source": [
    "region_1.id.duplicated().sum()"
   ]
  },
  {
   "cell_type": "code",
   "execution_count": 21,
   "id": "86583860-3dcd-42ed-a094-bf6ec0cc1232",
   "metadata": {},
   "outputs": [
    {
     "data": {
      "text/html": [
       "<div>\n",
       "<style scoped>\n",
       "    .dataframe tbody tr th:only-of-type {\n",
       "        vertical-align: middle;\n",
       "    }\n",
       "\n",
       "    .dataframe tbody tr th {\n",
       "        vertical-align: top;\n",
       "    }\n",
       "\n",
       "    .dataframe thead th {\n",
       "        text-align: right;\n",
       "    }\n",
       "</style>\n",
       "<table border=\"1\" class=\"dataframe\">\n",
       "  <thead>\n",
       "    <tr style=\"text-align: right;\">\n",
       "      <th></th>\n",
       "      <th>id</th>\n",
       "      <th>f0</th>\n",
       "      <th>f1</th>\n",
       "      <th>f2</th>\n",
       "      <th>product</th>\n",
       "    </tr>\n",
       "  </thead>\n",
       "  <tbody>\n",
       "    <tr>\n",
       "      <th>931</th>\n",
       "      <td>HZww2</td>\n",
       "      <td>0.755284</td>\n",
       "      <td>0.368511</td>\n",
       "      <td>1.863211</td>\n",
       "      <td>30.681774</td>\n",
       "    </tr>\n",
       "    <tr>\n",
       "      <th>1364</th>\n",
       "      <td>bxg6G</td>\n",
       "      <td>0.411645</td>\n",
       "      <td>0.856830</td>\n",
       "      <td>-3.653440</td>\n",
       "      <td>73.604260</td>\n",
       "    </tr>\n",
       "    <tr>\n",
       "      <th>1949</th>\n",
       "      <td>QcMuo</td>\n",
       "      <td>0.506563</td>\n",
       "      <td>-0.323775</td>\n",
       "      <td>-2.215583</td>\n",
       "      <td>75.496502</td>\n",
       "    </tr>\n",
       "    <tr>\n",
       "      <th>3389</th>\n",
       "      <td>A5aEY</td>\n",
       "      <td>-0.039949</td>\n",
       "      <td>0.156872</td>\n",
       "      <td>0.209861</td>\n",
       "      <td>89.249364</td>\n",
       "    </tr>\n",
       "    <tr>\n",
       "      <th>7530</th>\n",
       "      <td>HZww2</td>\n",
       "      <td>1.061194</td>\n",
       "      <td>-0.373969</td>\n",
       "      <td>10.430210</td>\n",
       "      <td>158.828695</td>\n",
       "    </tr>\n",
       "    <tr>\n",
       "      <th>16633</th>\n",
       "      <td>fiKDv</td>\n",
       "      <td>0.157341</td>\n",
       "      <td>1.028359</td>\n",
       "      <td>5.585586</td>\n",
       "      <td>95.817889</td>\n",
       "    </tr>\n",
       "    <tr>\n",
       "      <th>21426</th>\n",
       "      <td>Tdehs</td>\n",
       "      <td>0.829407</td>\n",
       "      <td>0.298807</td>\n",
       "      <td>-0.049563</td>\n",
       "      <td>96.035308</td>\n",
       "    </tr>\n",
       "    <tr>\n",
       "      <th>41724</th>\n",
       "      <td>bxg6G</td>\n",
       "      <td>-0.823752</td>\n",
       "      <td>0.546319</td>\n",
       "      <td>3.630479</td>\n",
       "      <td>93.007798</td>\n",
       "    </tr>\n",
       "    <tr>\n",
       "      <th>42529</th>\n",
       "      <td>AGS9W</td>\n",
       "      <td>1.454747</td>\n",
       "      <td>-0.479651</td>\n",
       "      <td>0.683380</td>\n",
       "      <td>126.370504</td>\n",
       "    </tr>\n",
       "    <tr>\n",
       "      <th>51970</th>\n",
       "      <td>A5aEY</td>\n",
       "      <td>-0.180335</td>\n",
       "      <td>0.935548</td>\n",
       "      <td>-2.094773</td>\n",
       "      <td>33.020205</td>\n",
       "    </tr>\n",
       "    <tr>\n",
       "      <th>60140</th>\n",
       "      <td>TtcGQ</td>\n",
       "      <td>0.569276</td>\n",
       "      <td>-0.104876</td>\n",
       "      <td>6.440215</td>\n",
       "      <td>85.350186</td>\n",
       "    </tr>\n",
       "    <tr>\n",
       "      <th>63593</th>\n",
       "      <td>QcMuo</td>\n",
       "      <td>0.635635</td>\n",
       "      <td>-0.473422</td>\n",
       "      <td>0.862670</td>\n",
       "      <td>64.578675</td>\n",
       "    </tr>\n",
       "    <tr>\n",
       "      <th>64022</th>\n",
       "      <td>74z30</td>\n",
       "      <td>0.741456</td>\n",
       "      <td>0.459229</td>\n",
       "      <td>5.153109</td>\n",
       "      <td>140.771492</td>\n",
       "    </tr>\n",
       "    <tr>\n",
       "      <th>66136</th>\n",
       "      <td>74z30</td>\n",
       "      <td>1.084962</td>\n",
       "      <td>-0.312358</td>\n",
       "      <td>6.990771</td>\n",
       "      <td>127.643327</td>\n",
       "    </tr>\n",
       "    <tr>\n",
       "      <th>69163</th>\n",
       "      <td>AGS9W</td>\n",
       "      <td>-0.933795</td>\n",
       "      <td>0.116194</td>\n",
       "      <td>-3.655896</td>\n",
       "      <td>19.230453</td>\n",
       "    </tr>\n",
       "    <tr>\n",
       "      <th>75715</th>\n",
       "      <td>Tdehs</td>\n",
       "      <td>0.112079</td>\n",
       "      <td>0.430296</td>\n",
       "      <td>3.218993</td>\n",
       "      <td>60.964018</td>\n",
       "    </tr>\n",
       "    <tr>\n",
       "      <th>89582</th>\n",
       "      <td>bsk9y</td>\n",
       "      <td>0.398908</td>\n",
       "      <td>-0.400253</td>\n",
       "      <td>10.122376</td>\n",
       "      <td>163.433078</td>\n",
       "    </tr>\n",
       "    <tr>\n",
       "      <th>90815</th>\n",
       "      <td>fiKDv</td>\n",
       "      <td>0.049883</td>\n",
       "      <td>0.841313</td>\n",
       "      <td>6.394613</td>\n",
       "      <td>137.346586</td>\n",
       "    </tr>\n",
       "    <tr>\n",
       "      <th>92341</th>\n",
       "      <td>TtcGQ</td>\n",
       "      <td>0.110711</td>\n",
       "      <td>1.022689</td>\n",
       "      <td>0.911381</td>\n",
       "      <td>101.318008</td>\n",
       "    </tr>\n",
       "    <tr>\n",
       "      <th>97785</th>\n",
       "      <td>bsk9y</td>\n",
       "      <td>0.378429</td>\n",
       "      <td>0.005837</td>\n",
       "      <td>0.160827</td>\n",
       "      <td>160.637302</td>\n",
       "    </tr>\n",
       "  </tbody>\n",
       "</table>\n",
       "</div>"
      ],
      "text/plain": [
       "          id        f0        f1         f2     product\n",
       "931    HZww2  0.755284  0.368511   1.863211   30.681774\n",
       "1364   bxg6G  0.411645  0.856830  -3.653440   73.604260\n",
       "1949   QcMuo  0.506563 -0.323775  -2.215583   75.496502\n",
       "3389   A5aEY -0.039949  0.156872   0.209861   89.249364\n",
       "7530   HZww2  1.061194 -0.373969  10.430210  158.828695\n",
       "16633  fiKDv  0.157341  1.028359   5.585586   95.817889\n",
       "21426  Tdehs  0.829407  0.298807  -0.049563   96.035308\n",
       "41724  bxg6G -0.823752  0.546319   3.630479   93.007798\n",
       "42529  AGS9W  1.454747 -0.479651   0.683380  126.370504\n",
       "51970  A5aEY -0.180335  0.935548  -2.094773   33.020205\n",
       "60140  TtcGQ  0.569276 -0.104876   6.440215   85.350186\n",
       "63593  QcMuo  0.635635 -0.473422   0.862670   64.578675\n",
       "64022  74z30  0.741456  0.459229   5.153109  140.771492\n",
       "66136  74z30  1.084962 -0.312358   6.990771  127.643327\n",
       "69163  AGS9W -0.933795  0.116194  -3.655896   19.230453\n",
       "75715  Tdehs  0.112079  0.430296   3.218993   60.964018\n",
       "89582  bsk9y  0.398908 -0.400253  10.122376  163.433078\n",
       "90815  fiKDv  0.049883  0.841313   6.394613  137.346586\n",
       "92341  TtcGQ  0.110711  1.022689   0.911381  101.318008\n",
       "97785  bsk9y  0.378429  0.005837   0.160827  160.637302"
      ]
     },
     "execution_count": 21,
     "metadata": {},
     "output_type": "execute_result"
    }
   ],
   "source": [
    "region_1[region_1.id.isin(region_1[region_1.id.duplicated()].id)]"
   ]
  },
  {
   "cell_type": "markdown",
   "id": "730c51fe-e8e9-4ff4-acdf-739724add660",
   "metadata": {},
   "source": [
    "- В датасете есть дублирующие уникальные идентификаторы, однак им соответствуют разные данные в других столбцах"
   ]
  },
  {
   "cell_type": "markdown",
   "id": "dc967507-2d87-40a5-a300-bc4fb5f57183",
   "metadata": {},
   "source": [
    "### Исследование столбца `f0`"
   ]
  },
  {
   "cell_type": "code",
   "execution_count": 22,
   "id": "64208d80-e31b-4495-85d2-58dd99abae36",
   "metadata": {},
   "outputs": [
    {
     "data": {
      "image/png": "[encoded data removed]",
      "text/plain": [
       "<Figure size 720x360 with 2 Axes>"
      ]
     },
     "metadata": {
      "needs_background": "light"
     },
     "output_type": "display_data"
    }
   ],
   "source": [
    "plot_graphics(df=region_1, column_name='f0')"
   ]
  },
  {
   "cell_type": "markdown",
   "id": "f1997bad-8cbf-4445-a14c-ae6251a9efb9",
   "metadata": {},
   "source": [
    "- Наблюдается бимодальность в распределении признака. Два больших пика в области 0 и 1"
   ]
  },
  {
   "cell_type": "markdown",
   "id": "0c96bd31-f94f-41e4-bedf-0f25ea5a890e",
   "metadata": {},
   "source": [
    "### Исследование столбца `f1`"
   ]
  },
  {
   "cell_type": "code",
   "execution_count": 23,
   "id": "462c0bb7-ac74-4a6c-8cc0-191e66bf2ba9",
   "metadata": {},
   "outputs": [
    {
     "data": {
      "image/png": "[encoded data removed]",
      "text/plain": [
       "<Figure size 720x360 with 2 Axes>"
      ]
     },
     "metadata": {
      "needs_background": "light"
     },
     "output_type": "display_data"
    }
   ],
   "source": [
    "plot_graphics(df=region_1, column_name='f1')"
   ]
  },
  {
   "cell_type": "markdown",
   "id": "fa2a6b7b-f81a-4114-83e9-817452cfa800",
   "metadata": {},
   "source": [
    "- Наблюдается бимодальность в распределении признака. Два больших пика в области -0.5 и 1"
   ]
  },
  {
   "cell_type": "markdown",
   "id": "8eba687e-9f12-4a80-b6c5-fa6b16c08b45",
   "metadata": {},
   "source": [
    "### Исследование столбца `f2`"
   ]
  },
  {
   "cell_type": "code",
   "execution_count": 24,
   "id": "7eb895c6-3d1e-4edf-ada9-a726049e32df",
   "metadata": {},
   "outputs": [
    {
     "data": {
      "image/png": "[encoded data removed]",
      "text/plain": [
       "<Figure size 720x360 with 2 Axes>"
      ]
     },
     "metadata": {
      "needs_background": "light"
     },
     "output_type": "display_data"
    }
   ],
   "source": [
    "plot_graphics(df=region_1, column_name='f2', bins=50)"
   ]
  },
  {
   "cell_type": "markdown",
   "id": "cb597945-33e1-4c85-ab17-1090ac118c18",
   "metadata": {},
   "source": [
    "- Распределение колоколообразное, по коробчатой диаграмме видны выбросы"
   ]
  },
  {
   "cell_type": "code",
   "execution_count": 25,
   "id": "f5fda0a4-26ba-4d9f-9937-d513bd879afe",
   "metadata": {},
   "outputs": [
    {
     "data": {
      "text/html": [
       "<div>\n",
       "<style scoped>\n",
       "    .dataframe tbody tr th:only-of-type {\n",
       "        vertical-align: middle;\n",
       "    }\n",
       "\n",
       "    .dataframe tbody tr th {\n",
       "        vertical-align: top;\n",
       "    }\n",
       "\n",
       "    .dataframe thead th {\n",
       "        text-align: right;\n",
       "    }\n",
       "</style>\n",
       "<table border=\"1\" class=\"dataframe\">\n",
       "  <thead>\n",
       "    <tr style=\"text-align: right;\">\n",
       "      <th></th>\n",
       "      <th>column_name</th>\n",
       "      <th>left outliers count</th>\n",
       "      <th>left outliers %</th>\n",
       "      <th>right outliers count</th>\n",
       "      <th>right outliers %</th>\n",
       "    </tr>\n",
       "  </thead>\n",
       "  <tbody>\n",
       "    <tr>\n",
       "      <th>0</th>\n",
       "      <td>f2</td>\n",
       "      <td>258</td>\n",
       "      <td>0.26</td>\n",
       "      <td>248</td>\n",
       "      <td>0.25</td>\n",
       "    </tr>\n",
       "  </tbody>\n",
       "</table>\n",
       "</div>"
      ],
      "text/plain": [
       "  column_name  left outliers count  left outliers %  right outliers count  \\\n",
       "0          f2                  258             0.26                   248   \n",
       "\n",
       "   right outliers %  \n",
       "0              0.25  "
      ]
     },
     "execution_count": 25,
     "metadata": {},
     "output_type": "execute_result"
    }
   ],
   "source": [
    "outliers_report(df=region_1, column_names=['f2'], strategy='iqr')"
   ]
  },
  {
   "cell_type": "markdown",
   "id": "6d5baaf3-ab04-4ed0-a95b-0d557572e5f0",
   "metadata": {},
   "source": [
    "- Аномальных значений по стратегии интерквартильного размаха около половины процента"
   ]
  },
  {
   "cell_type": "markdown",
   "id": "c17af009-9734-4294-af13-0abe256d8fd7",
   "metadata": {},
   "source": [
    "### Исследование столбца `product`"
   ]
  },
  {
   "cell_type": "code",
   "execution_count": 26,
   "id": "8471ed5d-2ba7-45ca-820b-590cf344dfe7",
   "metadata": {},
   "outputs": [
    {
     "data": {
      "image/png": "[encoded data removed]",
      "text/plain": [
       "<Figure size 720x360 with 2 Axes>"
      ]
     },
     "metadata": {
      "needs_background": "light"
     },
     "output_type": "display_data"
    }
   ],
   "source": [
    "plot_graphics(df=region_1, column_name='product')"
   ]
  },
  {
   "cell_type": "markdown",
   "id": "76634767-aff0-42b3-8618-71dd216f0a03",
   "metadata": {
    "tags": []
   },
   "source": [
    "### Корреляционный анализ"
   ]
  },
  {
   "cell_type": "code",
   "execution_count": 27,
   "id": "7fb8dcfa-2dfa-465a-b16c-0c42ce482280",
   "metadata": {},
   "outputs": [
    {
     "data": {
      "image/png": "[encoded data removed]",
      "text/plain": [
       "<Figure size 360x360 with 2 Axes>"
      ]
     },
     "metadata": {
      "needs_background": "light"
     },
     "output_type": "display_data"
    }
   ],
   "source": [
    "phik_overview = region_1.drop(columns='id').phik_matrix(interval_cols=['f0', 'f1', 'f2', 'product'])\n",
    "\n",
    "plot_correlation_matrix(\n",
    "    phik_overview.values,\n",
    "    x_labels=phik_overview.columns,\n",
    "    y_labels=phik_overview.index,\n",
    "    vmin=0, vmax=1, color_map='Greens',\n",
    "    title=r'correlation $\\phi_K$',\n",
    "    fontsize_factor=1.5,\n",
    "    figsize=(5, 5)) \n",
    "\n",
    "warnings.filterwarnings(\"ignore\", category=UserWarning)"
   ]
  },
  {
   "cell_type": "markdown",
   "id": "944666ee-3cb9-48dd-a971-0bdf43963edf",
   "metadata": {},
   "source": [
    "### Исследование мультиколлинеарности"
   ]
  },
  {
   "cell_type": "code",
   "execution_count": 28,
   "id": "67992117-23c7-40a8-a328-a69cd81518f2",
   "metadata": {},
   "outputs": [
    {
     "data": {
      "text/html": [
       "<div>\n",
       "<style scoped>\n",
       "    .dataframe tbody tr th:only-of-type {\n",
       "        vertical-align: middle;\n",
       "    }\n",
       "\n",
       "    .dataframe tbody tr th {\n",
       "        vertical-align: top;\n",
       "    }\n",
       "\n",
       "    .dataframe thead th {\n",
       "        text-align: right;\n",
       "    }\n",
       "</style>\n",
       "<table border=\"1\" class=\"dataframe\">\n",
       "  <thead>\n",
       "    <tr style=\"text-align: right;\">\n",
       "      <th></th>\n",
       "      <th>Variable</th>\n",
       "      <th>VIF</th>\n",
       "    </tr>\n",
       "  </thead>\n",
       "  <tbody>\n",
       "    <tr>\n",
       "      <th>0</th>\n",
       "      <td>const</td>\n",
       "      <td>6.861281</td>\n",
       "    </tr>\n",
       "    <tr>\n",
       "      <th>1</th>\n",
       "      <td>f0</td>\n",
       "      <td>1.248703</td>\n",
       "    </tr>\n",
       "    <tr>\n",
       "      <th>2</th>\n",
       "      <td>f1</td>\n",
       "      <td>1.276589</td>\n",
       "    </tr>\n",
       "    <tr>\n",
       "      <th>3</th>\n",
       "      <td>f2</td>\n",
       "      <td>1.323671</td>\n",
       "    </tr>\n",
       "    <tr>\n",
       "      <th>4</th>\n",
       "      <td>product</td>\n",
       "      <td>1.380659</td>\n",
       "    </tr>\n",
       "  </tbody>\n",
       "</table>\n",
       "</div>"
      ],
      "text/plain": [
       "  Variable       VIF\n",
       "0    const  6.861281\n",
       "1       f0  1.248703\n",
       "2       f1  1.276589\n",
       "3       f2  1.323671\n",
       "4  product  1.380659"
      ]
     },
     "execution_count": 28,
     "metadata": {},
     "output_type": "execute_result"
    }
   ],
   "source": [
    "check_multicollinearity_vif(region_1)"
   ]
  },
  {
   "cell_type": "markdown",
   "id": "9005f0aa-f703-4515-afbe-ba557d117d04",
   "metadata": {},
   "source": [
    "- Данные не содержат пропусков и явных дубликатов.  \n",
    "- В датасете есть дублирующие уникальные идентификаторы, однако им соответствуют разные данные в других столбцах\n",
    "- Аномально высокие значения на гистограммах не выявлены.  \n",
    "- Признаки `f0` и `f1` имеют бимодальное распределение:  \n",
    "  - `f0` — два выраженных пика в области 0 и 1.  \n",
    "  - `f1` — два выраженных пика в области -0.5 и 1.  \n",
    "- Признак `f2` имеет колоколообразное распределение, при этом около 0.5% значений являются выбросами (по коробчатой диаграмме).  \n",
    "- Между признаками `f0` и `f1` наблюдается высокая взаимосвязь.  \n",
    "- Признаков мультиколлинеарности не обнаружено."
   ]
  },
  {
   "cell_type": "markdown",
   "id": "5add8b0f-e605-490e-be7f-54152eaaf226",
   "metadata": {
    "tags": []
   },
   "source": [
    "# Второй датасет"
   ]
  },
  {
   "cell_type": "code",
   "execution_count": null,
   "id": "94f68fb2-728b-4a87-b174-392076ad441f",
   "metadata": {},
   "outputs": [],
   "source": [
    "try:\n",
    "    region_2 = pd.read_csv('/datasets/geo_data_1.csv')\n",
    "except:\n",
    "    region_2 = pd.read_csv('path')"
   ]
  },
  {
   "cell_type": "code",
   "execution_count": 30,
   "id": "e245a9d5-68a9-4fe8-830a-f7531b6216d1",
   "metadata": {
    "tags": []
   },
   "outputs": [
    {
     "data": {
      "text/html": [
       "<div>\n",
       "<style scoped>\n",
       "    .dataframe tbody tr th:only-of-type {\n",
       "        vertical-align: middle;\n",
       "    }\n",
       "\n",
       "    .dataframe tbody tr th {\n",
       "        vertical-align: top;\n",
       "    }\n",
       "\n",
       "    .dataframe thead th {\n",
       "        text-align: right;\n",
       "    }\n",
       "</style>\n",
       "<table border=\"1\" class=\"dataframe\">\n",
       "  <thead>\n",
       "    <tr style=\"text-align: right;\">\n",
       "      <th></th>\n",
       "      <th>id</th>\n",
       "      <th>f0</th>\n",
       "      <th>f1</th>\n",
       "      <th>f2</th>\n",
       "      <th>product</th>\n",
       "    </tr>\n",
       "  </thead>\n",
       "  <tbody>\n",
       "    <tr>\n",
       "      <th>0</th>\n",
       "      <td>kBEdx</td>\n",
       "      <td>-15.001348</td>\n",
       "      <td>-8.276000</td>\n",
       "      <td>-0.005876</td>\n",
       "      <td>3.179103</td>\n",
       "    </tr>\n",
       "    <tr>\n",
       "      <th>1</th>\n",
       "      <td>62mP7</td>\n",
       "      <td>14.272088</td>\n",
       "      <td>-3.475083</td>\n",
       "      <td>0.999183</td>\n",
       "      <td>26.953261</td>\n",
       "    </tr>\n",
       "    <tr>\n",
       "      <th>2</th>\n",
       "      <td>vyE1P</td>\n",
       "      <td>6.263187</td>\n",
       "      <td>-5.948386</td>\n",
       "      <td>5.001160</td>\n",
       "      <td>134.766305</td>\n",
       "    </tr>\n",
       "    <tr>\n",
       "      <th>3</th>\n",
       "      <td>KcrkZ</td>\n",
       "      <td>-13.081196</td>\n",
       "      <td>-11.506057</td>\n",
       "      <td>4.999415</td>\n",
       "      <td>137.945408</td>\n",
       "    </tr>\n",
       "    <tr>\n",
       "      <th>4</th>\n",
       "      <td>AHL4O</td>\n",
       "      <td>12.702195</td>\n",
       "      <td>-8.147433</td>\n",
       "      <td>5.004363</td>\n",
       "      <td>134.766305</td>\n",
       "    </tr>\n",
       "  </tbody>\n",
       "</table>\n",
       "</div>"
      ],
      "text/plain": [
       "      id         f0         f1        f2     product\n",
       "0  kBEdx -15.001348  -8.276000 -0.005876    3.179103\n",
       "1  62mP7  14.272088  -3.475083  0.999183   26.953261\n",
       "2  vyE1P   6.263187  -5.948386  5.001160  134.766305\n",
       "3  KcrkZ -13.081196 -11.506057  4.999415  137.945408\n",
       "4  AHL4O  12.702195  -8.147433  5.004363  134.766305"
      ]
     },
     "execution_count": 30,
     "metadata": {},
     "output_type": "execute_result"
    }
   ],
   "source": [
    "region_2.head()"
   ]
  },
  {
   "cell_type": "code",
   "execution_count": 31,
   "id": "3dbf14b7-5490-4bba-b07d-01ca20ad1033",
   "metadata": {
    "jupyter": {
     "source_hidden": true
    },
    "tags": []
   },
   "outputs": [
    {
     "name": "stdout",
     "output_type": "stream",
     "text": [
      "<class 'pandas.core.frame.DataFrame'>\n",
      "RangeIndex: 100000 entries, 0 to 99999\n",
      "Data columns (total 5 columns):\n",
      " #   Column   Non-Null Count   Dtype  \n",
      "---  ------   --------------   -----  \n",
      " 0   id       100000 non-null  object \n",
      " 1   f0       100000 non-null  float64\n",
      " 2   f1       100000 non-null  float64\n",
      " 3   f2       100000 non-null  float64\n",
      " 4   product  100000 non-null  float64\n",
      "dtypes: float64(4), object(1)\n",
      "memory usage: 3.8+ MB\n"
     ]
    }
   ],
   "source": [
    "region_1.info()"
   ]
  },
  {
   "cell_type": "code",
   "execution_count": 32,
   "id": "77659fe0-38e3-4480-ba75-41d101d38132",
   "metadata": {
    "tags": []
   },
   "outputs": [
    {
     "data": {
      "image/png": "[encoded data removed]",
      "text/plain": [
       "<Figure size 720x576 with 4 Axes>"
      ]
     },
     "metadata": {
      "needs_background": "light"
     },
     "output_type": "display_data"
    }
   ],
   "source": [
    "region_2.hist(figsize=(10, 8), color=DEFAULT_COLOR);"
   ]
  },
  {
   "cell_type": "code",
   "execution_count": 33,
   "id": "38dea3ac-3291-4db6-bc46-a2c5aeed5d0d",
   "metadata": {},
   "outputs": [
    {
     "data": {
      "text/html": [
       "<div>\n",
       "<style scoped>\n",
       "    .dataframe tbody tr th:only-of-type {\n",
       "        vertical-align: middle;\n",
       "    }\n",
       "\n",
       "    .dataframe tbody tr th {\n",
       "        vertical-align: top;\n",
       "    }\n",
       "\n",
       "    .dataframe thead th {\n",
       "        text-align: right;\n",
       "    }\n",
       "</style>\n",
       "<table border=\"1\" class=\"dataframe\">\n",
       "  <thead>\n",
       "    <tr style=\"text-align: right;\">\n",
       "      <th></th>\n",
       "      <th>f0</th>\n",
       "      <th>f1</th>\n",
       "      <th>f2</th>\n",
       "      <th>product</th>\n",
       "    </tr>\n",
       "  </thead>\n",
       "  <tbody>\n",
       "    <tr>\n",
       "      <th>count</th>\n",
       "      <td>100000.000000</td>\n",
       "      <td>100000.000000</td>\n",
       "      <td>100000.000000</td>\n",
       "      <td>100000.000000</td>\n",
       "    </tr>\n",
       "    <tr>\n",
       "      <th>mean</th>\n",
       "      <td>1.141296</td>\n",
       "      <td>-4.796579</td>\n",
       "      <td>2.494541</td>\n",
       "      <td>68.825000</td>\n",
       "    </tr>\n",
       "    <tr>\n",
       "      <th>std</th>\n",
       "      <td>8.965932</td>\n",
       "      <td>5.119872</td>\n",
       "      <td>1.703572</td>\n",
       "      <td>45.944423</td>\n",
       "    </tr>\n",
       "    <tr>\n",
       "      <th>min</th>\n",
       "      <td>-31.609576</td>\n",
       "      <td>-26.358598</td>\n",
       "      <td>-0.018144</td>\n",
       "      <td>0.000000</td>\n",
       "    </tr>\n",
       "    <tr>\n",
       "      <th>25%</th>\n",
       "      <td>-6.298551</td>\n",
       "      <td>-8.267985</td>\n",
       "      <td>1.000021</td>\n",
       "      <td>26.953261</td>\n",
       "    </tr>\n",
       "    <tr>\n",
       "      <th>50%</th>\n",
       "      <td>1.153055</td>\n",
       "      <td>-4.813172</td>\n",
       "      <td>2.011479</td>\n",
       "      <td>57.085625</td>\n",
       "    </tr>\n",
       "    <tr>\n",
       "      <th>75%</th>\n",
       "      <td>8.621015</td>\n",
       "      <td>-1.332816</td>\n",
       "      <td>3.999904</td>\n",
       "      <td>107.813044</td>\n",
       "    </tr>\n",
       "    <tr>\n",
       "      <th>max</th>\n",
       "      <td>29.421755</td>\n",
       "      <td>18.734063</td>\n",
       "      <td>5.019721</td>\n",
       "      <td>137.945408</td>\n",
       "    </tr>\n",
       "  </tbody>\n",
       "</table>\n",
       "</div>"
      ],
      "text/plain": [
       "                  f0             f1             f2        product\n",
       "count  100000.000000  100000.000000  100000.000000  100000.000000\n",
       "mean        1.141296      -4.796579       2.494541      68.825000\n",
       "std         8.965932       5.119872       1.703572      45.944423\n",
       "min       -31.609576     -26.358598      -0.018144       0.000000\n",
       "25%        -6.298551      -8.267985       1.000021      26.953261\n",
       "50%         1.153055      -4.813172       2.011479      57.085625\n",
       "75%         8.621015      -1.332816       3.999904     107.813044\n",
       "max        29.421755      18.734063       5.019721     137.945408"
      ]
     },
     "execution_count": 33,
     "metadata": {},
     "output_type": "execute_result"
    }
   ],
   "source": [
    "region_2.describe()"
   ]
  },
  {
   "cell_type": "markdown",
   "id": "7a077c0f-1016-4e3c-baea-6dedb8bc587e",
   "metadata": {},
   "source": [
    "### Исследование на пропуски"
   ]
  },
  {
   "cell_type": "code",
   "execution_count": 34,
   "id": "41d86b28-d024-4dae-8501-debd9c73b3a9",
   "metadata": {},
   "outputs": [
    {
     "data": {
      "text/plain": [
       "id         0\n",
       "f0         0\n",
       "f1         0\n",
       "f2         0\n",
       "product    0\n",
       "dtype: int64"
      ]
     },
     "execution_count": 34,
     "metadata": {},
     "output_type": "execute_result"
    }
   ],
   "source": [
    "region_2.isna().sum()"
   ]
  },
  {
   "cell_type": "markdown",
   "id": "4b55ef54-af5e-48e2-b6d1-d4402afb1d3b",
   "metadata": {},
   "source": [
    "- Пропусков в данных нет"
   ]
  },
  {
   "cell_type": "markdown",
   "id": "b12c06cd-e627-468e-bd45-675c8ed3d32e",
   "metadata": {},
   "source": [
    "### Исследование на явные дубликаты"
   ]
  },
  {
   "cell_type": "code",
   "execution_count": 35,
   "id": "bb00c5a6-2a73-49f2-ae3b-8e1e5901cb44",
   "metadata": {},
   "outputs": [
    {
     "data": {
      "text/plain": [
       "0"
      ]
     },
     "execution_count": 35,
     "metadata": {},
     "output_type": "execute_result"
    }
   ],
   "source": [
    "region_2.duplicated().sum()"
   ]
  },
  {
   "cell_type": "markdown",
   "id": "9bff7faf-5113-40b1-8ed7-24866c0a78be",
   "metadata": {},
   "source": [
    "- Явных дубликатов нет"
   ]
  },
  {
   "cell_type": "markdown",
   "id": "005a598d-5fcf-4299-9c4c-148ef2a7ad99",
   "metadata": {},
   "source": [
    "### Исследование на неявные дубликаты"
   ]
  },
  {
   "cell_type": "code",
   "execution_count": 36,
   "id": "edae787a-ac01-4341-8d79-72e7bf29a51b",
   "metadata": {},
   "outputs": [
    {
     "data": {
      "text/plain": [
       "4"
      ]
     },
     "execution_count": 36,
     "metadata": {},
     "output_type": "execute_result"
    }
   ],
   "source": [
    "region_2.id.duplicated().sum()"
   ]
  },
  {
   "cell_type": "code",
   "execution_count": 37,
   "id": "2488f933-c2c3-48b4-a0f2-df0e798e3dfd",
   "metadata": {},
   "outputs": [
    {
     "data": {
      "text/html": [
       "<div>\n",
       "<style scoped>\n",
       "    .dataframe tbody tr th:only-of-type {\n",
       "        vertical-align: middle;\n",
       "    }\n",
       "\n",
       "    .dataframe tbody tr th {\n",
       "        vertical-align: top;\n",
       "    }\n",
       "\n",
       "    .dataframe thead th {\n",
       "        text-align: right;\n",
       "    }\n",
       "</style>\n",
       "<table border=\"1\" class=\"dataframe\">\n",
       "  <thead>\n",
       "    <tr style=\"text-align: right;\">\n",
       "      <th></th>\n",
       "      <th>id</th>\n",
       "      <th>f0</th>\n",
       "      <th>f1</th>\n",
       "      <th>f2</th>\n",
       "      <th>product</th>\n",
       "    </tr>\n",
       "  </thead>\n",
       "  <tbody>\n",
       "    <tr>\n",
       "      <th>1305</th>\n",
       "      <td>LHZR0</td>\n",
       "      <td>11.170835</td>\n",
       "      <td>-1.945066</td>\n",
       "      <td>3.002872</td>\n",
       "      <td>80.859783</td>\n",
       "    </tr>\n",
       "    <tr>\n",
       "      <th>2721</th>\n",
       "      <td>bfPNe</td>\n",
       "      <td>-9.494442</td>\n",
       "      <td>-5.463692</td>\n",
       "      <td>4.006042</td>\n",
       "      <td>110.992147</td>\n",
       "    </tr>\n",
       "    <tr>\n",
       "      <th>5849</th>\n",
       "      <td>5ltQ6</td>\n",
       "      <td>-3.435401</td>\n",
       "      <td>-12.296043</td>\n",
       "      <td>1.999796</td>\n",
       "      <td>57.085625</td>\n",
       "    </tr>\n",
       "    <tr>\n",
       "      <th>41906</th>\n",
       "      <td>LHZR0</td>\n",
       "      <td>-8.989672</td>\n",
       "      <td>-4.286607</td>\n",
       "      <td>2.009139</td>\n",
       "      <td>57.085625</td>\n",
       "    </tr>\n",
       "    <tr>\n",
       "      <th>47591</th>\n",
       "      <td>wt4Uk</td>\n",
       "      <td>-9.091098</td>\n",
       "      <td>-8.109279</td>\n",
       "      <td>-0.002314</td>\n",
       "      <td>3.179103</td>\n",
       "    </tr>\n",
       "    <tr>\n",
       "      <th>82178</th>\n",
       "      <td>bfPNe</td>\n",
       "      <td>-6.202799</td>\n",
       "      <td>-4.820045</td>\n",
       "      <td>2.995107</td>\n",
       "      <td>84.038886</td>\n",
       "    </tr>\n",
       "    <tr>\n",
       "      <th>82873</th>\n",
       "      <td>wt4Uk</td>\n",
       "      <td>10.259972</td>\n",
       "      <td>-9.376355</td>\n",
       "      <td>4.994297</td>\n",
       "      <td>134.766305</td>\n",
       "    </tr>\n",
       "    <tr>\n",
       "      <th>84461</th>\n",
       "      <td>5ltQ6</td>\n",
       "      <td>18.213839</td>\n",
       "      <td>2.191999</td>\n",
       "      <td>3.993869</td>\n",
       "      <td>107.813044</td>\n",
       "    </tr>\n",
       "  </tbody>\n",
       "</table>\n",
       "</div>"
      ],
      "text/plain": [
       "          id         f0         f1        f2     product\n",
       "1305   LHZR0  11.170835  -1.945066  3.002872   80.859783\n",
       "2721   bfPNe  -9.494442  -5.463692  4.006042  110.992147\n",
       "5849   5ltQ6  -3.435401 -12.296043  1.999796   57.085625\n",
       "41906  LHZR0  -8.989672  -4.286607  2.009139   57.085625\n",
       "47591  wt4Uk  -9.091098  -8.109279 -0.002314    3.179103\n",
       "82178  bfPNe  -6.202799  -4.820045  2.995107   84.038886\n",
       "82873  wt4Uk  10.259972  -9.376355  4.994297  134.766305\n",
       "84461  5ltQ6  18.213839   2.191999  3.993869  107.813044"
      ]
     },
     "execution_count": 37,
     "metadata": {},
     "output_type": "execute_result"
    }
   ],
   "source": [
    "region_2[region_2.id.isin(region_2[region_2.id.duplicated()].id)]"
   ]
  },
  {
   "cell_type": "markdown",
   "id": "c14c3e3d-2059-4e62-abd1-887c7af9af24",
   "metadata": {},
   "source": [
    "- C уникальными идентификаторами наблюдается та же проблема, что и первом регионе"
   ]
  },
  {
   "cell_type": "markdown",
   "id": "6f1a8bec-6e8e-4391-bfb0-c6040726bae2",
   "metadata": {},
   "source": [
    "### Исследование столбца `f0`"
   ]
  },
  {
   "cell_type": "code",
   "execution_count": 38,
   "id": "6e407a43-0a4e-4699-883c-cb50768aa7b9",
   "metadata": {},
   "outputs": [
    {
     "data": {
      "image/png": "[encoded data removed]",
      "text/plain": [
       "<Figure size 720x360 with 2 Axes>"
      ]
     },
     "metadata": {
      "needs_background": "light"
     },
     "output_type": "display_data"
    }
   ],
   "source": [
    "plot_graphics(df=region_2, column_name='f0')"
   ]
  },
  {
   "cell_type": "markdown",
   "id": "9ec1a8b5-1a5b-421a-a24e-eb9bbd7c76c6",
   "metadata": {},
   "source": [
    "- Наблюдается бимодальность признака `f0`"
   ]
  },
  {
   "cell_type": "markdown",
   "id": "2b1617a9-00b6-4022-a335-aedbb36e33e4",
   "metadata": {},
   "source": [
    "### Исследование столбца `f1`"
   ]
  },
  {
   "cell_type": "code",
   "execution_count": 39,
   "id": "8e676e35-389e-4c73-9722-0725a177b7b6",
   "metadata": {},
   "outputs": [
    {
     "data": {
      "image/png": "[encoded data removed]",
      "text/plain": [
       "<Figure size 720x360 with 2 Axes>"
      ]
     },
     "metadata": {
      "needs_background": "light"
     },
     "output_type": "display_data"
    }
   ],
   "source": [
    "plot_graphics(df=region_2, column_name='f1', bins=50)"
   ]
  },
  {
   "cell_type": "markdown",
   "id": "4a99347b-d357-4d6f-82e4-e9d1c5a0502b",
   "metadata": {},
   "source": [
    "- На коробчатой диаграмме видны выбросы"
   ]
  },
  {
   "cell_type": "code",
   "execution_count": 40,
   "id": "be950e6c-c030-4379-ab66-47230d7ff892",
   "metadata": {},
   "outputs": [
    {
     "data": {
      "text/html": [
       "<div>\n",
       "<style scoped>\n",
       "    .dataframe tbody tr th:only-of-type {\n",
       "        vertical-align: middle;\n",
       "    }\n",
       "\n",
       "    .dataframe tbody tr th {\n",
       "        vertical-align: top;\n",
       "    }\n",
       "\n",
       "    .dataframe thead th {\n",
       "        text-align: right;\n",
       "    }\n",
       "</style>\n",
       "<table border=\"1\" class=\"dataframe\">\n",
       "  <thead>\n",
       "    <tr style=\"text-align: right;\">\n",
       "      <th></th>\n",
       "      <th>column_name</th>\n",
       "      <th>left outliers count</th>\n",
       "      <th>left outliers %</th>\n",
       "      <th>right outliers count</th>\n",
       "      <th>right outliers %</th>\n",
       "    </tr>\n",
       "  </thead>\n",
       "  <tbody>\n",
       "    <tr>\n",
       "      <th>0</th>\n",
       "      <td>f1</td>\n",
       "      <td>297</td>\n",
       "      <td>0.3</td>\n",
       "      <td>339</td>\n",
       "      <td>0.34</td>\n",
       "    </tr>\n",
       "  </tbody>\n",
       "</table>\n",
       "</div>"
      ],
      "text/plain": [
       "  column_name  left outliers count  left outliers %  right outliers count  \\\n",
       "0          f1                  297              0.3                   339   \n",
       "\n",
       "   right outliers %  \n",
       "0              0.34  "
      ]
     },
     "execution_count": 40,
     "metadata": {},
     "output_type": "execute_result"
    }
   ],
   "source": [
    "outliers_report(df=region_2, column_names=['f1'], strategy='iqr')"
   ]
  },
  {
   "cell_type": "markdown",
   "id": "cf3cb2b6-38df-42d6-844d-5c6fe8917acb",
   "metadata": {},
   "source": [
    "- Оценка выбросов по стратегии интерквартильного размаха выявила, что общее количество выбросов в этом столбце составляет чуть более половины процента от общего числа элементов столбца"
   ]
  },
  {
   "cell_type": "markdown",
   "id": "b745b54e-6c74-4dfc-9a73-04c5c5ef2a8b",
   "metadata": {},
   "source": [
    "### Исследование столбца `f2`"
   ]
  },
  {
   "cell_type": "code",
   "execution_count": 41,
   "id": "cc3987a0-c45b-4b02-a8b9-dacd7ae98a26",
   "metadata": {},
   "outputs": [
    {
     "data": {
      "image/png": "[encoded data removed]",
      "text/plain": [
       "<Figure size 720x360 with 2 Axes>"
      ]
     },
     "metadata": {
      "needs_background": "light"
     },
     "output_type": "display_data"
    }
   ],
   "source": [
    "plot_graphics(df=region_2, column_name='f2')"
   ]
  },
  {
   "cell_type": "markdown",
   "id": "d40c280e-2414-4038-8565-2d5d4d9ff9ba",
   "metadata": {},
   "source": [
    "### Исследование столбца `product`"
   ]
  },
  {
   "cell_type": "code",
   "execution_count": 42,
   "id": "701349de-239c-44eb-882e-013bed000968",
   "metadata": {},
   "outputs": [
    {
     "data": {
      "image/png": "[encoded data removed]",
      "text/plain": [
       "<Figure size 720x360 with 2 Axes>"
      ]
     },
     "metadata": {
      "needs_background": "light"
     },
     "output_type": "display_data"
    }
   ],
   "source": [
    "plot_graphics(df=region_2, column_name='product')"
   ]
  },
  {
   "cell_type": "markdown",
   "id": "755a547c-671c-41b8-ad1a-c7b68d832cb5",
   "metadata": {
    "tags": []
   },
   "source": [
    "### Корреляционный анализ"
   ]
  },
  {
   "cell_type": "code",
   "execution_count": 43,
   "id": "c2ae40c7-8b94-4214-85a1-f12dfdd192f6",
   "metadata": {},
   "outputs": [
    {
     "data": {
      "image/png": "[encoded data removed]",
      "text/plain": [
       "<Figure size 360x360 with 2 Axes>"
      ]
     },
     "metadata": {
      "needs_background": "light"
     },
     "output_type": "display_data"
    }
   ],
   "source": [
    "phik_overview = region_2.drop(columns='id').phik_matrix(interval_cols=['f0', 'f1', 'f2', 'product'])\n",
    "\n",
    "plot_correlation_matrix(\n",
    "    phik_overview.values,\n",
    "    x_labels=phik_overview.columns,\n",
    "    y_labels=phik_overview.index,\n",
    "    vmin=0, vmax=1, color_map='Greens',\n",
    "    title=r'correlation $\\phi_K$',\n",
    "    fontsize_factor=1.5,\n",
    "    figsize=(5, 5)) \n",
    "\n",
    "warnings.filterwarnings(\"ignore\", category=UserWarning)"
   ]
  },
  {
   "cell_type": "markdown",
   "id": "315321f6-90ac-45f9-9c7d-1b1d5e0dd62d",
   "metadata": {},
   "source": [
    "- Наблюдается очень большая взаимосвязь между таргетом и признаком `f2`\n",
    "- Также на целевой признак влияет признак `f0`"
   ]
  },
  {
   "cell_type": "markdown",
   "id": "2d1c555e-7ce7-43ce-b765-dbf8a1f683c4",
   "metadata": {},
   "source": [
    "### Исследование мультиколлинеарности"
   ]
  },
  {
   "cell_type": "code",
   "execution_count": 44,
   "id": "9b73b37a-fa3b-4c39-acce-c2936520b8cd",
   "metadata": {},
   "outputs": [
    {
     "data": {
      "text/html": [
       "<div>\n",
       "<style scoped>\n",
       "    .dataframe tbody tr th:only-of-type {\n",
       "        vertical-align: middle;\n",
       "    }\n",
       "\n",
       "    .dataframe tbody tr th {\n",
       "        vertical-align: top;\n",
       "    }\n",
       "\n",
       "    .dataframe thead th {\n",
       "        text-align: right;\n",
       "    }\n",
       "</style>\n",
       "<table border=\"1\" class=\"dataframe\">\n",
       "  <thead>\n",
       "    <tr style=\"text-align: right;\">\n",
       "      <th></th>\n",
       "      <th>Variable</th>\n",
       "      <th>VIF</th>\n",
       "    </tr>\n",
       "  </thead>\n",
       "  <tbody>\n",
       "    <tr>\n",
       "      <th>0</th>\n",
       "      <td>const</td>\n",
       "      <td>7.561536</td>\n",
       "    </tr>\n",
       "    <tr>\n",
       "      <th>1</th>\n",
       "      <td>f0</td>\n",
       "      <td>3.163234</td>\n",
       "    </tr>\n",
       "    <tr>\n",
       "      <th>2</th>\n",
       "      <td>f1</td>\n",
       "      <td>1.049803</td>\n",
       "    </tr>\n",
       "    <tr>\n",
       "      <th>3</th>\n",
       "      <td>f2</td>\n",
       "      <td>2660.141618</td>\n",
       "    </tr>\n",
       "    <tr>\n",
       "      <th>4</th>\n",
       "      <td>product</td>\n",
       "      <td>2662.652617</td>\n",
       "    </tr>\n",
       "  </tbody>\n",
       "</table>\n",
       "</div>"
      ],
      "text/plain": [
       "  Variable          VIF\n",
       "0    const     7.561536\n",
       "1       f0     3.163234\n",
       "2       f1     1.049803\n",
       "3       f2  2660.141618\n",
       "4  product  2662.652617"
      ]
     },
     "execution_count": 44,
     "metadata": {},
     "output_type": "execute_result"
    }
   ],
   "source": [
    "check_multicollinearity_vif(region_2)"
   ]
  },
  {
   "cell_type": "markdown",
   "id": "00210627-9561-4054-a71f-32ad93dd1ba7",
   "metadata": {},
   "source": [
    "- VIF тест выявил мультиколлинеарность"
   ]
  },
  {
   "cell_type": "code",
   "execution_count": 45,
   "id": "fec34d80-e839-44a4-bf0a-c4eaf526a8f3",
   "metadata": {},
   "outputs": [
    {
     "data": {
      "image/png": "[encoded data removed]",
      "text/plain": [
       "<Figure size 432x288 with 1 Axes>"
      ]
     },
     "metadata": {
      "needs_background": "light"
     },
     "output_type": "display_data"
    }
   ],
   "source": [
    "sns.scatterplot(data=region_2, x='f2', y='product').set_title('Диаграмма рассеяния f2 и product [Регион №2]', fontsize=14);"
   ]
  },
  {
   "cell_type": "code",
   "execution_count": 46,
   "id": "10d149b4-e390-4d21-9f64-45ad4eb173a3",
   "metadata": {},
   "outputs": [
    {
     "data": {
      "text/html": [
       "<div>\n",
       "<style scoped>\n",
       "    .dataframe tbody tr th:only-of-type {\n",
       "        vertical-align: middle;\n",
       "    }\n",
       "\n",
       "    .dataframe tbody tr th {\n",
       "        vertical-align: top;\n",
       "    }\n",
       "\n",
       "    .dataframe thead th {\n",
       "        text-align: right;\n",
       "    }\n",
       "</style>\n",
       "<table border=\"1\" class=\"dataframe\">\n",
       "  <thead>\n",
       "    <tr style=\"text-align: right;\">\n",
       "      <th></th>\n",
       "      <th>f2</th>\n",
       "      <th>product</th>\n",
       "    </tr>\n",
       "  </thead>\n",
       "  <tbody>\n",
       "    <tr>\n",
       "      <th>f2</th>\n",
       "      <td>1.000000</td>\n",
       "      <td>0.999397</td>\n",
       "    </tr>\n",
       "    <tr>\n",
       "      <th>product</th>\n",
       "      <td>0.999397</td>\n",
       "      <td>1.000000</td>\n",
       "    </tr>\n",
       "  </tbody>\n",
       "</table>\n",
       "</div>"
      ],
      "text/plain": [
       "               f2   product\n",
       "f2       1.000000  0.999397\n",
       "product  0.999397  1.000000"
      ]
     },
     "execution_count": 46,
     "metadata": {},
     "output_type": "execute_result"
    }
   ],
   "source": [
    "region_2[['f2', 'product']].corr()"
   ]
  },
  {
   "cell_type": "markdown",
   "id": "3f80ca3c-6a76-4570-8777-54d902e2d3b5",
   "metadata": {},
   "source": [
    "- Анализ данных показал их высокое качество: пропуски и явные дубликаты отсутствуют. \n",
    "- Однако проблема с уникальными идентификаторами аналогична ситуации в первом регионе.\n",
    "\n",
    "- Распределение признаков выявило бимодальность `f0` и наличие выбросов в `f1`, хотя их доля невелика (чуть более 0.5%).\n",
    "\n",
    "- Между целевым признаком и `f2` наблюдается очень высокая взаимосвязь, что подтверждается диаграммой рассеяния и коэффициентом корреляции Пирсона, практически равным 1. Это может указывать на возможную зависимость или утечку данных.\n",
    "\n",
    "- Также признак `f0` оказывает влияние на целевой признак. При этом тест VIF выявил проблему мультиколлинеарности, что может потребовать пересмотра модели или исключения избыточных переменных. Однако, в силу условий задачи, признаки исключать нельзя, все они являются важными для принятия решения"
   ]
  },
  {
   "cell_type": "markdown",
   "id": "68dfb3d5-1c8d-40f9-939d-9e8686c233ed",
   "metadata": {
    "tags": []
   },
   "source": [
    "# Третий датасет"
   ]
  },
  {
   "cell_type": "code",
   "execution_count": null,
   "id": "cb46daaa-43ec-4a79-802a-bb4cd71e6e54",
   "metadata": {},
   "outputs": [],
   "source": [
    "try:\n",
    "    region_3 = pd.read_csv('/datasets/geo_data_2.csv')\n",
    "except:\n",
    "    region_3 = pd.read_csv('path')"
   ]
  },
  {
   "cell_type": "code",
   "execution_count": 48,
   "id": "f8b54afd-ee3d-4d25-bbdd-500396272e15",
   "metadata": {
    "tags": []
   },
   "outputs": [
    {
     "data": {
      "text/html": [
       "<div>\n",
       "<style scoped>\n",
       "    .dataframe tbody tr th:only-of-type {\n",
       "        vertical-align: middle;\n",
       "    }\n",
       "\n",
       "    .dataframe tbody tr th {\n",
       "        vertical-align: top;\n",
       "    }\n",
       "\n",
       "    .dataframe thead th {\n",
       "        text-align: right;\n",
       "    }\n",
       "</style>\n",
       "<table border=\"1\" class=\"dataframe\">\n",
       "  <thead>\n",
       "    <tr style=\"text-align: right;\">\n",
       "      <th></th>\n",
       "      <th>id</th>\n",
       "      <th>f0</th>\n",
       "      <th>f1</th>\n",
       "      <th>f2</th>\n",
       "      <th>product</th>\n",
       "    </tr>\n",
       "  </thead>\n",
       "  <tbody>\n",
       "    <tr>\n",
       "      <th>0</th>\n",
       "      <td>fwXo0</td>\n",
       "      <td>-1.146987</td>\n",
       "      <td>0.963328</td>\n",
       "      <td>-0.828965</td>\n",
       "      <td>27.758673</td>\n",
       "    </tr>\n",
       "    <tr>\n",
       "      <th>1</th>\n",
       "      <td>WJtFt</td>\n",
       "      <td>0.262778</td>\n",
       "      <td>0.269839</td>\n",
       "      <td>-2.530187</td>\n",
       "      <td>56.069697</td>\n",
       "    </tr>\n",
       "    <tr>\n",
       "      <th>2</th>\n",
       "      <td>ovLUW</td>\n",
       "      <td>0.194587</td>\n",
       "      <td>0.289035</td>\n",
       "      <td>-5.586433</td>\n",
       "      <td>62.871910</td>\n",
       "    </tr>\n",
       "    <tr>\n",
       "      <th>3</th>\n",
       "      <td>q6cA6</td>\n",
       "      <td>2.236060</td>\n",
       "      <td>-0.553760</td>\n",
       "      <td>0.930038</td>\n",
       "      <td>114.572842</td>\n",
       "    </tr>\n",
       "    <tr>\n",
       "      <th>4</th>\n",
       "      <td>WPMUX</td>\n",
       "      <td>-0.515993</td>\n",
       "      <td>1.716266</td>\n",
       "      <td>5.899011</td>\n",
       "      <td>149.600746</td>\n",
       "    </tr>\n",
       "  </tbody>\n",
       "</table>\n",
       "</div>"
      ],
      "text/plain": [
       "      id        f0        f1        f2     product\n",
       "0  fwXo0 -1.146987  0.963328 -0.828965   27.758673\n",
       "1  WJtFt  0.262778  0.269839 -2.530187   56.069697\n",
       "2  ovLUW  0.194587  0.289035 -5.586433   62.871910\n",
       "3  q6cA6  2.236060 -0.553760  0.930038  114.572842\n",
       "4  WPMUX -0.515993  1.716266  5.899011  149.600746"
      ]
     },
     "execution_count": 48,
     "metadata": {},
     "output_type": "execute_result"
    }
   ],
   "source": [
    "region_3.head()"
   ]
  },
  {
   "cell_type": "code",
   "execution_count": 49,
   "id": "64ba1467-103d-48d8-824f-1ddd8bdff347",
   "metadata": {
    "tags": []
   },
   "outputs": [
    {
     "name": "stdout",
     "output_type": "stream",
     "text": [
      "<class 'pandas.core.frame.DataFrame'>\n",
      "RangeIndex: 100000 entries, 0 to 99999\n",
      "Data columns (total 5 columns):\n",
      " #   Column   Non-Null Count   Dtype  \n",
      "---  ------   --------------   -----  \n",
      " 0   id       100000 non-null  object \n",
      " 1   f0       100000 non-null  float64\n",
      " 2   f1       100000 non-null  float64\n",
      " 3   f2       100000 non-null  float64\n",
      " 4   product  100000 non-null  float64\n",
      "dtypes: float64(4), object(1)\n",
      "memory usage: 3.8+ MB\n"
     ]
    }
   ],
   "source": [
    "region_3.info()"
   ]
  },
  {
   "cell_type": "code",
   "execution_count": 50,
   "id": "3a919b52-cb8c-49dd-ac71-5c3abe88e945",
   "metadata": {
    "tags": []
   },
   "outputs": [
    {
     "data": {
      "image/png": "[encoded data removed]",
      "text/plain": [
       "<Figure size 720x576 with 4 Axes>"
      ]
     },
     "metadata": {
      "needs_background": "light"
     },
     "output_type": "display_data"
    }
   ],
   "source": [
    "region_3.hist(figsize=(10, 8), color=DEFAULT_COLOR, bins=30);"
   ]
  },
  {
   "cell_type": "markdown",
   "id": "2776aa6a-6355-4c34-8efb-3743e214e574",
   "metadata": {},
   "source": [
    "- Первичный анализ гистограмм выявил колоколообразность распределений всех столбцов"
   ]
  },
  {
   "cell_type": "markdown",
   "id": "56eacfc7-36ff-4241-8e69-07cc31217b69",
   "metadata": {},
   "source": [
    "### Исследование на пропуски"
   ]
  },
  {
   "cell_type": "code",
   "execution_count": 51,
   "id": "8ffa926f-5f17-4eef-bd73-c5f93b8c4dee",
   "metadata": {},
   "outputs": [
    {
     "data": {
      "text/plain": [
       "id         0\n",
       "f0         0\n",
       "f1         0\n",
       "f2         0\n",
       "product    0\n",
       "dtype: int64"
      ]
     },
     "execution_count": 51,
     "metadata": {},
     "output_type": "execute_result"
    }
   ],
   "source": [
    "region_3.isna().sum()"
   ]
  },
  {
   "cell_type": "markdown",
   "id": "64e94e4b-bd88-4730-85d0-de4384c235ae",
   "metadata": {},
   "source": [
    "### Исследование на явные дубликаты"
   ]
  },
  {
   "cell_type": "code",
   "execution_count": 52,
   "id": "36133e44-f238-4237-99d8-1c4e5e2f915a",
   "metadata": {},
   "outputs": [
    {
     "data": {
      "text/plain": [
       "0"
      ]
     },
     "execution_count": 52,
     "metadata": {},
     "output_type": "execute_result"
    }
   ],
   "source": [
    "region_3.duplicated().sum()"
   ]
  },
  {
   "cell_type": "markdown",
   "id": "c299c508-d54c-47bd-8001-a08eb8b8a0cd",
   "metadata": {},
   "source": [
    "### Исследование на неявные дубликаты"
   ]
  },
  {
   "cell_type": "code",
   "execution_count": 53,
   "id": "7b4fd547-4b14-4323-8b9c-307e427e61a5",
   "metadata": {},
   "outputs": [
    {
     "data": {
      "text/plain": [
       "4"
      ]
     },
     "execution_count": 53,
     "metadata": {},
     "output_type": "execute_result"
    }
   ],
   "source": [
    "region_3.id.duplicated().sum()"
   ]
  },
  {
   "cell_type": "code",
   "execution_count": 54,
   "id": "8b9822ca-45e1-451a-90c1-e4dc959cf630",
   "metadata": {},
   "outputs": [
    {
     "data": {
      "text/html": [
       "<div>\n",
       "<style scoped>\n",
       "    .dataframe tbody tr th:only-of-type {\n",
       "        vertical-align: middle;\n",
       "    }\n",
       "\n",
       "    .dataframe tbody tr th {\n",
       "        vertical-align: top;\n",
       "    }\n",
       "\n",
       "    .dataframe thead th {\n",
       "        text-align: right;\n",
       "    }\n",
       "</style>\n",
       "<table border=\"1\" class=\"dataframe\">\n",
       "  <thead>\n",
       "    <tr style=\"text-align: right;\">\n",
       "      <th></th>\n",
       "      <th>id</th>\n",
       "      <th>f0</th>\n",
       "      <th>f1</th>\n",
       "      <th>f2</th>\n",
       "      <th>product</th>\n",
       "    </tr>\n",
       "  </thead>\n",
       "  <tbody>\n",
       "    <tr>\n",
       "      <th>11449</th>\n",
       "      <td>VF7Jo</td>\n",
       "      <td>2.122656</td>\n",
       "      <td>-0.858275</td>\n",
       "      <td>5.746001</td>\n",
       "      <td>181.716817</td>\n",
       "    </tr>\n",
       "    <tr>\n",
       "      <th>28039</th>\n",
       "      <td>xCHr8</td>\n",
       "      <td>1.633027</td>\n",
       "      <td>0.368135</td>\n",
       "      <td>-2.378367</td>\n",
       "      <td>6.120525</td>\n",
       "    </tr>\n",
       "    <tr>\n",
       "      <th>43233</th>\n",
       "      <td>xCHr8</td>\n",
       "      <td>-0.847066</td>\n",
       "      <td>2.101796</td>\n",
       "      <td>5.597130</td>\n",
       "      <td>184.388641</td>\n",
       "    </tr>\n",
       "    <tr>\n",
       "      <th>44378</th>\n",
       "      <td>Vcm5J</td>\n",
       "      <td>-1.229484</td>\n",
       "      <td>-2.439204</td>\n",
       "      <td>1.222909</td>\n",
       "      <td>137.968290</td>\n",
       "    </tr>\n",
       "    <tr>\n",
       "      <th>45404</th>\n",
       "      <td>KUPhW</td>\n",
       "      <td>0.231846</td>\n",
       "      <td>-1.698941</td>\n",
       "      <td>4.990775</td>\n",
       "      <td>11.716299</td>\n",
       "    </tr>\n",
       "    <tr>\n",
       "      <th>49564</th>\n",
       "      <td>VF7Jo</td>\n",
       "      <td>-0.883115</td>\n",
       "      <td>0.560537</td>\n",
       "      <td>0.723601</td>\n",
       "      <td>136.233420</td>\n",
       "    </tr>\n",
       "    <tr>\n",
       "      <th>55967</th>\n",
       "      <td>KUPhW</td>\n",
       "      <td>1.211150</td>\n",
       "      <td>3.176408</td>\n",
       "      <td>5.543540</td>\n",
       "      <td>132.831802</td>\n",
       "    </tr>\n",
       "    <tr>\n",
       "      <th>95090</th>\n",
       "      <td>Vcm5J</td>\n",
       "      <td>2.587702</td>\n",
       "      <td>1.986875</td>\n",
       "      <td>2.482245</td>\n",
       "      <td>92.327572</td>\n",
       "    </tr>\n",
       "  </tbody>\n",
       "</table>\n",
       "</div>"
      ],
      "text/plain": [
       "          id        f0        f1        f2     product\n",
       "11449  VF7Jo  2.122656 -0.858275  5.746001  181.716817\n",
       "28039  xCHr8  1.633027  0.368135 -2.378367    6.120525\n",
       "43233  xCHr8 -0.847066  2.101796  5.597130  184.388641\n",
       "44378  Vcm5J -1.229484 -2.439204  1.222909  137.968290\n",
       "45404  KUPhW  0.231846 -1.698941  4.990775   11.716299\n",
       "49564  VF7Jo -0.883115  0.560537  0.723601  136.233420\n",
       "55967  KUPhW  1.211150  3.176408  5.543540  132.831802\n",
       "95090  Vcm5J  2.587702  1.986875  2.482245   92.327572"
      ]
     },
     "execution_count": 54,
     "metadata": {},
     "output_type": "execute_result"
    }
   ],
   "source": [
    "region_3[region_3.id.isin(region_3[region_3.id.duplicated()].id)]"
   ]
  },
  {
   "cell_type": "markdown",
   "id": "d8fa8dbd-ba8e-4b36-8809-69ff67c4073d",
   "metadata": {},
   "source": [
    "### Исследование столбца `f0`"
   ]
  },
  {
   "cell_type": "code",
   "execution_count": 55,
   "id": "4e9eee85-dd66-45b7-adda-473306b26064",
   "metadata": {},
   "outputs": [
    {
     "data": {
      "image/png": "[encoded data removed]",
      "text/plain": [
       "<Figure size 720x360 with 2 Axes>"
      ]
     },
     "metadata": {
      "needs_background": "light"
     },
     "output_type": "display_data"
    }
   ],
   "source": [
    "plot_graphics(df=region_3, column_name='f0')"
   ]
  },
  {
   "cell_type": "code",
   "execution_count": 56,
   "id": "53ec5229-ebbc-4d18-bd9f-706311874842",
   "metadata": {},
   "outputs": [
    {
     "data": {
      "text/html": [
       "<div>\n",
       "<style scoped>\n",
       "    .dataframe tbody tr th:only-of-type {\n",
       "        vertical-align: middle;\n",
       "    }\n",
       "\n",
       "    .dataframe tbody tr th {\n",
       "        vertical-align: top;\n",
       "    }\n",
       "\n",
       "    .dataframe thead th {\n",
       "        text-align: right;\n",
       "    }\n",
       "</style>\n",
       "<table border=\"1\" class=\"dataframe\">\n",
       "  <thead>\n",
       "    <tr style=\"text-align: right;\">\n",
       "      <th></th>\n",
       "      <th>column_name</th>\n",
       "      <th>left outliers count</th>\n",
       "      <th>left outliers %</th>\n",
       "      <th>right outliers count</th>\n",
       "      <th>right outliers %</th>\n",
       "    </tr>\n",
       "  </thead>\n",
       "  <tbody>\n",
       "    <tr>\n",
       "      <th>0</th>\n",
       "      <td>f0</td>\n",
       "      <td>348</td>\n",
       "      <td>0.35</td>\n",
       "      <td>385</td>\n",
       "      <td>0.38</td>\n",
       "    </tr>\n",
       "  </tbody>\n",
       "</table>\n",
       "</div>"
      ],
      "text/plain": [
       "  column_name  left outliers count  left outliers %  right outliers count  \\\n",
       "0          f0                  348             0.35                   385   \n",
       "\n",
       "   right outliers %  \n",
       "0              0.38  "
      ]
     },
     "execution_count": 56,
     "metadata": {},
     "output_type": "execute_result"
    }
   ],
   "source": [
    "outliers_report(df=region_3, column_names=['f0'], strategy='iqr')"
   ]
  },
  {
   "cell_type": "markdown",
   "id": "5c606fa5-61c8-4800-8bfd-8dc6b15c620f",
   "metadata": {},
   "source": [
    "- Выбросов в столбце `f0` менее одного процента"
   ]
  },
  {
   "cell_type": "markdown",
   "id": "faefb08a-1f94-4cbd-b724-e2073a496507",
   "metadata": {},
   "source": [
    "### Исследование столбца `f1`"
   ]
  },
  {
   "cell_type": "code",
   "execution_count": 57,
   "id": "afadd4fb-93c0-44b5-a0e2-0ee5b7254034",
   "metadata": {},
   "outputs": [
    {
     "data": {
      "image/png": "[encoded data removed]",
      "text/plain": [
       "<Figure size 720x360 with 2 Axes>"
      ]
     },
     "metadata": {
      "needs_background": "light"
     },
     "output_type": "display_data"
    }
   ],
   "source": [
    "plot_graphics(df=region_3, column_name='f1', bins=50)"
   ]
  },
  {
   "cell_type": "code",
   "execution_count": 58,
   "id": "677fc9da-b18d-4b38-8962-e8fdf396b1fd",
   "metadata": {},
   "outputs": [
    {
     "data": {
      "text/html": [
       "<div>\n",
       "<style scoped>\n",
       "    .dataframe tbody tr th:only-of-type {\n",
       "        vertical-align: middle;\n",
       "    }\n",
       "\n",
       "    .dataframe tbody tr th {\n",
       "        vertical-align: top;\n",
       "    }\n",
       "\n",
       "    .dataframe thead th {\n",
       "        text-align: right;\n",
       "    }\n",
       "</style>\n",
       "<table border=\"1\" class=\"dataframe\">\n",
       "  <thead>\n",
       "    <tr style=\"text-align: right;\">\n",
       "      <th></th>\n",
       "      <th>column_name</th>\n",
       "      <th>left outliers count</th>\n",
       "      <th>left outliers %</th>\n",
       "      <th>right outliers count</th>\n",
       "      <th>right outliers %</th>\n",
       "    </tr>\n",
       "  </thead>\n",
       "  <tbody>\n",
       "    <tr>\n",
       "      <th>0</th>\n",
       "      <td>f1</td>\n",
       "      <td>335</td>\n",
       "      <td>0.34</td>\n",
       "      <td>349</td>\n",
       "      <td>0.35</td>\n",
       "    </tr>\n",
       "  </tbody>\n",
       "</table>\n",
       "</div>"
      ],
      "text/plain": [
       "  column_name  left outliers count  left outliers %  right outliers count  \\\n",
       "0          f1                  335             0.34                   349   \n",
       "\n",
       "   right outliers %  \n",
       "0              0.35  "
      ]
     },
     "execution_count": 58,
     "metadata": {},
     "output_type": "execute_result"
    }
   ],
   "source": [
    "outliers_report(df=region_3, column_names=['f1'], strategy='iqr')"
   ]
  },
  {
   "cell_type": "markdown",
   "id": "1fed28d8-b719-40ec-a5f0-0abd1a9c8d9d",
   "metadata": {},
   "source": [
    "- Выбросов в столбце `f1` менее одного процента"
   ]
  },
  {
   "cell_type": "markdown",
   "id": "047adf0d-a401-48cd-9cb3-40135737aa51",
   "metadata": {},
   "source": [
    "### Исследование столбца `f2`"
   ]
  },
  {
   "cell_type": "code",
   "execution_count": 59,
   "id": "87ad24bc-47ec-4168-b546-3b6e40e29942",
   "metadata": {},
   "outputs": [
    {
     "data": {
      "image/png": "[encoded data removed]",
      "text/plain": [
       "<Figure size 720x360 with 2 Axes>"
      ]
     },
     "metadata": {
      "needs_background": "light"
     },
     "output_type": "display_data"
    }
   ],
   "source": [
    "plot_graphics(df=region_3, column_name='f2')"
   ]
  },
  {
   "cell_type": "code",
   "execution_count": 60,
   "id": "a9db30e6-e37f-4cbc-b144-3b04f01d6725",
   "metadata": {},
   "outputs": [
    {
     "data": {
      "text/html": [
       "<div>\n",
       "<style scoped>\n",
       "    .dataframe tbody tr th:only-of-type {\n",
       "        vertical-align: middle;\n",
       "    }\n",
       "\n",
       "    .dataframe tbody tr th {\n",
       "        vertical-align: top;\n",
       "    }\n",
       "\n",
       "    .dataframe thead th {\n",
       "        text-align: right;\n",
       "    }\n",
       "</style>\n",
       "<table border=\"1\" class=\"dataframe\">\n",
       "  <thead>\n",
       "    <tr style=\"text-align: right;\">\n",
       "      <th></th>\n",
       "      <th>column_name</th>\n",
       "      <th>left outliers count</th>\n",
       "      <th>left outliers %</th>\n",
       "      <th>right outliers count</th>\n",
       "      <th>right outliers %</th>\n",
       "    </tr>\n",
       "  </thead>\n",
       "  <tbody>\n",
       "    <tr>\n",
       "      <th>0</th>\n",
       "      <td>f2</td>\n",
       "      <td>301</td>\n",
       "      <td>0.3</td>\n",
       "      <td>283</td>\n",
       "      <td>0.28</td>\n",
       "    </tr>\n",
       "  </tbody>\n",
       "</table>\n",
       "</div>"
      ],
      "text/plain": [
       "  column_name  left outliers count  left outliers %  right outliers count  \\\n",
       "0          f2                  301              0.3                   283   \n",
       "\n",
       "   right outliers %  \n",
       "0              0.28  "
      ]
     },
     "execution_count": 60,
     "metadata": {},
     "output_type": "execute_result"
    }
   ],
   "source": [
    "outliers_report(df=region_3, column_names=['f2'], strategy='iqr')"
   ]
  },
  {
   "cell_type": "markdown",
   "id": "0f1c7ecb-0fa8-495f-8873-1af11bb5a289",
   "metadata": {},
   "source": [
    "- Выбросов в столбце `f2` чуть более половины процента"
   ]
  },
  {
   "cell_type": "markdown",
   "id": "3b6af9b6-6c4d-4c96-8fd4-35ad50466e5a",
   "metadata": {},
   "source": [
    "### Исследование столбца `product`"
   ]
  },
  {
   "cell_type": "code",
   "execution_count": 61,
   "id": "0f444f68-cc22-4968-9a67-37bc2164bd82",
   "metadata": {},
   "outputs": [
    {
     "data": {
      "image/png": "[encoded data removed]",
      "text/plain": [
       "<Figure size 720x360 with 2 Axes>"
      ]
     },
     "metadata": {
      "needs_background": "light"
     },
     "output_type": "display_data"
    }
   ],
   "source": [
    "plot_graphics(df=region_3, column_name='product')"
   ]
  },
  {
   "cell_type": "markdown",
   "id": "3c115703-0774-4be0-99cf-863c1b26eaf7",
   "metadata": {
    "tags": []
   },
   "source": [
    "### Корреляционный анализ"
   ]
  },
  {
   "cell_type": "code",
   "execution_count": 62,
   "id": "f5933ba6-21a4-4570-b770-0e042e0dae23",
   "metadata": {},
   "outputs": [
    {
     "data": {
      "image/png": "[encoded data removed]",
      "text/plain": [
       "<Figure size 360x360 with 2 Axes>"
      ]
     },
     "metadata": {
      "needs_background": "light"
     },
     "output_type": "display_data"
    }
   ],
   "source": [
    "phik_overview = region_3.drop(columns='id').phik_matrix(interval_cols=['f0', 'f1', 'f2', 'product'])\n",
    "\n",
    "plot_correlation_matrix(\n",
    "    phik_overview.values,\n",
    "    x_labels=phik_overview.columns,\n",
    "    y_labels=phik_overview.index,\n",
    "    vmin=0, vmax=1, color_map='Greens',\n",
    "    title=r'correlation $\\phi_K$',\n",
    "    fontsize_factor=1.5,\n",
    "    figsize=(5, 5)) \n",
    "\n",
    "warnings.filterwarnings(\"ignore\", category=UserWarning)"
   ]
  },
  {
   "cell_type": "markdown",
   "id": "67534e3d-e9e4-4b97-95c2-e264cee9a6ed",
   "metadata": {},
   "source": [
    "- Корреляционный анализ показывает среднюю взаимосвязь между таргетом и `f2`"
   ]
  },
  {
   "cell_type": "markdown",
   "id": "39504b13-0713-43ae-b36f-b9ea5a07b29b",
   "metadata": {},
   "source": [
    "### Исследование мультиколлинеарности"
   ]
  },
  {
   "cell_type": "code",
   "execution_count": 63,
   "id": "bb5f6073-dd84-438f-87f9-a3d7e50cdd17",
   "metadata": {},
   "outputs": [
    {
     "data": {
      "text/html": [
       "<div>\n",
       "<style scoped>\n",
       "    .dataframe tbody tr th:only-of-type {\n",
       "        vertical-align: middle;\n",
       "    }\n",
       "\n",
       "    .dataframe tbody tr th {\n",
       "        vertical-align: top;\n",
       "    }\n",
       "\n",
       "    .dataframe thead th {\n",
       "        text-align: right;\n",
       "    }\n",
       "</style>\n",
       "<table border=\"1\" class=\"dataframe\">\n",
       "  <thead>\n",
       "    <tr style=\"text-align: right;\">\n",
       "      <th></th>\n",
       "      <th>Variable</th>\n",
       "      <th>VIF</th>\n",
       "    </tr>\n",
       "  </thead>\n",
       "  <tbody>\n",
       "    <tr>\n",
       "      <th>0</th>\n",
       "      <td>const</td>\n",
       "      <td>5.571816</td>\n",
       "    </tr>\n",
       "    <tr>\n",
       "      <th>1</th>\n",
       "      <td>f0</td>\n",
       "      <td>1.000004</td>\n",
       "    </tr>\n",
       "    <tr>\n",
       "      <th>2</th>\n",
       "      <td>f1</td>\n",
       "      <td>1.000003</td>\n",
       "    </tr>\n",
       "    <tr>\n",
       "      <th>3</th>\n",
       "      <td>f2</td>\n",
       "      <td>1.248132</td>\n",
       "    </tr>\n",
       "    <tr>\n",
       "      <th>4</th>\n",
       "      <td>product</td>\n",
       "      <td>1.248137</td>\n",
       "    </tr>\n",
       "  </tbody>\n",
       "</table>\n",
       "</div>"
      ],
      "text/plain": [
       "  Variable       VIF\n",
       "0    const  5.571816\n",
       "1       f0  1.000004\n",
       "2       f1  1.000003\n",
       "3       f2  1.248132\n",
       "4  product  1.248137"
      ]
     },
     "execution_count": 63,
     "metadata": {},
     "output_type": "execute_result"
    }
   ],
   "source": [
    "check_multicollinearity_vif(region_3)"
   ]
  },
  {
   "cell_type": "markdown",
   "id": "3d67b6ab-c4d0-4aa3-86ce-2d0f9a30fa10",
   "metadata": {},
   "source": [
    "- Первичный анализ данных показал, что распределения всех признаков имеют колоколообразную форму. \n",
    "- Пропуски и явные дубликаты отсутствуют, однако проблема с уникальными идентификаторами сохраняется, как и в других датасетах.  \n",
    "\n",
    "- Выбросы присутствуют в небольшом количестве: менее 1% в `f0` и `f1`, а в `f2` — чуть более 0.5% от общего числа наблюдений.  \n",
    "\n",
    "- Корреляционный анализ выявил среднюю взаимосвязь между целевым признаком и `f2` (коэффициент 0.44), что указывает на возможное влияние, но без явной зависимости.  \n",
    "\n",
    "- Проблема мультиколлинеарности отсутствует, что подтверждено тестом VIF. Данные пригодны для дальнейшего моделирования без необходимости корректировки из-за избыточных взаимосвязей между признаками."
   ]
  },
  {
   "cell_type": "markdown",
   "id": "bd4b2032-b4f2-4d0c-9d17-15f6114e9273",
   "metadata": {},
   "source": [
    "## Обучение модели"
   ]
  },
  {
   "cell_type": "code",
   "execution_count": 64,
   "id": "e6b1a9d6-96d0-40f5-9b00-08affc5a8969",
   "metadata": {},
   "outputs": [],
   "source": [
    "def train_and_predict(region_df):\n",
    "    X_train, X_test, y_train, y_test = train_test_split(region_df.drop(columns=['id', 'product']), \n",
    "                                                    region_df['product'], \n",
    "                                                    test_size=TEST_SIZE, \n",
    "                                                    random_state=RANDOM_STATE)\n",
    "    \n",
    "    \n",
    "    scaler = StandardScaler()\n",
    "    X_train_scaled = scaler.fit_transform(X_train)\n",
    "    X_test_scaled = scaler.transform(X_test)\n",
    "    \n",
    "    model = LinearRegression()\n",
    "    model.fit(X_train_scaled, y_train)\n",
    "    predictions = model.predict(X_test_scaled)\n",
    "    \n",
    "    return X_test_scaled, y_test, predictions, model"
   ]
  },
  {
   "cell_type": "code",
   "execution_count": 65,
   "id": "3521e61f-9112-4cfd-b08f-2bdc34b0899b",
   "metadata": {},
   "outputs": [
    {
     "data": {
      "text/html": [
       "<div>\n",
       "<style scoped>\n",
       "    .dataframe tbody tr th:only-of-type {\n",
       "        vertical-align: middle;\n",
       "    }\n",
       "\n",
       "    .dataframe tbody tr th {\n",
       "        vertical-align: top;\n",
       "    }\n",
       "\n",
       "    .dataframe thead th {\n",
       "        text-align: right;\n",
       "    }\n",
       "</style>\n",
       "<table border=\"1\" class=\"dataframe\">\n",
       "  <thead>\n",
       "    <tr style=\"text-align: right;\">\n",
       "      <th></th>\n",
       "      <th>Средний предсказанный запас</th>\n",
       "      <th>RMSE (validation)</th>\n",
       "    </tr>\n",
       "  </thead>\n",
       "  <tbody>\n",
       "    <tr>\n",
       "      <th>Регион №1</th>\n",
       "      <td>92.40</td>\n",
       "      <td>37.76</td>\n",
       "    </tr>\n",
       "    <tr>\n",
       "      <th>Регион №2</th>\n",
       "      <td>68.71</td>\n",
       "      <td>0.89</td>\n",
       "    </tr>\n",
       "    <tr>\n",
       "      <th>Регион №3</th>\n",
       "      <td>94.77</td>\n",
       "      <td>40.15</td>\n",
       "    </tr>\n",
       "  </tbody>\n",
       "</table>\n",
       "</div>"
      ],
      "text/plain": [
       "           Средний предсказанный запас  RMSE (validation)\n",
       "Регион №1                        92.40              37.76\n",
       "Регион №2                        68.71               0.89\n",
       "Регион №3                        94.77              40.15"
      ]
     },
     "execution_count": 65,
     "metadata": {},
     "output_type": "execute_result"
    }
   ],
   "source": [
    "X_test_1, y_test_1, preds_1, m1 = train_and_predict(region_1)\n",
    "X_test_2, y_test_2, preds_2, m2 = train_and_predict(region_2)\n",
    "X_test_3, y_test_3, preds_3, m3 = train_and_predict(region_3)\n",
    "\n",
    "\n",
    "training_report = pd.DataFrame([\n",
    "    {\n",
    "        'Средний предсказанный запас': preds.mean().round(2),\n",
    "        'RMSE (validation)': round(root_mean_squared_error(y_test, preds), 2)\n",
    "    }\n",
    "    for (y_test, preds) in [(y_test_1, preds_1), (y_test_2, preds_2), (y_test_3, preds_3)]\n",
    "], columns=['Средний предсказанный запас', 'RMSE (validation)'], index=['Регион №1', 'Регион №2', 'Регион №3'])\n",
    "\n",
    "\n",
    "training_report"
   ]
  },
  {
   "cell_type": "markdown",
   "id": "dd89040a-c353-48bc-ab0a-e44a5ac2b0b7",
   "metadata": {},
   "source": [
    "Анализ предсказанных запасов нефти и точности моделей показывает, что наибольший средний запас наблюдается в Регионе №3 (94.77), за ним следует Регион №1 (92.40), а наименьший — в Регионе №2 (68.71). \n",
    "\n",
    "Однако при этом в Регионе №2 модель демонстрирует наивысшую точность предсказаний с минимальной ошибкой (RMSE 0.89), тогда как в Регионах №1 и №3 ошибки значительно выше (37.76 и 40.15 соответственно). \n",
    "\n",
    "Высокие значения RMSE в первом и третьем регионах указывают на большую неопределенность в прогнозах, что может повлиять на принятие решений. \n",
    "\n",
    "- Регион №3 имеет наибольший средний запас, высокая ошибка предсказания снижает уверенность в оценке. \n",
    "- Регион №1 также демонстрирует высокий средний запас, но с большой погрешностью. \n",
    "- Регион №2, несмотря на самый низкий средний запас, отличается наиболее стабильными и точными предсказаниями. "
   ]
  },
  {
   "cell_type": "markdown",
   "id": "5f866bca-09c4-4c0e-832b-c00d4d68dd19",
   "metadata": {},
   "source": [
    "## Анализ безубыточности"
   ]
  },
  {
   "cell_type": "markdown",
   "id": "7d4f5e44",
   "metadata": {},
   "source": [
    "$$ \\text{Доход} = N \\cdot \\text{Цена за баррель} - \\text{Расходы на установку} \\Rightarrow N = \\frac{\\text{Доход} + \\text{Расходы на установку}}{\\text{Цена за баррель}}$$\n",
    "\n",
    "Исследуем вопрос безубыточности, то есть когда $\\text{Доход} \\geqslant 0$. \n",
    "\n",
    "Пограничное значение при условии безубыточности: $\\text{Доход} = 0$, поэтому $$N_{\\text{мин}} = \\frac{\\text{Расходы на установку}}{\\text{Цена за баррель}}$$"
   ]
  },
  {
   "cell_type": "code",
   "execution_count": 66,
   "id": "030712e7",
   "metadata": {},
   "outputs": [],
   "source": [
    "SETTING_COST = 1e10\n",
    "PRICE_PER_BARREL = 450\n",
    "N_BEST = 200"
   ]
  },
  {
   "cell_type": "code",
   "execution_count": 67,
   "id": "04114eb5-d839-4757-9db0-44b1beb77883",
   "metadata": {},
   "outputs": [
    {
     "data": {
      "text/plain": [
       "111.11"
      ]
     },
     "execution_count": 67,
     "metadata": {},
     "output_type": "execute_result"
    }
   ],
   "source": [
    "n_min_1000 = SETTING_COST / (PRICE_PER_BARREL * 1000)\n",
    "round(n_min_1000 / N_BEST, 2)"
   ]
  },
  {
   "cell_type": "markdown",
   "id": "d8a1cdbd-8f74-4e41-91c7-52b4d893e74a",
   "metadata": {},
   "source": [
    "Для того, чтобы перекрыть расходы на установку необходимо, чтобы месторождение имело средний запас не менее 111.11 тыс. баррелей. Сопоставляя с предсказаниями, делаем вывод, что в среднем все месторождения во всех регионах в среднем имеют меньший запас. Поэтому необходим отбор 200 наилучших скважин, чтобы окупить расходны на установку"
   ]
  },
  {
   "cell_type": "markdown",
   "id": "ad44b8f2-4b76-4954-94be-6a610cb27a4f",
   "metadata": {},
   "source": [
    "## Анализ остатков моделей"
   ]
  },
  {
   "cell_type": "code",
   "execution_count": 68,
   "id": "1453e492-71af-4591-bf5e-58cbf8f4c0f0",
   "metadata": {},
   "outputs": [
    {
     "data": {
      "image/png": "[encoded data removed]",
      "text/plain": [
       "<Figure size 1440x360 with 2 Axes>"
      ]
     },
     "metadata": {
      "needs_background": "light"
     },
     "output_type": "display_data"
    }
   ],
   "source": [
    "analyze_residuals(y_test_1 - preds_1, preds_1, 'Регион №1')"
   ]
  },
  {
   "cell_type": "code",
   "execution_count": 69,
   "id": "3a168a4f-f915-4495-85ee-94ca1c6e50ec",
   "metadata": {},
   "outputs": [
    {
     "data": {
      "image/png": "[encoded data removed]",
      "text/plain": [
       "<Figure size 1440x360 with 2 Axes>"
      ]
     },
     "metadata": {
      "needs_background": "light"
     },
     "output_type": "display_data"
    }
   ],
   "source": [
    "analyze_residuals(y_test_2 - preds_2, preds_2, 'Регион №2')"
   ]
  },
  {
   "cell_type": "code",
   "execution_count": 70,
   "id": "f8c2fb60-bdb0-4313-bc55-bbf55ad16687",
   "metadata": {},
   "outputs": [
    {
     "data": {
      "image/png": "[encoded data removed]",
      "text/plain": [
       "<Figure size 1440x360 with 2 Axes>"
      ]
     },
     "metadata": {
      "needs_background": "light"
     },
     "output_type": "display_data"
    }
   ],
   "source": [
    "analyze_residuals(y_test_3 - preds_3, preds_3, 'Регион №3')"
   ]
  },
  {
   "cell_type": "markdown",
   "id": "115b8cd1-3a76-4588-982e-867e4ee546d2",
   "metadata": {},
   "source": [
    "- Распределения остатков достаточно симметричные, средние значения практически совпадают с нулевым уровнем\n",
    "- Дисперсия остатков для первого и третьего регионов распределена неравномерно. На границах диапазона предсказаний наблюдаются явные тенденции (слева - модель занижает предсказания, справа - завышает). \n",
    "- Модель для второго региона интереснее. Дисперсия остатков имеет дискретную структуру. Остатки принимают значения из ограниченного диапазона"
   ]
  },
  {
   "cell_type": "markdown",
   "id": "4aa10bf2-53d0-4041-8a0d-9978f2638c32",
   "metadata": {},
   "source": [
    "## Исследование прибыли и рисков"
   ]
  },
  {
   "cell_type": "markdown",
   "id": "0d899c9b-48ef-4fcc-be81-828fbe51dd1d",
   "metadata": {},
   "source": [
    "$$ \\text{Прибыль} = 450000 \\text{ тыс.руб.} * \\sum_{i=1}^{\\text{top200}}\\text{product} - \\text{бюджет на возведение},$$\n",
    "где top200 получены в ходе оценки регрессией\n",
    "\n",
    "Вероятность рисков будем оценивать с помощью выборочной функции bootstrap-распределения. \n",
    "\n",
    "$$ \\text{Риск убытков } = \\frac{\\text{Количество отрицательных элементов в bootstrap-распределении}}{\\text{Общее число элементов в bootstrap-распределении}} $$"
   ]
  },
  {
   "cell_type": "code",
   "execution_count": 72,
   "id": "9f396d53-9f5b-4d8a-a059-99da201cddf6",
   "metadata": {},
   "outputs": [],
   "source": [
    "def income(y_pred, target, count):\n",
    "    \n",
    "    y_pred_sorted_idx = y_pred.sort_values(ascending=False).index\n",
    "    selected = target[y_pred_sorted_idx][:count] # отбор делаем уже на реальных данных для избегания дублирования\n",
    "    \n",
    "    return selected.sum() * PRICE_PER_BARREL * 1000 - SETTING_COST"
   ]
  },
  {
   "cell_type": "code",
   "execution_count": 73,
   "id": "79397a21-ea6f-4285-965a-03b134030e50",
   "metadata": {},
   "outputs": [],
   "source": [
    "def bootstrap(test, pred):\n",
    "    \n",
    "    scores = []\n",
    "    \n",
    "    for i in range(1000):\n",
    "        target_subsample = test.sample(n=500, replace=True, random_state=state)\n",
    "        pred_series = pd.Series(pred, index=test.index)\n",
    "        scores.append(income(pred_series[target_subsample.index],target_subsample, N_BEST))\n",
    "        \n",
    "    return pd.Series(scores) / 1e6"
   ]
  },
  {
   "cell_type": "code",
   "execution_count": 74,
   "id": "2b7c6662-8d89-4057-b26c-964e6eb299b7",
   "metadata": {},
   "outputs": [],
   "source": [
    "state = np.random.RandomState(RANDOM_STATE)"
   ]
  },
  {
   "cell_type": "code",
   "execution_count": 75,
   "id": "712f90c5-20a6-411e-8adc-2ab0b2a1b4ce",
   "metadata": {},
   "outputs": [],
   "source": [
    "def bootstrap_confidence_interval(test, pred, reg):\n",
    "    \n",
    "    scores = bootstrap(test, pred)\n",
    "    \n",
    "    ax = scores.hist(bins=30, color='blue', alpha=.3, figsize=(20, 5), density=1)\n",
    "    ax = scores.plot(kind='kde')\n",
    "    \n",
    "    ax.vlines(x=scores.mean(), \n",
    "              ymin=0, \n",
    "              ymax=.0015, \n",
    "              color='red', \n",
    "              ls='--', \n",
    "              label=f'Ср. доход: {(scores.mean()).round(2)} млн. руб.')\n",
    "    \n",
    "    ax.vlines(x=scores.median(), \n",
    "              ymin=0, \n",
    "              ymax=.0015, \n",
    "              color='blue', \n",
    "              ls='--', \n",
    "              label=f'Медиана: {(scores.median()).round(2)} млн. руб.')\n",
    "    \n",
    "    ax.axvspan(xmin=scores.quantile(.025), \n",
    "               xmax=scores.quantile(.975), \n",
    "               alpha=.1, \n",
    "               ymax=5, \n",
    "               color='green', \n",
    "               label=f'Дов. интервал: [{scores.quantile(.025).round(2)}, {scores.quantile(.975).round(2)}]')\n",
    "    \n",
    "    ax.axvspan(xmin=scores.quantile(.5) - scores.std(), \n",
    "               xmax=scores.quantile(.5) + scores.std(), \n",
    "               alpha=.15, \n",
    "               ymax=5, \n",
    "               color=DEFAULT_COLOR, \n",
    "               label=f'median $\\pm \\sigma$: [{(scores.quantile(.5) - scores.std()).round(2)}, {(scores.quantile(.5) + scores.std()).round(2)}]')\n",
    "    \n",
    "    ax.axvspan(xmin=scores.min(), \n",
    "               xmax=0, \n",
    "               alpha=.08, \n",
    "               ymax=5, \n",
    "               color='red', \n",
    "               label=f'Убыточная область. Риск убытков: {((scores < 0).mean() * 100).round(2)}%')\n",
    "    \n",
    "    ax.set_title(f'[{reg}] Бутстрап распределение дохода с нанесением среднего значения и 95% доверительного интервала' )\n",
    "    ax.set_xlabel('Доход, млн. руб.')\n",
    "    ax.legend(fontsize=14);\n",
    "    \n",
    "    return scores, ((scores < 0).mean() * 100).round(2)"
   ]
  },
  {
   "cell_type": "code",
   "execution_count": 76,
   "id": "5fcad0cb-6b94-4d40-9766-19c22dc3e79a",
   "metadata": {},
   "outputs": [
    {
     "data": {
      "image/png": "[encoded data removed]",
      "text/plain": [
       "<Figure size 1440x360 with 1 Axes>"
      ]
     },
     "metadata": {
      "needs_background": "light"
     },
     "output_type": "display_data"
    }
   ],
   "source": [
    "scores_1, risk1 = bootstrap_confidence_interval(y_test_1, preds_1, 'Регион №1')"
   ]
  },
  {
   "cell_type": "code",
   "execution_count": 77,
   "id": "393f0e1e-7e87-4a3a-82ed-2f59dcac868d",
   "metadata": {},
   "outputs": [
    {
     "data": {
      "image/png": "[encoded data removed]",
      "text/plain": [
       "<Figure size 1440x360 with 1 Axes>"
      ]
     },
     "metadata": {
      "needs_background": "light"
     },
     "output_type": "display_data"
    }
   ],
   "source": [
    "scores_2, risk2 = bootstrap_confidence_interval(y_test_2, preds_2, 'Регион №2')"
   ]
  },
  {
   "cell_type": "code",
   "execution_count": 78,
   "id": "25b0d461-441c-44df-9114-bcf3c53e31cb",
   "metadata": {},
   "outputs": [
    {
     "data": {
      "image/png": "[encoded data removed]",
      "text/plain": [
       "<Figure size 1440x360 with 1 Axes>"
      ]
     },
     "metadata": {
      "needs_background": "light"
     },
     "output_type": "display_data"
    }
   ],
   "source": [
    "scores_3, risk3 = bootstrap_confidence_interval(y_test_3, preds_3, 'Регион №3')"
   ]
  },
  {
   "cell_type": "code",
   "execution_count": 79,
   "id": "e2c9a786-842a-4e63-abe6-a86e9e782ecd",
   "metadata": {},
   "outputs": [],
   "source": [
    "satisfied_regions = list(filter(lambda x: x[1] < 2.5,\n",
    "[('Регион №1', risk1, scores_1),\n",
    "     ('Регион №2', risk2, scores_2),\n",
    "     ('Регион №3', risk3, scores_3)]))\n",
    "\n",
    "best_region = sorted(satisfied_regions, key=lambda x: x[2].mean(), reverse=True)[0]\n",
    "\n",
    "report = ''\n",
    "\n",
    "for r in satisfied_regions:\n",
    "    report += f'    - {r[0]} с риском убытка {r[1]}% и 95% доверительным интервалом прибыли (млн. руб.) [{r[2].quantile(.025).round(2)}, {r[2].quantile(.975).round(2)}]. Последний получен с помощью bootstrap техники.\\n'"
   ]
  },
  {
   "cell_type": "markdown",
   "id": "7e0d5a9b-cae8-44aa-bd7c-aa591342c84c",
   "metadata": {},
   "source": [
    "## Вывод\n",
    "\n",
    "В ходе выполнения проекта были исследованы три региона с месторождениями нефти. Для каждого региона рассчитаны средние значения прибыли, оценены риски убыточности, а также определены доверительные интервалы с использованием метода Bootstrap.  \n",
    "\n",
    "На первом этапе проведен разведочный анализ данных, включая исследование корреляции признаков и проверку на мультиколлинеарность. Во втором датасете выявлена сильная (почти 100%) корреляция одного из предикторов с целевой переменной**, а также признаки мультиколлинеарности, подтвержденные коэффициентом VIF.  \n",
    "\n",
    "Далее для каждого региона была обучена модель линейной регрессии, после чего проведен анализ остатков. Несмотря на их небольшое смещение относительно нуля, во всех трех моделях наблюдается неравномерность дисперсии остатков.  \n",
    "\n",
    "Анализ экономических условий показал, что для покрытия затрат на установку средний запас нефти в месторождении должен быть не менее 111,11 тыс. баррелей. Однако предсказания модели показывают, что в среднем запасы во всех регионах ниже этого порога. Поэтому для обеспечения прибыльности принимается решение отбирать 200 наиболее перспективных месторождений с наибольшими предсказанными запасами. Количество месторождений в каждом регионе довольно велико, поэтому согласно ТЗ при разведке региона выбирается 500 месторождений, из которых в свою очередь выбирают 200 наиболее перспективных.\n",
    "\n",
    "На завершающем этапе были рассчитаны средние значения прибыли и риска убыточности для каждого региона, что позволило определить наиболее перспективную область для инвестиций. Результаты следующие:"
   ]
  },
  {
   "cell_type": "code",
   "execution_count": 80,
   "id": "f29ef538-1a2b-4a18-bf66-840132a02eef",
   "metadata": {},
   "outputs": [
    {
     "name": "stdout",
     "output_type": "stream",
     "text": [
      "\n",
      "Согласно техническому заданию регион считается подходящим, если риск убыли менее 2.5%. Этому требованию удовлетворяют регионы:\n",
      "\n",
      "    - Регион №2 с риском убытка 0.6% и 95% доверительным интервалом прибыли (млн. руб.) [91.7, 921.46]. Последний получен с помощью bootstrap техники.\n",
      "\n",
      "\n",
      "Наиболее выгодным является Регион №2 со средней прибылью 511.53 млн. руб.\n",
      "\n"
     ]
    }
   ],
   "source": [
    "print(f'''\n",
    "Согласно техническому заданию регион считается подходящим, если риск убыли менее 2.5%. Этому требованию удовлетворяют регионы:\n",
    "\n",
    "{report}\n",
    "\n",
    "Наиболее выгодным является {best_region[0]} со средней прибылью {best_region[2].mean().round(2)} млн. руб.\n",
    "''')"
   ]
  }
 ],
 "metadata": {
  "ExecuteTimeLog": [
   {
    "duration": 3,
    "start_time": "2025-03-13T15:49:50.285Z"
   },
   {
    "duration": 2,
    "start_time": "2025-03-13T15:50:28.014Z"
   },
   {
    "duration": 8,
    "start_time": "2025-03-13T15:50:28.205Z"
   },
   {
    "duration": 2646,
    "start_time": "2025-03-13T15:54:55.496Z"
   },
   {
    "duration": 3,
    "start_time": "2025-03-13T15:54:58.145Z"
   },
   {
    "duration": 1854,
    "start_time": "2025-03-13T15:54:58.149Z"
   },
   {
    "duration": 4,
    "start_time": "2025-03-13T15:55:04.803Z"
   },
   {
    "duration": 5,
    "start_time": "2025-03-13T15:55:05.692Z"
   },
   {
    "duration": 10,
    "start_time": "2025-03-13T15:55:05.948Z"
   },
   {
    "duration": 10,
    "start_time": "2025-03-13T15:55:06.096Z"
   },
   {
    "duration": 10,
    "start_time": "2025-03-13T15:55:06.241Z"
   },
   {
    "duration": 5,
    "start_time": "2025-03-13T15:55:06.388Z"
   },
   {
    "duration": 150,
    "start_time": "2025-03-13T15:55:06.830Z"
   },
   {
    "duration": 13,
    "start_time": "2025-03-13T15:55:06.999Z"
   },
   {
    "duration": 17,
    "start_time": "2025-03-13T15:55:07.131Z"
   },
   {
    "duration": 989,
    "start_time": "2025-03-13T15:55:07.270Z"
   },
   {
    "duration": 45,
    "start_time": "2025-03-13T15:55:08.260Z"
   },
   {
    "duration": 11,
    "start_time": "2025-03-13T15:55:08.307Z"
   },
   {
    "duration": 56,
    "start_time": "2025-03-13T15:55:08.321Z"
   },
   {
    "duration": 39,
    "start_time": "2025-03-13T15:55:08.379Z"
   },
   {
    "duration": 26,
    "start_time": "2025-03-13T15:55:08.420Z"
   },
   {
    "duration": 694,
    "start_time": "2025-03-13T15:55:08.448Z"
   },
   {
    "duration": 856,
    "start_time": "2025-03-13T15:55:09.144Z"
   },
   {
    "duration": 785,
    "start_time": "2025-03-13T15:55:10.004Z"
   },
   {
    "duration": 31,
    "start_time": "2025-03-13T15:55:10.791Z"
   },
   {
    "duration": 764,
    "start_time": "2025-03-13T15:55:10.824Z"
   },
   {
    "duration": 760,
    "start_time": "2025-03-13T15:55:11.589Z"
   },
   {
    "duration": 656,
    "start_time": "2025-03-13T15:55:12.353Z"
   },
   {
    "duration": 225,
    "start_time": "2025-03-13T15:55:13.011Z"
   },
   {
    "duration": 10,
    "start_time": "2025-03-13T15:55:13.238Z"
   },
   {
    "duration": 16,
    "start_time": "2025-03-13T15:55:13.250Z"
   },
   {
    "duration": 952,
    "start_time": "2025-03-13T15:55:13.268Z"
   },
   {
    "duration": 36,
    "start_time": "2025-03-13T15:55:14.222Z"
   },
   {
    "duration": 10,
    "start_time": "2025-03-13T15:55:14.259Z"
   },
   {
    "duration": 74,
    "start_time": "2025-03-13T15:55:14.271Z"
   },
   {
    "duration": 18,
    "start_time": "2025-03-13T15:55:14.347Z"
   },
   {
    "duration": 48,
    "start_time": "2025-03-13T15:55:14.366Z"
   },
   {
    "duration": 793,
    "start_time": "2025-03-13T15:55:14.415Z"
   },
   {
    "duration": 768,
    "start_time": "2025-03-13T15:55:15.210Z"
   },
   {
    "duration": 33,
    "start_time": "2025-03-13T15:55:15.980Z"
   },
   {
    "duration": 874,
    "start_time": "2025-03-13T15:55:16.016Z"
   },
   {
    "duration": 780,
    "start_time": "2025-03-13T15:55:16.892Z"
   },
   {
    "duration": 687,
    "start_time": "2025-03-13T15:55:17.674Z"
   },
   {
    "duration": 745,
    "start_time": "2025-03-13T15:55:18.363Z"
   },
   {
    "duration": 702,
    "start_time": "2025-03-13T15:55:19.113Z"
   },
   {
    "duration": 12,
    "start_time": "2025-03-13T15:55:19.818Z"
   },
   {
    "duration": 147,
    "start_time": "2025-03-13T15:55:19.832Z"
   },
   {
    "duration": 10,
    "start_time": "2025-03-13T15:55:19.980Z"
   },
   {
    "duration": 22,
    "start_time": "2025-03-13T15:55:20.006Z"
   },
   {
    "duration": 1017,
    "start_time": "2025-03-13T15:55:20.030Z"
   },
   {
    "duration": 10,
    "start_time": "2025-03-13T15:55:21.048Z"
   },
   {
    "duration": 53,
    "start_time": "2025-03-13T15:55:21.059Z"
   },
   {
    "duration": 17,
    "start_time": "2025-03-13T15:55:21.114Z"
   },
   {
    "duration": 63,
    "start_time": "2025-03-13T15:55:21.133Z"
   },
   {
    "duration": 675,
    "start_time": "2025-03-13T15:55:21.197Z"
   },
   {
    "duration": 33,
    "start_time": "2025-03-13T15:55:21.874Z"
   },
   {
    "duration": 801,
    "start_time": "2025-03-13T15:55:21.908Z"
   },
   {
    "duration": 27,
    "start_time": "2025-03-13T15:55:22.711Z"
   },
   {
    "duration": 725,
    "start_time": "2025-03-13T15:55:22.740Z"
   },
   {
    "duration": 35,
    "start_time": "2025-03-13T15:55:23.469Z"
   },
   {
    "duration": 883,
    "start_time": "2025-03-13T15:55:23.507Z"
   },
   {
    "duration": 672,
    "start_time": "2025-03-13T15:55:24.392Z"
   },
   {
    "duration": 740,
    "start_time": "2025-03-13T15:55:25.066Z"
   },
   {
    "duration": 96,
    "start_time": "2025-03-13T15:55:25.808Z"
   },
   {
    "duration": 502,
    "start_time": "2025-03-13T15:55:25.906Z"
   },
   {
    "duration": 92,
    "start_time": "2025-03-13T15:55:26.413Z"
   },
   {
    "duration": 8,
    "start_time": "2025-03-13T15:55:26.507Z"
   },
   {
    "duration": 657,
    "start_time": "2025-03-13T15:55:31.480Z"
   },
   {
    "duration": 637,
    "start_time": "2025-03-13T15:55:32.139Z"
   },
   {
    "duration": 669,
    "start_time": "2025-03-13T15:55:32.778Z"
   },
   {
    "duration": 4,
    "start_time": "2025-03-13T15:55:36.812Z"
   },
   {
    "duration": 4,
    "start_time": "2025-03-13T15:55:55.495Z"
   },
   {
    "duration": 5,
    "start_time": "2025-03-13T15:56:04.348Z"
   },
   {
    "duration": 3,
    "start_time": "2025-03-13T15:56:05.573Z"
   },
   {
    "duration": 7,
    "start_time": "2025-03-13T15:56:06.542Z"
   },
   {
    "duration": 2029,
    "start_time": "2025-03-13T15:56:07.527Z"
   },
   {
    "duration": 1967,
    "start_time": "2025-03-13T15:56:12.420Z"
   },
   {
    "duration": 2028,
    "start_time": "2025-03-13T15:56:15.127Z"
   },
   {
    "duration": 6,
    "start_time": "2025-03-13T15:56:25.503Z"
   },
   {
    "duration": 4,
    "start_time": "2025-03-13T15:56:26.861Z"
   }
  ],
  "kernelspec": {
   "display_name": "Python 3 (ipykernel)",
   "language": "python",
   "name": "python3"
  },
  "language_info": {
   "codemirror_mode": {
    "name": "ipython",
    "version": 3
   },
   "file_extension": ".py",
   "mimetype": "text/x-python",
   "name": "python",
   "nbconvert_exporter": "python",
   "pygments_lexer": "ipython3",
   "version": "3.9.5"
  },
  "toc": {
   "base_numbering": 1,
   "nav_menu": {},
   "number_sections": true,
   "sideBar": true,
   "skip_h1_title": true,
   "title_cell": "Table of Contents",
   "title_sidebar": "Contents",
   "toc_cell": false,
   "toc_position": {},
   "toc_section_display": true,
   "toc_window_display": false
  }
 },
 "nbformat": 4,
 "nbformat_minor": 5
}
