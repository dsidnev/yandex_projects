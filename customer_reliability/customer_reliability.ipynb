{
 "cells": [
  {
   "cell_type": "markdown",
   "id": "448516f9",
   "metadata": {
    "deletable": false,
    "editable": false,
    "id": "c81daeeb"
   },
   "source": [
    "# Исследование надежности заемщиков\n"
   ]
  },
  {
   "cell_type": "markdown",
   "id": "9aec6bf4",
   "metadata": {
    "deletable": false,
    "editable": false,
    "id": "827c20bf"
   },
   "source": [
    "Во второй части проекта вы выполните шаги 3 и 4. Их вручную проверит ревьюер.\n",
    "Чтобы вам не пришлось писать код заново для шагов 1 и 2, мы добавили авторские решения в ячейки с кодом. \n",
    "\n"
   ]
  },
  {
   "cell_type": "markdown",
   "id": "1de6c363",
   "metadata": {
    "deletable": false,
    "editable": false,
    "id": "744d7639"
   },
   "source": [
    "## Откройте таблицу и изучите общую информацию о данных"
   ]
  },
  {
   "cell_type": "markdown",
   "id": "84bdf759",
   "metadata": {
    "deletable": false,
    "editable": false,
    "id": "e7a14c31"
   },
   "source": [
    "**Задание 1. Импортируйте библиотеку pandas. Считайте данные из csv-файла в датафрейм и сохраните в переменную `data`. Путь к файлу:**\n",
    "\n",
    "`/datasets/data.csv`"
   ]
  },
  {
   "cell_type": "code",
   "execution_count": null,
   "id": "2ae74cfb",
   "metadata": {
    "deletable": false,
    "id": "7bcf75c9"
   },
   "outputs": [],
   "source": [
    "import pandas as pd\n",
    "import seaborn as sns\n",
    "\n",
    "try:\n",
    "    data = pd.read_csv('/datasets/data.csv')\n",
    "except:\n",
    "    data = pd.read_csv('PATH_TO_DATA')"
   ]
  },
  {
   "cell_type": "markdown",
   "id": "8d12b33a",
   "metadata": {
    "deletable": false,
    "editable": false,
    "id": "b8038fe3"
   },
   "source": [
    "**Задание 2. Выведите первые 20 строчек датафрейма `data` на экран.**"
   ]
  },
  {
   "cell_type": "code",
   "execution_count": 3,
   "id": "0abf9033",
   "metadata": {
    "deletable": false,
    "id": "2a7cab99",
    "outputId": "1a8f3ef2-d323-4ec2-ddf7-89670b5944c4"
   },
   "outputs": [
    {
     "data": {
      "text/html": [
       "<div>\n",
       "<style scoped>\n",
       "    .dataframe tbody tr th:only-of-type {\n",
       "        vertical-align: middle;\n",
       "    }\n",
       "\n",
       "    .dataframe tbody tr th {\n",
       "        vertical-align: top;\n",
       "    }\n",
       "\n",
       "    .dataframe thead th {\n",
       "        text-align: right;\n",
       "    }\n",
       "</style>\n",
       "<table border=\"1\" class=\"dataframe\">\n",
       "  <thead>\n",
       "    <tr style=\"text-align: right;\">\n",
       "      <th></th>\n",
       "      <th>children</th>\n",
       "      <th>days_employed</th>\n",
       "      <th>dob_years</th>\n",
       "      <th>education</th>\n",
       "      <th>education_id</th>\n",
       "      <th>family_status</th>\n",
       "      <th>family_status_id</th>\n",
       "      <th>gender</th>\n",
       "      <th>income_type</th>\n",
       "      <th>debt</th>\n",
       "      <th>total_income</th>\n",
       "      <th>purpose</th>\n",
       "    </tr>\n",
       "  </thead>\n",
       "  <tbody>\n",
       "    <tr>\n",
       "      <th>0</th>\n",
       "      <td>1</td>\n",
       "      <td>-8437.673028</td>\n",
       "      <td>42</td>\n",
       "      <td>высшее</td>\n",
       "      <td>0</td>\n",
       "      <td>женат / замужем</td>\n",
       "      <td>0</td>\n",
       "      <td>F</td>\n",
       "      <td>сотрудник</td>\n",
       "      <td>0</td>\n",
       "      <td>253875.639453</td>\n",
       "      <td>покупка жилья</td>\n",
       "    </tr>\n",
       "    <tr>\n",
       "      <th>1</th>\n",
       "      <td>1</td>\n",
       "      <td>-4024.803754</td>\n",
       "      <td>36</td>\n",
       "      <td>среднее</td>\n",
       "      <td>1</td>\n",
       "      <td>женат / замужем</td>\n",
       "      <td>0</td>\n",
       "      <td>F</td>\n",
       "      <td>сотрудник</td>\n",
       "      <td>0</td>\n",
       "      <td>112080.014102</td>\n",
       "      <td>приобретение автомобиля</td>\n",
       "    </tr>\n",
       "    <tr>\n",
       "      <th>2</th>\n",
       "      <td>0</td>\n",
       "      <td>-5623.422610</td>\n",
       "      <td>33</td>\n",
       "      <td>Среднее</td>\n",
       "      <td>1</td>\n",
       "      <td>женат / замужем</td>\n",
       "      <td>0</td>\n",
       "      <td>M</td>\n",
       "      <td>сотрудник</td>\n",
       "      <td>0</td>\n",
       "      <td>145885.952297</td>\n",
       "      <td>покупка жилья</td>\n",
       "    </tr>\n",
       "    <tr>\n",
       "      <th>3</th>\n",
       "      <td>3</td>\n",
       "      <td>-4124.747207</td>\n",
       "      <td>32</td>\n",
       "      <td>среднее</td>\n",
       "      <td>1</td>\n",
       "      <td>женат / замужем</td>\n",
       "      <td>0</td>\n",
       "      <td>M</td>\n",
       "      <td>сотрудник</td>\n",
       "      <td>0</td>\n",
       "      <td>267628.550329</td>\n",
       "      <td>дополнительное образование</td>\n",
       "    </tr>\n",
       "    <tr>\n",
       "      <th>4</th>\n",
       "      <td>0</td>\n",
       "      <td>340266.072047</td>\n",
       "      <td>53</td>\n",
       "      <td>среднее</td>\n",
       "      <td>1</td>\n",
       "      <td>гражданский брак</td>\n",
       "      <td>1</td>\n",
       "      <td>F</td>\n",
       "      <td>пенсионер</td>\n",
       "      <td>0</td>\n",
       "      <td>158616.077870</td>\n",
       "      <td>сыграть свадьбу</td>\n",
       "    </tr>\n",
       "    <tr>\n",
       "      <th>5</th>\n",
       "      <td>0</td>\n",
       "      <td>-926.185831</td>\n",
       "      <td>27</td>\n",
       "      <td>высшее</td>\n",
       "      <td>0</td>\n",
       "      <td>гражданский брак</td>\n",
       "      <td>1</td>\n",
       "      <td>M</td>\n",
       "      <td>компаньон</td>\n",
       "      <td>0</td>\n",
       "      <td>255763.565419</td>\n",
       "      <td>покупка жилья</td>\n",
       "    </tr>\n",
       "    <tr>\n",
       "      <th>6</th>\n",
       "      <td>0</td>\n",
       "      <td>-2879.202052</td>\n",
       "      <td>43</td>\n",
       "      <td>высшее</td>\n",
       "      <td>0</td>\n",
       "      <td>женат / замужем</td>\n",
       "      <td>0</td>\n",
       "      <td>F</td>\n",
       "      <td>компаньон</td>\n",
       "      <td>0</td>\n",
       "      <td>240525.971920</td>\n",
       "      <td>операции с жильем</td>\n",
       "    </tr>\n",
       "    <tr>\n",
       "      <th>7</th>\n",
       "      <td>0</td>\n",
       "      <td>-152.779569</td>\n",
       "      <td>50</td>\n",
       "      <td>СРЕДНЕЕ</td>\n",
       "      <td>1</td>\n",
       "      <td>женат / замужем</td>\n",
       "      <td>0</td>\n",
       "      <td>M</td>\n",
       "      <td>сотрудник</td>\n",
       "      <td>0</td>\n",
       "      <td>135823.934197</td>\n",
       "      <td>образование</td>\n",
       "    </tr>\n",
       "    <tr>\n",
       "      <th>8</th>\n",
       "      <td>2</td>\n",
       "      <td>-6929.865299</td>\n",
       "      <td>35</td>\n",
       "      <td>ВЫСШЕЕ</td>\n",
       "      <td>0</td>\n",
       "      <td>гражданский брак</td>\n",
       "      <td>1</td>\n",
       "      <td>F</td>\n",
       "      <td>сотрудник</td>\n",
       "      <td>0</td>\n",
       "      <td>95856.832424</td>\n",
       "      <td>на проведение свадьбы</td>\n",
       "    </tr>\n",
       "    <tr>\n",
       "      <th>9</th>\n",
       "      <td>0</td>\n",
       "      <td>-2188.756445</td>\n",
       "      <td>41</td>\n",
       "      <td>среднее</td>\n",
       "      <td>1</td>\n",
       "      <td>женат / замужем</td>\n",
       "      <td>0</td>\n",
       "      <td>M</td>\n",
       "      <td>сотрудник</td>\n",
       "      <td>0</td>\n",
       "      <td>144425.938277</td>\n",
       "      <td>покупка жилья для семьи</td>\n",
       "    </tr>\n",
       "    <tr>\n",
       "      <th>10</th>\n",
       "      <td>2</td>\n",
       "      <td>-4171.483647</td>\n",
       "      <td>36</td>\n",
       "      <td>высшее</td>\n",
       "      <td>0</td>\n",
       "      <td>женат / замужем</td>\n",
       "      <td>0</td>\n",
       "      <td>M</td>\n",
       "      <td>компаньон</td>\n",
       "      <td>0</td>\n",
       "      <td>113943.491460</td>\n",
       "      <td>покупка недвижимости</td>\n",
       "    </tr>\n",
       "    <tr>\n",
       "      <th>11</th>\n",
       "      <td>0</td>\n",
       "      <td>-792.701887</td>\n",
       "      <td>40</td>\n",
       "      <td>среднее</td>\n",
       "      <td>1</td>\n",
       "      <td>женат / замужем</td>\n",
       "      <td>0</td>\n",
       "      <td>F</td>\n",
       "      <td>сотрудник</td>\n",
       "      <td>0</td>\n",
       "      <td>77069.234271</td>\n",
       "      <td>покупка коммерческой недвижимости</td>\n",
       "    </tr>\n",
       "    <tr>\n",
       "      <th>12</th>\n",
       "      <td>0</td>\n",
       "      <td>NaN</td>\n",
       "      <td>65</td>\n",
       "      <td>среднее</td>\n",
       "      <td>1</td>\n",
       "      <td>гражданский брак</td>\n",
       "      <td>1</td>\n",
       "      <td>M</td>\n",
       "      <td>пенсионер</td>\n",
       "      <td>0</td>\n",
       "      <td>NaN</td>\n",
       "      <td>сыграть свадьбу</td>\n",
       "    </tr>\n",
       "    <tr>\n",
       "      <th>13</th>\n",
       "      <td>0</td>\n",
       "      <td>-1846.641941</td>\n",
       "      <td>54</td>\n",
       "      <td>неоконченное высшее</td>\n",
       "      <td>2</td>\n",
       "      <td>женат / замужем</td>\n",
       "      <td>0</td>\n",
       "      <td>F</td>\n",
       "      <td>сотрудник</td>\n",
       "      <td>0</td>\n",
       "      <td>130458.228857</td>\n",
       "      <td>приобретение автомобиля</td>\n",
       "    </tr>\n",
       "    <tr>\n",
       "      <th>14</th>\n",
       "      <td>0</td>\n",
       "      <td>-1844.956182</td>\n",
       "      <td>56</td>\n",
       "      <td>высшее</td>\n",
       "      <td>0</td>\n",
       "      <td>гражданский брак</td>\n",
       "      <td>1</td>\n",
       "      <td>F</td>\n",
       "      <td>компаньон</td>\n",
       "      <td>1</td>\n",
       "      <td>165127.911772</td>\n",
       "      <td>покупка жилой недвижимости</td>\n",
       "    </tr>\n",
       "    <tr>\n",
       "      <th>15</th>\n",
       "      <td>1</td>\n",
       "      <td>-972.364419</td>\n",
       "      <td>26</td>\n",
       "      <td>среднее</td>\n",
       "      <td>1</td>\n",
       "      <td>женат / замужем</td>\n",
       "      <td>0</td>\n",
       "      <td>F</td>\n",
       "      <td>сотрудник</td>\n",
       "      <td>0</td>\n",
       "      <td>116820.904450</td>\n",
       "      <td>строительство собственной недвижимости</td>\n",
       "    </tr>\n",
       "    <tr>\n",
       "      <th>16</th>\n",
       "      <td>0</td>\n",
       "      <td>-1719.934226</td>\n",
       "      <td>35</td>\n",
       "      <td>среднее</td>\n",
       "      <td>1</td>\n",
       "      <td>женат / замужем</td>\n",
       "      <td>0</td>\n",
       "      <td>F</td>\n",
       "      <td>сотрудник</td>\n",
       "      <td>0</td>\n",
       "      <td>289202.704229</td>\n",
       "      <td>недвижимость</td>\n",
       "    </tr>\n",
       "    <tr>\n",
       "      <th>17</th>\n",
       "      <td>0</td>\n",
       "      <td>-2369.999720</td>\n",
       "      <td>33</td>\n",
       "      <td>высшее</td>\n",
       "      <td>0</td>\n",
       "      <td>гражданский брак</td>\n",
       "      <td>1</td>\n",
       "      <td>M</td>\n",
       "      <td>сотрудник</td>\n",
       "      <td>0</td>\n",
       "      <td>90410.586745</td>\n",
       "      <td>строительство недвижимости</td>\n",
       "    </tr>\n",
       "    <tr>\n",
       "      <th>18</th>\n",
       "      <td>0</td>\n",
       "      <td>400281.136913</td>\n",
       "      <td>53</td>\n",
       "      <td>среднее</td>\n",
       "      <td>1</td>\n",
       "      <td>вдовец / вдова</td>\n",
       "      <td>2</td>\n",
       "      <td>F</td>\n",
       "      <td>пенсионер</td>\n",
       "      <td>0</td>\n",
       "      <td>56823.777243</td>\n",
       "      <td>на покупку подержанного автомобиля</td>\n",
       "    </tr>\n",
       "    <tr>\n",
       "      <th>19</th>\n",
       "      <td>0</td>\n",
       "      <td>-10038.818549</td>\n",
       "      <td>48</td>\n",
       "      <td>СРЕДНЕЕ</td>\n",
       "      <td>1</td>\n",
       "      <td>в разводе</td>\n",
       "      <td>3</td>\n",
       "      <td>F</td>\n",
       "      <td>сотрудник</td>\n",
       "      <td>0</td>\n",
       "      <td>242831.107982</td>\n",
       "      <td>на покупку своего автомобиля</td>\n",
       "    </tr>\n",
       "  </tbody>\n",
       "</table>\n",
       "</div>"
      ],
      "text/plain": [
       "    children  days_employed  dob_years            education  education_id  \\\n",
       "0          1   -8437.673028         42               высшее             0   \n",
       "1          1   -4024.803754         36              среднее             1   \n",
       "2          0   -5623.422610         33              Среднее             1   \n",
       "3          3   -4124.747207         32              среднее             1   \n",
       "4          0  340266.072047         53              среднее             1   \n",
       "5          0    -926.185831         27               высшее             0   \n",
       "6          0   -2879.202052         43               высшее             0   \n",
       "7          0    -152.779569         50              СРЕДНЕЕ             1   \n",
       "8          2   -6929.865299         35               ВЫСШЕЕ             0   \n",
       "9          0   -2188.756445         41              среднее             1   \n",
       "10         2   -4171.483647         36               высшее             0   \n",
       "11         0    -792.701887         40              среднее             1   \n",
       "12         0            NaN         65              среднее             1   \n",
       "13         0   -1846.641941         54  неоконченное высшее             2   \n",
       "14         0   -1844.956182         56               высшее             0   \n",
       "15         1    -972.364419         26              среднее             1   \n",
       "16         0   -1719.934226         35              среднее             1   \n",
       "17         0   -2369.999720         33               высшее             0   \n",
       "18         0  400281.136913         53              среднее             1   \n",
       "19         0  -10038.818549         48              СРЕДНЕЕ             1   \n",
       "\n",
       "       family_status  family_status_id gender income_type  debt  \\\n",
       "0    женат / замужем                 0      F   сотрудник     0   \n",
       "1    женат / замужем                 0      F   сотрудник     0   \n",
       "2    женат / замужем                 0      M   сотрудник     0   \n",
       "3    женат / замужем                 0      M   сотрудник     0   \n",
       "4   гражданский брак                 1      F   пенсионер     0   \n",
       "5   гражданский брак                 1      M   компаньон     0   \n",
       "6    женат / замужем                 0      F   компаньон     0   \n",
       "7    женат / замужем                 0      M   сотрудник     0   \n",
       "8   гражданский брак                 1      F   сотрудник     0   \n",
       "9    женат / замужем                 0      M   сотрудник     0   \n",
       "10   женат / замужем                 0      M   компаньон     0   \n",
       "11   женат / замужем                 0      F   сотрудник     0   \n",
       "12  гражданский брак                 1      M   пенсионер     0   \n",
       "13   женат / замужем                 0      F   сотрудник     0   \n",
       "14  гражданский брак                 1      F   компаньон     1   \n",
       "15   женат / замужем                 0      F   сотрудник     0   \n",
       "16   женат / замужем                 0      F   сотрудник     0   \n",
       "17  гражданский брак                 1      M   сотрудник     0   \n",
       "18    вдовец / вдова                 2      F   пенсионер     0   \n",
       "19         в разводе                 3      F   сотрудник     0   \n",
       "\n",
       "     total_income                                 purpose  \n",
       "0   253875.639453                           покупка жилья  \n",
       "1   112080.014102                 приобретение автомобиля  \n",
       "2   145885.952297                           покупка жилья  \n",
       "3   267628.550329              дополнительное образование  \n",
       "4   158616.077870                         сыграть свадьбу  \n",
       "5   255763.565419                           покупка жилья  \n",
       "6   240525.971920                       операции с жильем  \n",
       "7   135823.934197                             образование  \n",
       "8    95856.832424                   на проведение свадьбы  \n",
       "9   144425.938277                 покупка жилья для семьи  \n",
       "10  113943.491460                    покупка недвижимости  \n",
       "11   77069.234271       покупка коммерческой недвижимости  \n",
       "12            NaN                         сыграть свадьбу  \n",
       "13  130458.228857                 приобретение автомобиля  \n",
       "14  165127.911772              покупка жилой недвижимости  \n",
       "15  116820.904450  строительство собственной недвижимости  \n",
       "16  289202.704229                            недвижимость  \n",
       "17   90410.586745              строительство недвижимости  \n",
       "18   56823.777243      на покупку подержанного автомобиля  \n",
       "19  242831.107982            на покупку своего автомобиля  "
      ]
     },
     "execution_count": 3,
     "metadata": {},
     "output_type": "execute_result"
    }
   ],
   "source": [
    "data.head(20)"
   ]
  },
  {
   "cell_type": "markdown",
   "id": "3da553ca",
   "metadata": {
    "deletable": false,
    "editable": false,
    "id": "1c12e233"
   },
   "source": [
    "**Задание 3. Выведите основную информацию о датафрейме с помощью метода `info()`.**"
   ]
  },
  {
   "cell_type": "code",
   "execution_count": 4,
   "id": "049452bd",
   "metadata": {
    "deletable": false,
    "id": "2b757bca",
    "outputId": "15376089-8dad-46c9-b520-c05248d43158"
   },
   "outputs": [
    {
     "name": "stdout",
     "output_type": "stream",
     "text": [
      "<class 'pandas.core.frame.DataFrame'>\n",
      "RangeIndex: 21525 entries, 0 to 21524\n",
      "Data columns (total 12 columns):\n",
      " #   Column            Non-Null Count  Dtype  \n",
      "---  ------            --------------  -----  \n",
      " 0   children          21525 non-null  int64  \n",
      " 1   days_employed     19351 non-null  float64\n",
      " 2   dob_years         21525 non-null  int64  \n",
      " 3   education         21525 non-null  object \n",
      " 4   education_id      21525 non-null  int64  \n",
      " 5   family_status     21525 non-null  object \n",
      " 6   family_status_id  21525 non-null  int64  \n",
      " 7   gender            21525 non-null  object \n",
      " 8   income_type       21525 non-null  object \n",
      " 9   debt              21525 non-null  int64  \n",
      " 10  total_income      19351 non-null  float64\n",
      " 11  purpose           21525 non-null  object \n",
      "dtypes: float64(2), int64(5), object(5)\n",
      "memory usage: 2.0+ MB\n"
     ]
    }
   ],
   "source": [
    "data.info()"
   ]
  },
  {
   "cell_type": "markdown",
   "id": "c8bea3a4",
   "metadata": {
    "deletable": false,
    "editable": false,
    "id": "333ec665"
   },
   "source": [
    "## Предобработка данных"
   ]
  },
  {
   "cell_type": "markdown",
   "id": "155f40b4",
   "metadata": {
    "deletable": false,
    "editable": false,
    "id": "02d92d53"
   },
   "source": [
    "### Удаление пропусков"
   ]
  },
  {
   "cell_type": "markdown",
   "id": "d848fe7b",
   "metadata": {
    "deletable": false,
    "editable": false,
    "id": "cd84967c"
   },
   "source": [
    "**Задание 4. Выведите количество пропущенных значений для каждого столбца. Используйте комбинацию двух методов.**"
   ]
  },
  {
   "cell_type": "code",
   "execution_count": 5,
   "id": "879cc5da",
   "metadata": {
    "deletable": false,
    "id": "7f9b2309",
    "outputId": "81f4d817-781c-465c-ed15-91ce4446810d"
   },
   "outputs": [
    {
     "data": {
      "text/plain": [
       "children               0\n",
       "days_employed       2174\n",
       "dob_years              0\n",
       "education              0\n",
       "education_id           0\n",
       "family_status          0\n",
       "family_status_id       0\n",
       "gender                 0\n",
       "income_type            0\n",
       "debt                   0\n",
       "total_income        2174\n",
       "purpose                0\n",
       "dtype: int64"
      ]
     },
     "execution_count": 5,
     "metadata": {},
     "output_type": "execute_result"
    }
   ],
   "source": [
    "data.isna().sum()"
   ]
  },
  {
   "cell_type": "markdown",
   "id": "40e7066a",
   "metadata": {
    "deletable": false,
    "editable": false,
    "id": "db86e27b"
   },
   "source": [
    "**Задание 5. В двух столбцах есть пропущенные значения. Один из них — `days_employed`. Пропуски в этом столбце вы обработаете на следующем этапе. Другой столбец с пропущенными значениями — `total_income` — хранит данные о доходах. На сумму дохода сильнее всего влияет тип занятости, поэтому заполнить пропуски в этом столбце нужно медианным значением по каждому типу из столбца `income_type`. Например, у человека с типом занятости `сотрудник` пропуск в столбце `total_income` должен быть заполнен медианным доходом среди всех записей с тем же типом.**"
   ]
  },
  {
   "cell_type": "code",
   "execution_count": 6,
   "id": "ff16246f",
   "metadata": {
    "deletable": false,
    "id": "42006a93"
   },
   "outputs": [],
   "source": [
    "for t in data['income_type'].unique():\n",
    "    data.loc[(data['income_type'] == t) & (data['total_income'].isna()), 'total_income'] = \\\n",
    "    data.loc[(data['income_type'] == t), 'total_income'].median()"
   ]
  },
  {
   "cell_type": "markdown",
   "id": "a6eb4a95",
   "metadata": {
    "deletable": false,
    "editable": false,
    "id": "89da5ece"
   },
   "source": [
    "### Обработка аномальных значений"
   ]
  },
  {
   "cell_type": "markdown",
   "id": "f750a788",
   "metadata": {
    "deletable": false,
    "editable": false,
    "id": "57964554"
   },
   "source": [
    "**Задание 6. В данных могут встречаться артефакты (аномалии) — значения, которые не отражают действительность и появились по какой-то ошибке. таким артефактом будет отрицательное количество дней трудового стажа в столбце `days_employed`. Для реальных данных это нормально. Обработайте значения в этом столбце: замените все отрицательные значения положительными с помощью метода `abs()`.**"
   ]
  },
  {
   "cell_type": "code",
   "execution_count": 7,
   "id": "b1aee5ac",
   "metadata": {
    "deletable": false,
    "id": "f6f055bf"
   },
   "outputs": [],
   "source": [
    "data['days_employed'] = data['days_employed'].abs()"
   ]
  },
  {
   "cell_type": "markdown",
   "id": "8dced961",
   "metadata": {
    "deletable": false,
    "editable": false,
    "id": "6107dd2f"
   },
   "source": [
    "**Задание 7. Для каждого типа занятости выведите медианное значение трудового стажа `days_employed` в днях.**"
   ]
  },
  {
   "cell_type": "code",
   "execution_count": 8,
   "id": "ad0d2e9a",
   "metadata": {
    "deletable": false,
    "id": "85a5faf6",
    "outputId": "801ef80e-522b-4668-f34e-565af7432bcf"
   },
   "outputs": [
    {
     "data": {
      "text/plain": [
       "income_type\n",
       "безработный        366413.652744\n",
       "в декрете            3296.759962\n",
       "госслужащий          2689.368353\n",
       "компаньон            1547.382223\n",
       "пенсионер          365213.306266\n",
       "предприниматель       520.848083\n",
       "сотрудник            1574.202821\n",
       "студент               578.751554\n",
       "Name: days_employed, dtype: float64"
      ]
     },
     "execution_count": 8,
     "metadata": {},
     "output_type": "execute_result"
    }
   ],
   "source": [
    "data.groupby('income_type')['days_employed'].agg('median')"
   ]
  },
  {
   "cell_type": "markdown",
   "id": "9eef2128",
   "metadata": {
    "deletable": false,
    "editable": false,
    "id": "38d1a030"
   },
   "source": [
    "У двух типов (безработные и пенсионеры) получатся аномально большие значения. Исправить такие значения сложно, поэтому оставьте их как есть. Тем более этот столбец не понадобится вам для исследования."
   ]
  },
  {
   "cell_type": "markdown",
   "id": "9b3c9fd8",
   "metadata": {
    "deletable": false,
    "editable": false,
    "id": "d8a9f147"
   },
   "source": [
    "**Задание 8. Выведите перечень уникальных значений столбца `children`.**"
   ]
  },
  {
   "cell_type": "code",
   "execution_count": 9,
   "id": "84bc07a1",
   "metadata": {
    "deletable": false,
    "id": "ef5056eb",
    "outputId": "6975b15c-7f95-4697-d16d-a0c79b657b03"
   },
   "outputs": [
    {
     "data": {
      "text/plain": [
       "array([ 1,  0,  3,  2, -1,  4, 20,  5])"
      ]
     },
     "execution_count": 9,
     "metadata": {},
     "output_type": "execute_result"
    }
   ],
   "source": [
    "data['children'].unique()"
   ]
  },
  {
   "cell_type": "markdown",
   "id": "342814ec",
   "metadata": {
    "deletable": false,
    "editable": false,
    "id": "40b9ebf2"
   },
   "source": [
    "**Задание 9. В столбце `children` есть два аномальных значения. Удалите строки, в которых встречаются такие аномальные значения из датафрейма `data`.**"
   ]
  },
  {
   "cell_type": "code",
   "execution_count": 10,
   "id": "64afe060",
   "metadata": {
    "deletable": false,
    "id": "3ff9801d"
   },
   "outputs": [],
   "source": [
    "data = data[(data['children'] != -1) & (data['children'] != 20)]"
   ]
  },
  {
   "cell_type": "markdown",
   "id": "458d0423",
   "metadata": {
    "deletable": false,
    "editable": false,
    "id": "bbc4d0ce"
   },
   "source": [
    "**Задание 10. Ещё раз выведите перечень уникальных значений столбца `children`, чтобы убедиться, что артефакты удалены.**"
   ]
  },
  {
   "cell_type": "code",
   "execution_count": 11,
   "id": "7e7e8659",
   "metadata": {
    "deletable": false,
    "id": "ad4fa8b7",
    "outputId": "b2097101-d49d-44d9-901b-32a65c9463d1"
   },
   "outputs": [
    {
     "data": {
      "text/plain": [
       "array([1, 0, 3, 2, 4, 5])"
      ]
     },
     "execution_count": 11,
     "metadata": {},
     "output_type": "execute_result"
    }
   ],
   "source": [
    "data['children'].unique()"
   ]
  },
  {
   "cell_type": "markdown",
   "id": "be41b68c",
   "metadata": {
    "deletable": false,
    "editable": false,
    "id": "75440b63"
   },
   "source": [
    "### Удаление пропусков (продолжение)"
   ]
  },
  {
   "cell_type": "markdown",
   "id": "df2d1e49",
   "metadata": {
    "deletable": false,
    "editable": false,
    "id": "f4ea573f"
   },
   "source": [
    "**Задание 11. Заполните пропуски в столбце `days_employed` медианными значениями по каждого типа занятости `income_type`.**"
   ]
  },
  {
   "cell_type": "code",
   "execution_count": 12,
   "id": "9cbc292e",
   "metadata": {
    "deletable": false,
    "id": "af6b1a7e"
   },
   "outputs": [],
   "source": [
    "for t in data['income_type'].unique():\n",
    "    data.loc[(data['income_type'] == t) & (data['days_employed'].isna()), 'days_employed'] = \\\n",
    "    data.loc[(data['income_type'] == t), 'days_employed'].median()"
   ]
  },
  {
   "cell_type": "markdown",
   "id": "f5cb9067",
   "metadata": {
    "deletable": false,
    "editable": false,
    "id": "2753f40d"
   },
   "source": [
    "**Задание 12. Убедитесь, что все пропуски заполнены. Проверьте себя и ещё раз выведите количество пропущенных значений для каждого столбца с помощью двух методов.**"
   ]
  },
  {
   "cell_type": "code",
   "execution_count": 13,
   "id": "7aa2c450",
   "metadata": {
    "deletable": false,
    "id": "55f78bc2",
    "outputId": "8da1e4e1-358e-4e87-98c9-f261bce0a7b2"
   },
   "outputs": [
    {
     "data": {
      "text/plain": [
       "children            0\n",
       "days_employed       0\n",
       "dob_years           0\n",
       "education           0\n",
       "education_id        0\n",
       "family_status       0\n",
       "family_status_id    0\n",
       "gender              0\n",
       "income_type         0\n",
       "debt                0\n",
       "total_income        0\n",
       "purpose             0\n",
       "dtype: int64"
      ]
     },
     "execution_count": 13,
     "metadata": {},
     "output_type": "execute_result"
    }
   ],
   "source": [
    "data.isna().sum()"
   ]
  },
  {
   "cell_type": "markdown",
   "id": "e1ede9cc",
   "metadata": {
    "deletable": false,
    "editable": false,
    "id": "ddc81e43"
   },
   "source": [
    "### Изменение типов данных"
   ]
  },
  {
   "cell_type": "markdown",
   "id": "9fa6757a",
   "metadata": {
    "deletable": false,
    "editable": false,
    "id": "42d19d24"
   },
   "source": [
    "**Задание 13. Замените вещественный тип данных в столбце `total_income` на целочисленный с помощью метода `astype()`.**"
   ]
  },
  {
   "cell_type": "code",
   "execution_count": 14,
   "id": "00152d16",
   "metadata": {
    "deletable": false,
    "id": "920b65ad"
   },
   "outputs": [],
   "source": [
    "data['total_income'] = data['total_income'].astype(int)"
   ]
  },
  {
   "cell_type": "markdown",
   "id": "5b1d8800",
   "metadata": {
    "deletable": false,
    "editable": false,
    "id": "80c420ba"
   },
   "source": [
    "### Обработка дубликатов"
   ]
  },
  {
   "cell_type": "markdown",
   "id": "47f726f4",
   "metadata": {
    "deletable": false,
    "editable": false
   },
   "source": [
    "**Задание 14. Обработайте неявные дубликаты в столбце `education`. В этом столбце есть одни и те же значения, но записанные по-разному: с использованием заглавных и строчных букв. Приведите их к нижнему регистру. Проверьте остальные столбцы.**"
   ]
  },
  {
   "cell_type": "code",
   "execution_count": 15,
   "id": "3b55f02d",
   "metadata": {
    "deletable": false
   },
   "outputs": [],
   "source": [
    "data['education'] = data['education'].str.lower()"
   ]
  },
  {
   "cell_type": "markdown",
   "id": "db01182b",
   "metadata": {
    "deletable": false,
    "editable": false,
    "id": "dc587695"
   },
   "source": [
    "**Задание 15. Выведите на экран количество строк-дубликатов в данных. Если такие строки присутствуют, удалите их.**"
   ]
  },
  {
   "cell_type": "code",
   "execution_count": 16,
   "id": "ee060826",
   "metadata": {
    "deletable": false,
    "id": "3ee445e4",
    "outputId": "9684deba-1934-42d1-99e1-cda61740f822"
   },
   "outputs": [
    {
     "data": {
      "text/plain": [
       "71"
      ]
     },
     "execution_count": 16,
     "metadata": {},
     "output_type": "execute_result"
    }
   ],
   "source": [
    "data.duplicated().sum()"
   ]
  },
  {
   "cell_type": "code",
   "execution_count": 17,
   "id": "c351c75f",
   "metadata": {
    "deletable": false,
    "id": "8575fe05"
   },
   "outputs": [],
   "source": [
    "data = data.drop_duplicates()"
   ]
  },
  {
   "cell_type": "markdown",
   "id": "245509cd",
   "metadata": {
    "deletable": false,
    "editable": false,
    "id": "9904cf55"
   },
   "source": [
    "### Категоризация данных"
   ]
  },
  {
   "cell_type": "markdown",
   "id": "f39a32ba",
   "metadata": {
    "deletable": false,
    "editable": false,
    "id": "72fcc8a2"
   },
   "source": [
    "**Задание 16. На основании диапазонов, указанных ниже, создайте в датафрейме `data` столбец `total_income_category` с категориями:**\n",
    "\n",
    "- 0–30000 — `'E'`;\n",
    "- 30001–50000 — `'D'`;\n",
    "- 50001–200000 — `'C'`;\n",
    "- 200001–1000000 — `'B'`;\n",
    "- 1000001 и выше — `'A'`.\n",
    "\n",
    "\n",
    "**Например, кредитополучателю с доходом 25000 нужно назначить категорию `'E'`, а клиенту, получающему 235000, — `'B'`. Используйте собственную функцию с именем `categorize_income()` и метод `apply()`.**"
   ]
  },
  {
   "cell_type": "code",
   "execution_count": 18,
   "id": "527c88f8",
   "metadata": {
    "deletable": false,
    "id": "e1771346"
   },
   "outputs": [],
   "source": [
    "def categorize_income(income):\n",
    "    try:\n",
    "        if 0 <= income <= 30000:\n",
    "            return 'E'\n",
    "        elif 30001 <= income <= 50000:\n",
    "            return 'D'\n",
    "        elif 50001 <= income <= 200000:\n",
    "            return 'C'\n",
    "        elif 200001 <= income <= 1000000:\n",
    "            return 'B'\n",
    "        elif income >= 1000001:\n",
    "            return 'A'\n",
    "    except:\n",
    "        pass"
   ]
  },
  {
   "cell_type": "code",
   "execution_count": 19,
   "id": "8c9f9684",
   "metadata": {
    "deletable": false,
    "id": "d5f3586d"
   },
   "outputs": [],
   "source": [
    "data['total_income_category'] = data['total_income'].apply(categorize_income)"
   ]
  },
  {
   "cell_type": "markdown",
   "id": "8dcc67db",
   "metadata": {
    "deletable": false,
    "editable": false,
    "id": "dde49b5c"
   },
   "source": [
    "**Задание 17. Выведите на экран перечень уникальных целей взятия кредита из столбца `purpose`.**"
   ]
  },
  {
   "cell_type": "code",
   "execution_count": 20,
   "id": "89e65e94",
   "metadata": {
    "deletable": false,
    "id": "f67ce9b3",
    "outputId": "673c12d9-7d7e-4ae0-9812-c622c89dd244"
   },
   "outputs": [
    {
     "data": {
      "text/plain": [
       "array(['покупка жилья', 'приобретение автомобиля',\n",
       "       'дополнительное образование', 'сыграть свадьбу',\n",
       "       'операции с жильем', 'образование', 'на проведение свадьбы',\n",
       "       'покупка жилья для семьи', 'покупка недвижимости',\n",
       "       'покупка коммерческой недвижимости', 'покупка жилой недвижимости',\n",
       "       'строительство собственной недвижимости', 'недвижимость',\n",
       "       'строительство недвижимости', 'на покупку подержанного автомобиля',\n",
       "       'на покупку своего автомобиля',\n",
       "       'операции с коммерческой недвижимостью',\n",
       "       'строительство жилой недвижимости', 'жилье',\n",
       "       'операции со своей недвижимостью', 'автомобили',\n",
       "       'заняться образованием', 'сделка с подержанным автомобилем',\n",
       "       'получение образования', 'автомобиль', 'свадьба',\n",
       "       'получение дополнительного образования', 'покупка своего жилья',\n",
       "       'операции с недвижимостью', 'получение высшего образования',\n",
       "       'свой автомобиль', 'сделка с автомобилем',\n",
       "       'профильное образование', 'высшее образование',\n",
       "       'покупка жилья для сдачи', 'на покупку автомобиля', 'ремонт жилью',\n",
       "       'заняться высшим образованием'], dtype=object)"
      ]
     },
     "execution_count": 20,
     "metadata": {},
     "output_type": "execute_result"
    }
   ],
   "source": [
    "data['purpose'].unique()"
   ]
  },
  {
   "cell_type": "markdown",
   "id": "ab3c6894",
   "metadata": {
    "deletable": false,
    "editable": false,
    "id": "85d0aef0"
   },
   "source": [
    "**Задание 18. Создайте функцию, которая на основании данных из столбца `purpose` сформирует новый столбец `purpose_category`, в который войдут следующие категории:**\n",
    "\n",
    "- `'операции с автомобилем'`,\n",
    "- `'операции с недвижимостью'`,\n",
    "- `'проведение свадьбы'`,\n",
    "- `'получение образования'`.\n",
    "\n",
    "**Например, если в столбце `purpose` находится подстрока `'на покупку автомобиля'`, то в столбце `purpose_category` должна появиться строка `'операции с автомобилем'`.**\n",
    "\n",
    "**Используйте собственную функцию с именем `categorize_purpose()` и метод `apply()`. Изучите данные в столбце `purpose` и определите, какие подстроки помогут вам правильно определить категорию.**"
   ]
  },
  {
   "cell_type": "code",
   "execution_count": 21,
   "id": "f27f8c8c",
   "metadata": {
    "deletable": false,
    "id": "e149fab4"
   },
   "outputs": [],
   "source": [
    "def categorize_purpose(row):\n",
    "    try:\n",
    "        if 'автом' in row:\n",
    "            return 'операции с автомобилем'\n",
    "        elif 'жил' in row or 'недвиж' in row:\n",
    "            return 'операции с недвижимостью'\n",
    "        elif 'свад' in row:\n",
    "            return 'проведение свадьбы'\n",
    "        elif 'образов' in row:\n",
    "            return 'получение образования'\n",
    "    except:\n",
    "        return 'нет категории'"
   ]
  },
  {
   "cell_type": "code",
   "execution_count": 22,
   "id": "5916b4a1",
   "metadata": {
    "deletable": false,
    "id": "bf36e69b"
   },
   "outputs": [],
   "source": [
    "data['purpose_category'] = data['purpose'].apply(categorize_purpose)"
   ]
  },
  {
   "cell_type": "markdown",
   "id": "e482cac1",
   "metadata": {
    "deletable": false,
    "editable": false,
    "id": "09b242bf"
   },
   "source": [
    "### Шаг 3. Исследуйте данные и ответьте на вопросы"
   ]
  },
  {
   "cell_type": "markdown",
   "id": "625779a8",
   "metadata": {
    "deletable": false,
    "editable": false,
    "id": "c5d66278"
   },
   "source": [
    "#### 3.1 Есть ли зависимость между количеством детей и возвратом кредита в срок?"
   ]
  },
  {
   "cell_type": "markdown",
   "id": "d3549370",
   "metadata": {},
   "source": [
    "Напишем вспомогательную функцию-группировщик"
   ]
  },
  {
   "cell_type": "code",
   "execution_count": null,
   "id": "0cc18041",
   "metadata": {},
   "outputs": [],
   "source": [
    "def evaluate_debt_rate_by_grouper(data: pd.DataFrame, grouper_column: str):\n",
    "    \n",
    "    return data.groupby(grouper_column).agg(\n",
    "        debt_rate = ('debt', 'mean'),\n",
    "        group_size = ('debt', 'count'),\n",
    "        debt_true = ('debt', 'sum'),\n",
    "    ).reset_index()"
   ]
  },
  {
   "cell_type": "markdown",
   "id": "3615685a",
   "metadata": {},
   "source": [
    "И еще одну для визуализации выводов"
   ]
  },
  {
   "cell_type": "code",
   "execution_count": 33,
   "id": "9b2167df",
   "metadata": {},
   "outputs": [],
   "source": [
    "def custom_barplot(data, x, y, title):\n",
    "    sns.catplot(\n",
    "    data=data,\n",
    "    x=x,\n",
    "    y=y,\n",
    "    kind='bar',\n",
    "    alpha=0.25,\n",
    "    orient='h',\n",
    ").fig.suptitle(title, y=1.1)"
   ]
  },
  {
   "cell_type": "markdown",
   "id": "72617ca9",
   "metadata": {},
   "source": [
    "Сначала выполним простую группировку по факту наличия детей. Для этого сформируем новый категориальный столбец `child_status` с двумя возможными значениями `child_free` или `has_child`"
   ]
  },
  {
   "cell_type": "code",
   "execution_count": 34,
   "id": "64e3c9bd",
   "metadata": {},
   "outputs": [],
   "source": [
    "data['child_status'] = data['children'].apply(lambda ch: 'child_free' if ch == 0 else 'has_child')"
   ]
  },
  {
   "cell_type": "code",
   "execution_count": 35,
   "id": "b619f01a",
   "metadata": {},
   "outputs": [
    {
     "data": {
      "text/html": [
       "<div>\n",
       "<style scoped>\n",
       "    .dataframe tbody tr th:only-of-type {\n",
       "        vertical-align: middle;\n",
       "    }\n",
       "\n",
       "    .dataframe tbody tr th {\n",
       "        vertical-align: top;\n",
       "    }\n",
       "\n",
       "    .dataframe thead th {\n",
       "        text-align: right;\n",
       "    }\n",
       "</style>\n",
       "<table border=\"1\" class=\"dataframe\">\n",
       "  <thead>\n",
       "    <tr style=\"text-align: right;\">\n",
       "      <th></th>\n",
       "      <th>child_status</th>\n",
       "      <th>debt_rate</th>\n",
       "      <th>group_size</th>\n",
       "      <th>debt_true</th>\n",
       "    </tr>\n",
       "  </thead>\n",
       "  <tbody>\n",
       "    <tr>\n",
       "      <th>0</th>\n",
       "      <td>child_free</td>\n",
       "      <td>0.075438</td>\n",
       "      <td>14091</td>\n",
       "      <td>1063</td>\n",
       "    </tr>\n",
       "    <tr>\n",
       "      <th>1</th>\n",
       "      <td>has_child</td>\n",
       "      <td>0.092403</td>\n",
       "      <td>7240</td>\n",
       "      <td>669</td>\n",
       "    </tr>\n",
       "  </tbody>\n",
       "</table>\n",
       "</div>"
      ],
      "text/plain": [
       "  child_status  debt_rate  group_size  debt_true\n",
       "0   child_free   0.075438       14091       1063\n",
       "1    has_child   0.092403        7240        669"
      ]
     },
     "execution_count": 35,
     "metadata": {},
     "output_type": "execute_result"
    }
   ],
   "source": [
    "debt_grouped_by_children_status = evaluate_debt_rate_by_grouper(data, 'child_status')\n",
    "debt_grouped_by_children_status"
   ]
  },
  {
   "cell_type": "code",
   "execution_count": 36,
   "id": "810d3dab",
   "metadata": {},
   "outputs": [
    {
     "data": {
      "image/png": "[encoded data removed]",
      "text/plain": [
       "<Figure size 360x360 with 1 Axes>"
      ]
     },
     "metadata": {
      "needs_background": "light"
     },
     "output_type": "display_data"
    }
   ],
   "source": [
    "custom_barplot(debt_grouped_by_children_status,\n",
    "               \"debt_rate\",\n",
    "               \"child_status\",\n",
    "               'Зависимость доли людей с задолженностями от наличия детей')"
   ]
  },
  {
   "cell_type": "markdown",
   "id": "b23e050f",
   "metadata": {},
   "source": [
    "Теперь сгруппируем клиентов по признаку \"многодетная семья\""
   ]
  },
  {
   "cell_type": "code",
   "execution_count": 48,
   "id": "b2bfe807",
   "metadata": {},
   "outputs": [],
   "source": [
    "data['is_large_family'] = data['children'].apply(lambda ch: 'многодетная семья' if ch >= 3 else 'не более двух детей')"
   ]
  },
  {
   "cell_type": "code",
   "execution_count": 49,
   "id": "7e53cd5d",
   "metadata": {},
   "outputs": [
    {
     "data": {
      "text/html": [
       "<div>\n",
       "<style scoped>\n",
       "    .dataframe tbody tr th:only-of-type {\n",
       "        vertical-align: middle;\n",
       "    }\n",
       "\n",
       "    .dataframe tbody tr th {\n",
       "        vertical-align: top;\n",
       "    }\n",
       "\n",
       "    .dataframe thead th {\n",
       "        text-align: right;\n",
       "    }\n",
       "</style>\n",
       "<table border=\"1\" class=\"dataframe\">\n",
       "  <thead>\n",
       "    <tr style=\"text-align: right;\">\n",
       "      <th></th>\n",
       "      <th>is_large_family</th>\n",
       "      <th>debt_rate</th>\n",
       "      <th>group_size</th>\n",
       "      <th>debt_true</th>\n",
       "    </tr>\n",
       "  </thead>\n",
       "  <tbody>\n",
       "    <tr>\n",
       "      <th>0</th>\n",
       "      <td>многодетная семья</td>\n",
       "      <td>0.081579</td>\n",
       "      <td>380</td>\n",
       "      <td>31</td>\n",
       "    </tr>\n",
       "    <tr>\n",
       "      <th>1</th>\n",
       "      <td>не более двух детей</td>\n",
       "      <td>0.081189</td>\n",
       "      <td>20951</td>\n",
       "      <td>1701</td>\n",
       "    </tr>\n",
       "  </tbody>\n",
       "</table>\n",
       "</div>"
      ],
      "text/plain": [
       "       is_large_family  debt_rate  group_size  debt_true\n",
       "0    многодетная семья   0.081579         380         31\n",
       "1  не более двух детей   0.081189       20951       1701"
      ]
     },
     "execution_count": 49,
     "metadata": {},
     "output_type": "execute_result"
    }
   ],
   "source": [
    "debt_grouped_by_is_large_family = evaluate_debt_rate_by_grouper(data, 'is_large_family')\n",
    "debt_grouped_by_is_large_family"
   ]
  },
  {
   "cell_type": "code",
   "execution_count": 50,
   "id": "23b88de5",
   "metadata": {},
   "outputs": [
    {
     "data": {
      "image/png": "[encoded data removed]",
      "text/plain": [
       "<Figure size 360x360 with 1 Axes>"
      ]
     },
     "metadata": {
      "needs_background": "light"
     },
     "output_type": "display_data"
    }
   ],
   "source": [
    "custom_barplot(debt_grouped_by_is_large_family,\n",
    "               \"debt_rate\",\n",
    "               \"is_large_family\",\n",
    "               'Зависимость доли людей с задолженностями от статуса \"многодетная семья\"')"
   ]
  },
  {
   "cell_type": "markdown",
   "id": "d0e866e3",
   "metadata": {},
   "source": [
    "Cгруппируем данные по количеству детей и посчитаем процент людей с задолженностями по каждой группе. \n",
    "\n",
    "Так как данные в столбце `debt` по сути являются логическими (но представлены в виде 0 или 1), то процент людей с задолженностями можно рассчитать как среднее по каждой группе. Результат данной операции представлен в столбце `debt_rate`"
   ]
  },
  {
   "cell_type": "code",
   "execution_count": 40,
   "id": "1a437e68",
   "metadata": {
    "deletable": false,
    "id": "2cacfc4a"
   },
   "outputs": [
    {
     "data": {
      "text/html": [
       "<div>\n",
       "<style scoped>\n",
       "    .dataframe tbody tr th:only-of-type {\n",
       "        vertical-align: middle;\n",
       "    }\n",
       "\n",
       "    .dataframe tbody tr th {\n",
       "        vertical-align: top;\n",
       "    }\n",
       "\n",
       "    .dataframe thead th {\n",
       "        text-align: right;\n",
       "    }\n",
       "</style>\n",
       "<table border=\"1\" class=\"dataframe\">\n",
       "  <thead>\n",
       "    <tr style=\"text-align: right;\">\n",
       "      <th></th>\n",
       "      <th>children</th>\n",
       "      <th>debt_rate</th>\n",
       "      <th>group_size</th>\n",
       "      <th>debt_true</th>\n",
       "    </tr>\n",
       "  </thead>\n",
       "  <tbody>\n",
       "    <tr>\n",
       "      <th>0</th>\n",
       "      <td>0</td>\n",
       "      <td>0.075438</td>\n",
       "      <td>14091</td>\n",
       "      <td>1063</td>\n",
       "    </tr>\n",
       "    <tr>\n",
       "      <th>1</th>\n",
       "      <td>1</td>\n",
       "      <td>0.092346</td>\n",
       "      <td>4808</td>\n",
       "      <td>444</td>\n",
       "    </tr>\n",
       "    <tr>\n",
       "      <th>2</th>\n",
       "      <td>2</td>\n",
       "      <td>0.094542</td>\n",
       "      <td>2052</td>\n",
       "      <td>194</td>\n",
       "    </tr>\n",
       "    <tr>\n",
       "      <th>3</th>\n",
       "      <td>3</td>\n",
       "      <td>0.081818</td>\n",
       "      <td>330</td>\n",
       "      <td>27</td>\n",
       "    </tr>\n",
       "    <tr>\n",
       "      <th>4</th>\n",
       "      <td>4</td>\n",
       "      <td>0.097561</td>\n",
       "      <td>41</td>\n",
       "      <td>4</td>\n",
       "    </tr>\n",
       "    <tr>\n",
       "      <th>5</th>\n",
       "      <td>5</td>\n",
       "      <td>0.000000</td>\n",
       "      <td>9</td>\n",
       "      <td>0</td>\n",
       "    </tr>\n",
       "  </tbody>\n",
       "</table>\n",
       "</div>"
      ],
      "text/plain": [
       "   children  debt_rate  group_size  debt_true\n",
       "0         0   0.075438       14091       1063\n",
       "1         1   0.092346        4808        444\n",
       "2         2   0.094542        2052        194\n",
       "3         3   0.081818         330         27\n",
       "4         4   0.097561          41          4\n",
       "5         5   0.000000           9          0"
      ]
     },
     "execution_count": 40,
     "metadata": {},
     "output_type": "execute_result"
    }
   ],
   "source": [
    "debt_grouped_by_children = evaluate_debt_rate_by_grouper(data, 'children')\n",
    "debt_grouped_by_children"
   ]
  },
  {
   "cell_type": "markdown",
   "id": "645afb63",
   "metadata": {},
   "source": [
    "Визуализируем полученный результат в виде столбиковой диаграммы"
   ]
  },
  {
   "cell_type": "code",
   "execution_count": 41,
   "id": "ff78d2d9",
   "metadata": {},
   "outputs": [
    {
     "data": {
      "image/png": "[encoded data removed]",
      "text/plain": [
       "<Figure size 360x360 with 1 Axes>"
      ]
     },
     "metadata": {
      "needs_background": "light"
     },
     "output_type": "display_data"
    }
   ],
   "source": [
    "debt_grouped_by_children['children'] = debt_grouped_by_children['children'].astype(str)\n",
    "\n",
    "custom_barplot(debt_grouped_by_children.sort_values('debt_rate'),\n",
    "               \"debt_rate\",\n",
    "               \"children\",\n",
    "               'Зависимость доли людей с задолженностями от количества детей')"
   ]
  },
  {
   "cell_type": "markdown",
   "id": "c3da69b6",
   "metadata": {
    "deletable": false,
    "id": "3a6b99ec"
   },
   "source": [
    "<div class=\"alert alert-block alert-info\"><b>Вывод:</b> проанализировав столбцы <code>debt</code> и <code>children</code> на предмет взаимосвязи, можно отметить следующее\n",
    "\n",
    "1. Наименьший процент людей, имеющих задолженности, представлен в группе клиентов, которые имеют 5 детей. В представленнных данных представители данной группы не имеют задолженностей по кредиту\n",
    "\n",
    "\n",
    "2. Наибольший процент людей с задолженностями представлен в группе клиентов с количество детей, равным 4. Он составляет $\\approx$ 9.75%\n",
    "\n",
    "\n",
    "3. Дополнительное исследование по факту наличия детей у клиентов банка выявило, что процент людей с задолженностями, имеющих не менее одного ребенка больше чем у бездетных клиентов\n",
    "\n",
    "\n",
    "4. Сформированный признак \"многодетная семья\" практически не вляиет на процент людей, имеющих задолженности.</div>"
   ]
  },
  {
   "cell_type": "markdown",
   "id": "b474a068",
   "metadata": {},
   "source": [
    "<div class=\"alert alert-block alert-info\">\n",
    "    Также высока доля клиентов с задолженностями, у которых один или два ребенка\n",
    "</div>"
   ]
  },
  {
   "cell_type": "markdown",
   "id": "a75060be",
   "metadata": {
    "deletable": false,
    "editable": false,
    "id": "97be82ca"
   },
   "source": [
    "#### 3.2 Есть ли зависимость между семейным положением и возвратом кредита в срок?"
   ]
  },
  {
   "cell_type": "code",
   "execution_count": 42,
   "id": "ffe7c016",
   "metadata": {
    "deletable": false,
    "id": "dc3f7ee8"
   },
   "outputs": [
    {
     "data": {
      "text/html": [
       "<div>\n",
       "<style scoped>\n",
       "    .dataframe tbody tr th:only-of-type {\n",
       "        vertical-align: middle;\n",
       "    }\n",
       "\n",
       "    .dataframe tbody tr th {\n",
       "        vertical-align: top;\n",
       "    }\n",
       "\n",
       "    .dataframe thead th {\n",
       "        text-align: right;\n",
       "    }\n",
       "</style>\n",
       "<table border=\"1\" class=\"dataframe\">\n",
       "  <thead>\n",
       "    <tr style=\"text-align: right;\">\n",
       "      <th></th>\n",
       "      <th>family_status</th>\n",
       "      <th>debt_rate</th>\n",
       "      <th>group_size</th>\n",
       "      <th>debt_true</th>\n",
       "    </tr>\n",
       "  </thead>\n",
       "  <tbody>\n",
       "    <tr>\n",
       "      <th>2</th>\n",
       "      <td>вдовец / вдова</td>\n",
       "      <td>0.066246</td>\n",
       "      <td>951</td>\n",
       "      <td>63</td>\n",
       "    </tr>\n",
       "    <tr>\n",
       "      <th>1</th>\n",
       "      <td>в разводе</td>\n",
       "      <td>0.070648</td>\n",
       "      <td>1189</td>\n",
       "      <td>84</td>\n",
       "    </tr>\n",
       "    <tr>\n",
       "      <th>4</th>\n",
       "      <td>женат / замужем</td>\n",
       "      <td>0.075606</td>\n",
       "      <td>12261</td>\n",
       "      <td>927</td>\n",
       "    </tr>\n",
       "    <tr>\n",
       "      <th>3</th>\n",
       "      <td>гражданский брак</td>\n",
       "      <td>0.093130</td>\n",
       "      <td>4134</td>\n",
       "      <td>385</td>\n",
       "    </tr>\n",
       "    <tr>\n",
       "      <th>0</th>\n",
       "      <td>Не женат / не замужем</td>\n",
       "      <td>0.097639</td>\n",
       "      <td>2796</td>\n",
       "      <td>273</td>\n",
       "    </tr>\n",
       "  </tbody>\n",
       "</table>\n",
       "</div>"
      ],
      "text/plain": [
       "           family_status  debt_rate  group_size  debt_true\n",
       "2         вдовец / вдова   0.066246         951         63\n",
       "1              в разводе   0.070648        1189         84\n",
       "4        женат / замужем   0.075606       12261        927\n",
       "3       гражданский брак   0.093130        4134        385\n",
       "0  Не женат / не замужем   0.097639        2796        273"
      ]
     },
     "execution_count": 42,
     "metadata": {},
     "output_type": "execute_result"
    }
   ],
   "source": [
    "debt_grouped_by_family_status = evaluate_debt_rate_by_grouper(data, 'family_status')\n",
    "debt_grouped_by_family_status.sort_values('debt_rate')"
   ]
  },
  {
   "cell_type": "code",
   "execution_count": 43,
   "id": "df7d1cb7",
   "metadata": {},
   "outputs": [
    {
     "data": {
      "image/png": "[encoded data removed]",
      "text/plain": [
       "<Figure size 360x360 with 1 Axes>"
      ]
     },
     "metadata": {
      "needs_background": "light"
     },
     "output_type": "display_data"
    }
   ],
   "source": [
    "custom_barplot(debt_grouped_by_family_status.sort_values('debt_rate'),\n",
    "               'debt_rate',\n",
    "               'family_status',\n",
    "               'Зависимость доли людей с задолженностями от семейного положения')"
   ]
  },
  {
   "cell_type": "markdown",
   "id": "8904f7cf",
   "metadata": {},
   "source": [
    " Проведем дополнительный анализ со сводной таблицей, в которой соберем данные о цели кредита, типе дохода и семейном положении "
   ]
  },
  {
   "cell_type": "code",
   "execution_count": 119,
   "id": "1ef64255",
   "metadata": {},
   "outputs": [
    {
     "data": {
      "text/html": [
       "<div>\n",
       "<style scoped>\n",
       "    .dataframe tbody tr th:only-of-type {\n",
       "        vertical-align: middle;\n",
       "    }\n",
       "\n",
       "    .dataframe tbody tr th {\n",
       "        vertical-align: top;\n",
       "    }\n",
       "\n",
       "    .dataframe thead tr th {\n",
       "        text-align: left;\n",
       "    }\n",
       "\n",
       "    .dataframe thead tr:last-of-type th {\n",
       "        text-align: right;\n",
       "    }\n",
       "</style>\n",
       "<table border=\"1\" class=\"dataframe\">\n",
       "  <thead>\n",
       "    <tr>\n",
       "      <th></th>\n",
       "      <th></th>\n",
       "      <th colspan=\"5\" halign=\"left\">sum</th>\n",
       "    </tr>\n",
       "    <tr>\n",
       "      <th></th>\n",
       "      <th>family_status</th>\n",
       "      <th>Не женат / не замужем</th>\n",
       "      <th>в разводе</th>\n",
       "      <th>вдовец / вдова</th>\n",
       "      <th>гражданский брак</th>\n",
       "      <th>женат / замужем</th>\n",
       "    </tr>\n",
       "    <tr>\n",
       "      <th>income_type</th>\n",
       "      <th>purpose_category</th>\n",
       "      <th></th>\n",
       "      <th></th>\n",
       "      <th></th>\n",
       "      <th></th>\n",
       "      <th></th>\n",
       "    </tr>\n",
       "  </thead>\n",
       "  <tbody>\n",
       "    <tr>\n",
       "      <th>безработный</th>\n",
       "      <th>операции с недвижимостью</th>\n",
       "      <td>0</td>\n",
       "      <td>0</td>\n",
       "      <td>0</td>\n",
       "      <td>0</td>\n",
       "      <td>1</td>\n",
       "    </tr>\n",
       "    <tr>\n",
       "      <th>в декрете</th>\n",
       "      <th>операции с автомобилем</th>\n",
       "      <td>0</td>\n",
       "      <td>0</td>\n",
       "      <td>0</td>\n",
       "      <td>0</td>\n",
       "      <td>1</td>\n",
       "    </tr>\n",
       "    <tr>\n",
       "      <th rowspan=\"4\" valign=\"top\">госслужащий</th>\n",
       "      <th>операции с автомобилем</th>\n",
       "      <td>2</td>\n",
       "      <td>0</td>\n",
       "      <td>2</td>\n",
       "      <td>4</td>\n",
       "      <td>14</td>\n",
       "    </tr>\n",
       "    <tr>\n",
       "      <th>операции с недвижимостью</th>\n",
       "      <td>8</td>\n",
       "      <td>2</td>\n",
       "      <td>0</td>\n",
       "      <td>3</td>\n",
       "      <td>23</td>\n",
       "    </tr>\n",
       "    <tr>\n",
       "      <th>получение образования</th>\n",
       "      <td>2</td>\n",
       "      <td>2</td>\n",
       "      <td>0</td>\n",
       "      <td>4</td>\n",
       "      <td>13</td>\n",
       "    </tr>\n",
       "    <tr>\n",
       "      <th>проведение свадьбы</th>\n",
       "      <td>0</td>\n",
       "      <td>0</td>\n",
       "      <td>0</td>\n",
       "      <td>7</td>\n",
       "      <td>0</td>\n",
       "    </tr>\n",
       "    <tr>\n",
       "      <th rowspan=\"4\" valign=\"top\">компаньон</th>\n",
       "      <th>операции с автомобилем</th>\n",
       "      <td>18</td>\n",
       "      <td>2</td>\n",
       "      <td>3</td>\n",
       "      <td>7</td>\n",
       "      <td>54</td>\n",
       "    </tr>\n",
       "    <tr>\n",
       "      <th>операции с недвижимостью</th>\n",
       "      <td>37</td>\n",
       "      <td>6</td>\n",
       "      <td>5</td>\n",
       "      <td>19</td>\n",
       "      <td>100</td>\n",
       "    </tr>\n",
       "    <tr>\n",
       "      <th>получение образования</th>\n",
       "      <td>17</td>\n",
       "      <td>0</td>\n",
       "      <td>1</td>\n",
       "      <td>17</td>\n",
       "      <td>37</td>\n",
       "    </tr>\n",
       "    <tr>\n",
       "      <th>проведение свадьбы</th>\n",
       "      <td>0</td>\n",
       "      <td>0</td>\n",
       "      <td>0</td>\n",
       "      <td>51</td>\n",
       "      <td>0</td>\n",
       "    </tr>\n",
       "    <tr>\n",
       "      <th rowspan=\"4\" valign=\"top\">пенсионер</th>\n",
       "      <th>операции с автомобилем</th>\n",
       "      <td>9</td>\n",
       "      <td>5</td>\n",
       "      <td>9</td>\n",
       "      <td>1</td>\n",
       "      <td>27</td>\n",
       "    </tr>\n",
       "    <tr>\n",
       "      <th>операции с недвижимостью</th>\n",
       "      <td>3</td>\n",
       "      <td>7</td>\n",
       "      <td>17</td>\n",
       "      <td>6</td>\n",
       "      <td>59</td>\n",
       "    </tr>\n",
       "    <tr>\n",
       "      <th>получение образования</th>\n",
       "      <td>4</td>\n",
       "      <td>1</td>\n",
       "      <td>11</td>\n",
       "      <td>4</td>\n",
       "      <td>28</td>\n",
       "    </tr>\n",
       "    <tr>\n",
       "      <th>проведение свадьбы</th>\n",
       "      <td>0</td>\n",
       "      <td>0</td>\n",
       "      <td>0</td>\n",
       "      <td>25</td>\n",
       "      <td>0</td>\n",
       "    </tr>\n",
       "    <tr>\n",
       "      <th rowspan=\"2\" valign=\"top\">предприниматель</th>\n",
       "      <th>операции с недвижимостью</th>\n",
       "      <td>0</td>\n",
       "      <td>0</td>\n",
       "      <td>0</td>\n",
       "      <td>0</td>\n",
       "      <td>0</td>\n",
       "    </tr>\n",
       "    <tr>\n",
       "      <th>проведение свадьбы</th>\n",
       "      <td>0</td>\n",
       "      <td>0</td>\n",
       "      <td>0</td>\n",
       "      <td>0</td>\n",
       "      <td>0</td>\n",
       "    </tr>\n",
       "    <tr>\n",
       "      <th rowspan=\"4\" valign=\"top\">сотрудник</th>\n",
       "      <th>операции с автомобилем</th>\n",
       "      <td>53</td>\n",
       "      <td>14</td>\n",
       "      <td>6</td>\n",
       "      <td>39</td>\n",
       "      <td>130</td>\n",
       "    </tr>\n",
       "    <tr>\n",
       "      <th>операции с недвижимостью</th>\n",
       "      <td>81</td>\n",
       "      <td>31</td>\n",
       "      <td>6</td>\n",
       "      <td>63</td>\n",
       "      <td>303</td>\n",
       "    </tr>\n",
       "    <tr>\n",
       "      <th>получение образования</th>\n",
       "      <td>39</td>\n",
       "      <td>14</td>\n",
       "      <td>3</td>\n",
       "      <td>35</td>\n",
       "      <td>137</td>\n",
       "    </tr>\n",
       "    <tr>\n",
       "      <th>проведение свадьбы</th>\n",
       "      <td>0</td>\n",
       "      <td>0</td>\n",
       "      <td>0</td>\n",
       "      <td>100</td>\n",
       "      <td>0</td>\n",
       "    </tr>\n",
       "    <tr>\n",
       "      <th>студент</th>\n",
       "      <th>операции с недвижимостью</th>\n",
       "      <td>0</td>\n",
       "      <td>0</td>\n",
       "      <td>0</td>\n",
       "      <td>0</td>\n",
       "      <td>0</td>\n",
       "    </tr>\n",
       "  </tbody>\n",
       "</table>\n",
       "</div>"
      ],
      "text/plain": [
       "                                                           sum            \\\n",
       "family_status                            Не женат / не замужем в разводе   \n",
       "income_type     purpose_category                                           \n",
       "безработный     операции с недвижимостью                     0         0   \n",
       "в декрете       операции с автомобилем                       0         0   \n",
       "госслужащий     операции с автомобилем                       2         0   \n",
       "                операции с недвижимостью                     8         2   \n",
       "                получение образования                        2         2   \n",
       "                проведение свадьбы                           0         0   \n",
       "компаньон       операции с автомобилем                      18         2   \n",
       "                операции с недвижимостью                    37         6   \n",
       "                получение образования                       17         0   \n",
       "                проведение свадьбы                           0         0   \n",
       "пенсионер       операции с автомобилем                       9         5   \n",
       "                операции с недвижимостью                     3         7   \n",
       "                получение образования                        4         1   \n",
       "                проведение свадьбы                           0         0   \n",
       "предприниматель операции с недвижимостью                     0         0   \n",
       "                проведение свадьбы                           0         0   \n",
       "сотрудник       операции с автомобилем                      53        14   \n",
       "                операции с недвижимостью                    81        31   \n",
       "                получение образования                       39        14   \n",
       "                проведение свадьбы                           0         0   \n",
       "студент         операции с недвижимостью                     0         0   \n",
       "\n",
       "                                                                          \\\n",
       "family_status                            вдовец / вдова гражданский брак   \n",
       "income_type     purpose_category                                           \n",
       "безработный     операции с недвижимостью              0                0   \n",
       "в декрете       операции с автомобилем                0                0   \n",
       "госслужащий     операции с автомобилем                2                4   \n",
       "                операции с недвижимостью              0                3   \n",
       "                получение образования                 0                4   \n",
       "                проведение свадьбы                    0                7   \n",
       "компаньон       операции с автомобилем                3                7   \n",
       "                операции с недвижимостью              5               19   \n",
       "                получение образования                 1               17   \n",
       "                проведение свадьбы                    0               51   \n",
       "пенсионер       операции с автомобилем                9                1   \n",
       "                операции с недвижимостью             17                6   \n",
       "                получение образования                11                4   \n",
       "                проведение свадьбы                    0               25   \n",
       "предприниматель операции с недвижимостью              0                0   \n",
       "                проведение свадьбы                    0                0   \n",
       "сотрудник       операции с автомобилем                6               39   \n",
       "                операции с недвижимостью              6               63   \n",
       "                получение образования                 3               35   \n",
       "                проведение свадьбы                    0              100   \n",
       "студент         операции с недвижимостью              0                0   \n",
       "\n",
       "                                                          \n",
       "family_status                            женат / замужем  \n",
       "income_type     purpose_category                          \n",
       "безработный     операции с недвижимостью               1  \n",
       "в декрете       операции с автомобилем                 1  \n",
       "госслужащий     операции с автомобилем                14  \n",
       "                операции с недвижимостью              23  \n",
       "                получение образования                 13  \n",
       "                проведение свадьбы                     0  \n",
       "компаньон       операции с автомобилем                54  \n",
       "                операции с недвижимостью             100  \n",
       "                получение образования                 37  \n",
       "                проведение свадьбы                     0  \n",
       "пенсионер       операции с автомобилем                27  \n",
       "                операции с недвижимостью              59  \n",
       "                получение образования                 28  \n",
       "                проведение свадьбы                     0  \n",
       "предприниматель операции с недвижимостью               0  \n",
       "                проведение свадьбы                     0  \n",
       "сотрудник       операции с автомобилем               130  \n",
       "                операции с недвижимостью             303  \n",
       "                получение образования                137  \n",
       "                проведение свадьбы                     0  \n",
       "студент         операции с недвижимостью               0  "
      ]
     },
     "execution_count": 119,
     "metadata": {},
     "output_type": "execute_result"
    }
   ],
   "source": [
    "selected_columns = ['family_status', 'income_type', 'debt', 'purpose_category']\n",
    "data[selected_columns].pivot_table(columns='family_status',\n",
    "                                   index=['income_type','purpose_category'], \n",
    "                                   values='debt', \n",
    "                                   aggfunc=['sum']).fillna(0).astype(int)\n"
   ]
  },
  {
   "cell_type": "markdown",
   "id": "a12f3d48",
   "metadata": {
    "deletable": false,
    "id": "1cef7837"
   },
   "source": [
    "<div class=\"alert alert-block alert-info\"> <b>Вывод:</b> проанализировав столбцы <code>debt</code> и <code>family_status</code> на предмет взаимосвязи, можно отметить следующее\n",
    "\n",
    "1. Наименьший процент людей, имеющих задолженности, представлен в группе клиентов \"вдовец/вдова\" ($\\approx$ 6.62%). \n",
    "\n",
    "\n",
    "2. Наибольший процент людей с задолженностями представлен в группе клиентов с семейным положением \"не женат/не замужем\". Он составляет $\\approx$ 9.76%.\n",
    "\n",
    "\n",
    "3. Официально зарегистрированные супруги-клиенты банка имеют меньший процент людей с задолженностями чем клиенты, состоящие в гражданском браке. </div>"
   ]
  },
  {
   "cell_type": "markdown",
   "id": "1ced3f6f",
   "metadata": {},
   "source": [
    "<div class=\"alert alert-block alert-info\">\n",
    "    \n",
    "1. Отметим, что в категории \"вдовец/вдова\" наиболее представлены пенсионеры, имеющие задолженность по кредиту, который брался для проведения операций с недвижимостью, получения образования, а также операций с автомобилем.\n",
    "\n",
    "    \n",
    "2. В категории  \"не женат/не замужем\" наиболее распространены задолженности по кредиту с целью проведения операций с недвижимостью \n",
    "    \n",
    "\n",
    "3. А в категории \"гражданский брак\" наиболее распространены задолженности по кредиту с целью, как бы иронично не звучало, организации свадьбы. \n",
    "</div>"
   ]
  },
  {
   "cell_type": "markdown",
   "id": "baea6edb",
   "metadata": {
    "deletable": false,
    "editable": false,
    "id": "1e8b2fca"
   },
   "source": [
    "#### 3.3 Есть ли зависимость между уровнем дохода и возвратом кредита в срок?"
   ]
  },
  {
   "cell_type": "markdown",
   "id": "145757da",
   "metadata": {},
   "source": [
    "- 0–30000 — `'E'`;\n",
    "- 30001–50000 — `'D'`;\n",
    "- 50001–200000 — `'C'`;\n",
    "- 200001–1000000 — `'B'`;\n",
    "- 1000001 и выше — `'A'`."
   ]
  },
  {
   "cell_type": "code",
   "execution_count": 44,
   "id": "fe2b9edd",
   "metadata": {
    "deletable": false,
    "id": "cd7e3720"
   },
   "outputs": [
    {
     "data": {
      "text/html": [
       "<div>\n",
       "<style scoped>\n",
       "    .dataframe tbody tr th:only-of-type {\n",
       "        vertical-align: middle;\n",
       "    }\n",
       "\n",
       "    .dataframe tbody tr th {\n",
       "        vertical-align: top;\n",
       "    }\n",
       "\n",
       "    .dataframe thead th {\n",
       "        text-align: right;\n",
       "    }\n",
       "</style>\n",
       "<table border=\"1\" class=\"dataframe\">\n",
       "  <thead>\n",
       "    <tr style=\"text-align: right;\">\n",
       "      <th></th>\n",
       "      <th>total_income_category</th>\n",
       "      <th>debt_rate</th>\n",
       "      <th>group_size</th>\n",
       "      <th>debt_true</th>\n",
       "    </tr>\n",
       "  </thead>\n",
       "  <tbody>\n",
       "    <tr>\n",
       "      <th>3</th>\n",
       "      <td>D</td>\n",
       "      <td>0.060172</td>\n",
       "      <td>349</td>\n",
       "      <td>21</td>\n",
       "    </tr>\n",
       "    <tr>\n",
       "      <th>1</th>\n",
       "      <td>B</td>\n",
       "      <td>0.070602</td>\n",
       "      <td>5014</td>\n",
       "      <td>354</td>\n",
       "    </tr>\n",
       "    <tr>\n",
       "      <th>0</th>\n",
       "      <td>A</td>\n",
       "      <td>0.080000</td>\n",
       "      <td>25</td>\n",
       "      <td>2</td>\n",
       "    </tr>\n",
       "    <tr>\n",
       "      <th>2</th>\n",
       "      <td>C</td>\n",
       "      <td>0.084982</td>\n",
       "      <td>15921</td>\n",
       "      <td>1353</td>\n",
       "    </tr>\n",
       "    <tr>\n",
       "      <th>4</th>\n",
       "      <td>E</td>\n",
       "      <td>0.090909</td>\n",
       "      <td>22</td>\n",
       "      <td>2</td>\n",
       "    </tr>\n",
       "  </tbody>\n",
       "</table>\n",
       "</div>"
      ],
      "text/plain": [
       "  total_income_category  debt_rate  group_size  debt_true\n",
       "3                     D   0.060172         349         21\n",
       "1                     B   0.070602        5014        354\n",
       "0                     A   0.080000          25          2\n",
       "2                     C   0.084982       15921       1353\n",
       "4                     E   0.090909          22          2"
      ]
     },
     "execution_count": 44,
     "metadata": {},
     "output_type": "execute_result"
    }
   ],
   "source": [
    "debt_grouped_by_income_category = evaluate_debt_rate_by_grouper(data, 'total_income_category')\n",
    "debt_grouped_by_income_category.sort_values('debt_rate')"
   ]
  },
  {
   "cell_type": "markdown",
   "id": "90f01c8e",
   "metadata": {},
   "source": [
    "Отметим, что группы клиентов с категориями доходов A и E являются самыми малочисленными. Возможно, это произошло из-за заполнения пропусков медианным значение доходов."
   ]
  },
  {
   "cell_type": "code",
   "execution_count": 45,
   "id": "6c484774",
   "metadata": {},
   "outputs": [
    {
     "data": {
      "image/png": "[encoded data removed]",
      "text/plain": [
       "<Figure size 360x360 with 1 Axes>"
      ]
     },
     "metadata": {
      "needs_background": "light"
     },
     "output_type": "display_data"
    }
   ],
   "source": [
    "custom_barplot(debt_grouped_by_income_category.sort_values('debt_rate'),\n",
    "               'debt_rate',\n",
    "               'total_income_category',\n",
    "               'Зависимость доли людей с задолженностями от уровня дохода')"
   ]
  },
  {
   "cell_type": "markdown",
   "id": "fbe68a77",
   "metadata": {},
   "source": [
    "Визуализируем размеры групп"
   ]
  },
  {
   "cell_type": "code",
   "execution_count": 64,
   "id": "bf58c37c",
   "metadata": {},
   "outputs": [
    {
     "data": {
      "image/png": "[encoded data removed]",
      "text/plain": [
       "<Figure size 360x360 with 1 Axes>"
      ]
     },
     "metadata": {
      "needs_background": "light"
     },
     "output_type": "display_data"
    }
   ],
   "source": [
    "custom_barplot(debt_grouped_by_income_category.sort_values('group_size'),\n",
    "               'group_size',\n",
    "               'total_income_category',\n",
    "               'Размеры групп клиентов в зависимости от категории доходов')"
   ]
  },
  {
   "cell_type": "markdown",
   "id": "6fa2bf82",
   "metadata": {},
   "source": [
    " Отчетливо видно, что построение выводов по группам E и A будет не совсем корректным, так как количество клиентов в них слишком мало. Причиной этому может служить заполнение пропущенных данных медианным значением в начале проекта. Клиент с пропуском в поле <code>total_income</code> после заполнения медианным значением в зависимости от категориив поле <code>income_type</code> мог сменить категорию дохода. "
   ]
  },
  {
   "cell_type": "markdown",
   "id": "7ec5eaef",
   "metadata": {},
   "source": [
    "<div class=\"alert alert-block alert-info\"><b>Вывод: </b> проанализировав столбцы <code>debt</code> и <code>total_income_category</code> на предмет взаимосвязи, можно отметить следующее\n",
    "\n",
    "1. Наименьший процент людей, имеющих задолженности, представлен в группе клиентов, чей доход имеет категорию D ($\\approx$ 6%). \n",
    "\n",
    "\n",
    "2. Наибольший процент людей с задолженностями представлен в группе клиентов, чей доход имеет категорию С. Он составляет $\\approx$ 8.5%.\n",
    "\n",
    "    \n",
    "3. Относительно представителей категорий доходов A и E нельзя сделать выводы, так как эти группы клиентов образуют нерепрезентативные выборки. Их размеры на три порядка ниже чем суммарное количество строк в датасете. </div> </b> \n",
    "\n",
    "</div>"
   ]
  },
  {
   "cell_type": "code",
   "execution_count": 115,
   "id": "c642c692",
   "metadata": {},
   "outputs": [
    {
     "data": {
      "text/html": [
       "<div>\n",
       "<style scoped>\n",
       "    .dataframe tbody tr th:only-of-type {\n",
       "        vertical-align: middle;\n",
       "    }\n",
       "\n",
       "    .dataframe tbody tr th {\n",
       "        vertical-align: top;\n",
       "    }\n",
       "\n",
       "    .dataframe thead tr th {\n",
       "        text-align: left;\n",
       "    }\n",
       "\n",
       "    .dataframe thead tr:last-of-type th {\n",
       "        text-align: right;\n",
       "    }\n",
       "</style>\n",
       "<table border=\"1\" class=\"dataframe\">\n",
       "  <thead>\n",
       "    <tr>\n",
       "      <th></th>\n",
       "      <th colspan=\"5\" halign=\"left\">sum</th>\n",
       "      <th colspan=\"5\" halign=\"left\">mean</th>\n",
       "    </tr>\n",
       "    <tr>\n",
       "      <th>total_income_category</th>\n",
       "      <th>A</th>\n",
       "      <th>B</th>\n",
       "      <th>C</th>\n",
       "      <th>D</th>\n",
       "      <th>E</th>\n",
       "      <th>A</th>\n",
       "      <th>B</th>\n",
       "      <th>C</th>\n",
       "      <th>D</th>\n",
       "      <th>E</th>\n",
       "    </tr>\n",
       "    <tr>\n",
       "      <th>purpose_category</th>\n",
       "      <th></th>\n",
       "      <th></th>\n",
       "      <th></th>\n",
       "      <th></th>\n",
       "      <th></th>\n",
       "      <th></th>\n",
       "      <th></th>\n",
       "      <th></th>\n",
       "      <th></th>\n",
       "      <th></th>\n",
       "    </tr>\n",
       "  </thead>\n",
       "  <tbody>\n",
       "    <tr>\n",
       "      <th>операции с автомобилем</th>\n",
       "      <td>0</td>\n",
       "      <td>85</td>\n",
       "      <td>305</td>\n",
       "      <td>10</td>\n",
       "      <td>0</td>\n",
       "      <td>0.00</td>\n",
       "      <td>0.08</td>\n",
       "      <td>0.10</td>\n",
       "      <td>0.14</td>\n",
       "      <td>0.00</td>\n",
       "    </tr>\n",
       "    <tr>\n",
       "      <th>операции с недвижимостью</th>\n",
       "      <td>1</td>\n",
       "      <td>172</td>\n",
       "      <td>599</td>\n",
       "      <td>6</td>\n",
       "      <td>2</td>\n",
       "      <td>0.06</td>\n",
       "      <td>0.07</td>\n",
       "      <td>0.07</td>\n",
       "      <td>0.04</td>\n",
       "      <td>0.18</td>\n",
       "    </tr>\n",
       "    <tr>\n",
       "      <th>получение образования</th>\n",
       "      <td>1</td>\n",
       "      <td>69</td>\n",
       "      <td>297</td>\n",
       "      <td>2</td>\n",
       "      <td>0</td>\n",
       "      <td>0.25</td>\n",
       "      <td>0.08</td>\n",
       "      <td>0.10</td>\n",
       "      <td>0.03</td>\n",
       "      <td>0.00</td>\n",
       "    </tr>\n",
       "    <tr>\n",
       "      <th>проведение свадьбы</th>\n",
       "      <td>0</td>\n",
       "      <td>28</td>\n",
       "      <td>152</td>\n",
       "      <td>3</td>\n",
       "      <td>0</td>\n",
       "      <td>0.00</td>\n",
       "      <td>0.05</td>\n",
       "      <td>0.09</td>\n",
       "      <td>0.09</td>\n",
       "      <td>0.00</td>\n",
       "    </tr>\n",
       "  </tbody>\n",
       "</table>\n",
       "</div>"
      ],
      "text/plain": [
       "                         sum                   mean                        \n",
       "total_income_category      A    B    C   D  E     A     B     C     D     E\n",
       "purpose_category                                                           \n",
       "операции с автомобилем     0   85  305  10  0  0.00  0.08  0.10  0.14  0.00\n",
       "операции с недвижимостью   1  172  599   6  2  0.06  0.07  0.07  0.04  0.18\n",
       "получение образования      1   69  297   2  0  0.25  0.08  0.10  0.03  0.00\n",
       "проведение свадьбы         0   28  152   3  0  0.00  0.05  0.09  0.09  0.00"
      ]
     },
     "execution_count": 115,
     "metadata": {},
     "output_type": "execute_result"
    }
   ],
   "source": [
    "selected_columns = ['total_income_category', 'debt', 'purpose_category']\n",
    "data[selected_columns].pivot_table(columns='total_income_category',\n",
    "                                   index=['purpose_category'], \n",
    "                                   values='debt', \n",
    "                                   aggfunc=['sum', 'mean']).fillna(0).round(2)"
   ]
  },
  {
   "cell_type": "markdown",
   "id": "86becda6",
   "metadata": {},
   "source": [
    "Дополнительный анализ по сводной таблице приводит к выводу, что клиенты с категорией дохода C, больше всего имеют задолженность с целями кредита \"операции с автомобилем\" и \"получение образования\""
   ]
  },
  {
   "cell_type": "markdown",
   "id": "4eb5f8aa",
   "metadata": {
    "deletable": false,
    "editable": false,
    "id": "99ecbd1f"
   },
   "source": [
    "#### 3.4 Как разные цели кредита влияют на его возврат в срок?"
   ]
  },
  {
   "cell_type": "code",
   "execution_count": 46,
   "id": "9fec35d7",
   "metadata": {
    "deletable": false,
    "id": "2b687290"
   },
   "outputs": [
    {
     "data": {
      "text/html": [
       "<div>\n",
       "<style scoped>\n",
       "    .dataframe tbody tr th:only-of-type {\n",
       "        vertical-align: middle;\n",
       "    }\n",
       "\n",
       "    .dataframe tbody tr th {\n",
       "        vertical-align: top;\n",
       "    }\n",
       "\n",
       "    .dataframe thead th {\n",
       "        text-align: right;\n",
       "    }\n",
       "</style>\n",
       "<table border=\"1\" class=\"dataframe\">\n",
       "  <thead>\n",
       "    <tr style=\"text-align: right;\">\n",
       "      <th></th>\n",
       "      <th>purpose_category</th>\n",
       "      <th>debt_rate</th>\n",
       "      <th>group_size</th>\n",
       "      <th>debt_true</th>\n",
       "    </tr>\n",
       "  </thead>\n",
       "  <tbody>\n",
       "    <tr>\n",
       "      <th>1</th>\n",
       "      <td>операции с недвижимостью</td>\n",
       "      <td>0.072551</td>\n",
       "      <td>10751</td>\n",
       "      <td>780</td>\n",
       "    </tr>\n",
       "    <tr>\n",
       "      <th>3</th>\n",
       "      <td>проведение свадьбы</td>\n",
       "      <td>0.079118</td>\n",
       "      <td>2313</td>\n",
       "      <td>183</td>\n",
       "    </tr>\n",
       "    <tr>\n",
       "      <th>2</th>\n",
       "      <td>получение образования</td>\n",
       "      <td>0.092528</td>\n",
       "      <td>3988</td>\n",
       "      <td>369</td>\n",
       "    </tr>\n",
       "    <tr>\n",
       "      <th>0</th>\n",
       "      <td>операции с автомобилем</td>\n",
       "      <td>0.093480</td>\n",
       "      <td>4279</td>\n",
       "      <td>400</td>\n",
       "    </tr>\n",
       "  </tbody>\n",
       "</table>\n",
       "</div>"
      ],
      "text/plain": [
       "           purpose_category  debt_rate  group_size  debt_true\n",
       "1  операции с недвижимостью   0.072551       10751        780\n",
       "3        проведение свадьбы   0.079118        2313        183\n",
       "2     получение образования   0.092528        3988        369\n",
       "0    операции с автомобилем   0.093480        4279        400"
      ]
     },
     "execution_count": 46,
     "metadata": {},
     "output_type": "execute_result"
    }
   ],
   "source": [
    "debt_grouped_by_purpose_category = evaluate_debt_rate_by_grouper(data, 'purpose_category')\n",
    "debt_grouped_by_purpose_category.sort_values('debt_rate')"
   ]
  },
  {
   "cell_type": "code",
   "execution_count": 47,
   "id": "d0c532e1",
   "metadata": {},
   "outputs": [
    {
     "data": {
      "image/png": "[encoded data removed]",
      "text/plain": [
       "<Figure size 360x360 with 1 Axes>"
      ]
     },
     "metadata": {
      "needs_background": "light"
     },
     "output_type": "display_data"
    }
   ],
   "source": [
    "custom_barplot(debt_grouped_by_purpose_category.sort_values('debt_rate'),\n",
    "               'debt_rate',\n",
    "               'purpose_category',\n",
    "               'Зависимость доли людей с задолженностями от цели кредита')"
   ]
  },
  {
   "cell_type": "markdown",
   "id": "b9b74406",
   "metadata": {
    "deletable": false,
    "id": "b4bb2ce6"
   },
   "source": [
    "<div class=\"alert alert-block alert-info\"><b>Вывод:</b> проанализировав столбцы <code>debt</code> и <code>purpose_category</code> на предмет взаимосвязи, можно отметить следующее\n",
    "\n",
    "1. Наименьший процент людей, имеющих задолженности, представлен в группе \"операции с недвижимостью\"($\\approx$ 7.25%). \n",
    "\n",
    "\n",
    "2. Наибольший процент людей с задолженностями представлен в группе \"операции с автомобилем\". Он составляет $\\approx$ 9.34%.\n",
    "\n",
    "\n",
    "3. Также высок процент людей с задолженностями в группе \"получение образования\" ($\\approx$ 9.25%). </div>"
   ]
  },
  {
   "cell_type": "markdown",
   "id": "856f3df7",
   "metadata": {
    "deletable": false,
    "editable": false,
    "id": "09c3ac4c"
   },
   "source": [
    "#### 3.5 Приведите возможные причины появления пропусков в исходных данных."
   ]
  },
  {
   "cell_type": "markdown",
   "id": "f29cdf8b",
   "metadata": {
    "deletable": false,
    "id": "9da2ceda"
   },
   "source": [
    "*Ответ:* \n",
    "\n",
    "Изначально пропуски в данном датасете присутствовали в столбцах `total_income` и `days_employed`. Судя по наличию отрицательных значений, возможно, что пользователь мог не только перепутать \"окна\", куда нужно вставлять данные о начале и конце работы, но и написать там некорректные данные (буквы, строчки и тд.). Пользователь так же мог некорректно вписать в одно из окошек по доходам буквенные выражения. Например, вместо нуля могла быть вписана латинская буква \"О\". Возможно также, что данная информация конфиденциальная и просто скрыта для ряда клиентов."
   ]
  },
  {
   "cell_type": "markdown",
   "id": "1891af6f",
   "metadata": {
    "deletable": false,
    "editable": false,
    "id": "7b0487d6"
   },
   "source": [
    "#### 3.6 Объясните, почему заполнить пропуски медианным значением — лучшее решение для количественных переменных."
   ]
  },
  {
   "cell_type": "markdown",
   "id": "29c6b584",
   "metadata": {
    "deletable": false,
    "id": "7ecf2b8e"
   },
   "source": [
    "*Ответ:* \n",
    "\n",
    "Всегда есть соблазн воспользоваться самой простой центральной тенденцией - средним арифметическим. Однако если в данных будут слишком большие значения, то среднее арифметическое будет \"тяготеть\" к этим большим значениям. Медиана же является робастной метрикой и более объективно оценивает среднее или типичное значение, отлично подходящее для заполнения пропусков в данных."
   ]
  },
  {
   "cell_type": "markdown",
   "id": "c6aab8e4",
   "metadata": {
    "deletable": false,
    "editable": false,
    "id": "6db5255a"
   },
   "source": [
    "### Шаг 4: общий вывод."
   ]
  },
  {
   "cell_type": "markdown",
   "id": "26f1918d",
   "metadata": {
    "deletable": false,
    "id": "bad65432"
   },
   "source": [
    "<div class=\"alert alert-block alert-info\">\n",
    "1. На долю людей, имеющих задолженности, влияет несколько факторов \n",
    "\n",
    " - количество детей и факт их наличия\n",
    " - семейное положение\n",
    " - уровень доходов\n",
    " - цель кредита\n",
    "\n",
    "\n",
    "2. Оказалось, что самые большие семьи (имеющие 5 детей), представленные в выборке, имеют безупречную кредитную историю. Однако клиенты с 4 детьми образуют самую большую группу по числу лиц, имеющих задолженности. Если посмотреть на данные в разрезе созданного признак \"имеются ли дети\", то можно отметить, что в представленных данных доля клиентов, имеющих задолженности по кредиту и не имеющих детей, меньше, чем доля тех, кто имеет не менее одного ребенка. При этом фактор многодетной семьи практически не влияет на долю клиентов с задолженностями.\n",
    "Cамая многочисленная группа, представленная в данных имеет 1-2 детей. В этих категориях достаточно высока доля клиентов, имеющих задолженности по кредиту \n",
    "\n",
    "\n",
    "3. На долю людей с задолженностями также влияет и семейное положение. В ходе анализа было выявлено, что группа \"вдовец/вдова\" составляет самую малочисленную долю людей с задолженностями. С другой стороны в группе \"не женат/не замужем\" самая большая доля людей с задолженностями. \n",
    "\n",
    "\n",
    "\n",
    "4. Было также исследовано влияние уровня дохода на долю людей с задолженностями. Оказалось, что клиенты с доходами категории D образуют группу с самой малой долей людей с задолженностями, а самую большую долю образуют клиенты с категорией доходов C\n",
    "\n",
    "\n",
    "\n",
    "5. Клиенты с целью кредита \"операции с недвижимостью\" образуют группу с самой малой долей людей с задолженностями, а клиенты группы \"операции с автомобилем\" имеют самую большую долю людей с задолженностями \n",
    "</div>"
   ]
  }
 ],
 "metadata": {
  "ExecuteTimeLog": [
   {
    "duration": 48,
    "start_time": "2024-10-13T19:49:17.064Z"
   },
   {
    "duration": 755,
    "start_time": "2024-10-13T19:49:21.086Z"
   },
   {
    "duration": 24,
    "start_time": "2024-10-13T19:49:21.844Z"
   },
   {
    "duration": 20,
    "start_time": "2024-10-13T19:49:21.929Z"
   },
   {
    "duration": 11,
    "start_time": "2024-10-13T19:49:22.068Z"
   },
   {
    "duration": 37,
    "start_time": "2024-10-13T19:49:22.123Z"
   },
   {
    "duration": 3,
    "start_time": "2024-10-13T19:49:22.485Z"
   },
   {
    "duration": 8,
    "start_time": "2024-10-13T19:49:22.760Z"
   },
   {
    "duration": 5,
    "start_time": "2024-10-13T19:49:22.860Z"
   },
   {
    "duration": 7,
    "start_time": "2024-10-13T19:49:22.926Z"
   },
   {
    "duration": 5,
    "start_time": "2024-10-13T19:49:22.994Z"
   },
   {
    "duration": 39,
    "start_time": "2024-10-13T19:49:23.664Z"
   },
   {
    "duration": 12,
    "start_time": "2024-10-13T19:49:23.728Z"
   },
   {
    "duration": 5,
    "start_time": "2024-10-13T19:49:24.419Z"
   },
   {
    "duration": 20,
    "start_time": "2024-10-13T19:49:25.097Z"
   },
   {
    "duration": 20,
    "start_time": "2024-10-13T19:49:25.621Z"
   },
   {
    "duration": 19,
    "start_time": "2024-10-13T19:49:25.908Z"
   },
   {
    "duration": 3,
    "start_time": "2024-10-13T19:49:27.102Z"
   },
   {
    "duration": 14,
    "start_time": "2024-10-13T19:49:27.364Z"
   },
   {
    "duration": 6,
    "start_time": "2024-10-13T19:49:27.823Z"
   },
   {
    "duration": 4,
    "start_time": "2024-10-13T19:49:28.265Z"
   },
   {
    "duration": 9,
    "start_time": "2024-10-13T19:49:28.742Z"
   },
   {
    "duration": 5,
    "start_time": "2024-10-13T19:49:30.358Z"
   },
   {
    "duration": 590,
    "start_time": "2024-10-13T19:49:37.558Z"
   },
   {
    "duration": 145,
    "start_time": "2024-10-13T19:49:57.192Z"
   },
   {
    "duration": 87,
    "start_time": "2024-10-13T19:51:38.543Z"
   },
   {
    "duration": 17,
    "start_time": "2024-10-13T19:51:39.106Z"
   },
   {
    "duration": 24,
    "start_time": "2024-10-13T19:51:39.174Z"
   },
   {
    "duration": 19,
    "start_time": "2024-10-13T19:51:39.310Z"
   },
   {
    "duration": 51,
    "start_time": "2024-10-13T19:51:39.375Z"
   },
   {
    "duration": 3,
    "start_time": "2024-10-13T19:51:39.477Z"
   },
   {
    "duration": 8,
    "start_time": "2024-10-13T19:51:39.543Z"
   },
   {
    "duration": 5,
    "start_time": "2024-10-13T19:51:39.653Z"
   },
   {
    "duration": 6,
    "start_time": "2024-10-13T19:51:39.711Z"
   },
   {
    "duration": 5,
    "start_time": "2024-10-13T19:51:40.061Z"
   },
   {
    "duration": 43,
    "start_time": "2024-10-13T19:51:40.374Z"
   },
   {
    "duration": 11,
    "start_time": "2024-10-13T19:51:40.444Z"
   },
   {
    "duration": 4,
    "start_time": "2024-10-13T19:51:40.542Z"
   },
   {
    "duration": 12,
    "start_time": "2024-10-13T19:51:40.643Z"
   },
   {
    "duration": 20,
    "start_time": "2024-10-13T19:51:40.710Z"
   },
   {
    "duration": 20,
    "start_time": "2024-10-13T19:51:40.770Z"
   },
   {
    "duration": 4,
    "start_time": "2024-10-13T19:51:40.843Z"
   },
   {
    "duration": 11,
    "start_time": "2024-10-13T19:51:40.877Z"
   },
   {
    "duration": 7,
    "start_time": "2024-10-13T19:51:40.943Z"
   },
   {
    "duration": 4,
    "start_time": "2024-10-13T19:51:41.037Z"
   },
   {
    "duration": 8,
    "start_time": "2024-10-13T19:51:41.051Z"
   },
   {
    "duration": 151,
    "start_time": "2024-10-13T19:51:41.143Z"
   },
   {
    "duration": 3,
    "start_time": "2024-10-13T19:51:41.295Z"
   },
   {
    "duration": 643,
    "start_time": "2024-10-13T19:52:03.292Z"
   },
   {
    "duration": 90,
    "start_time": "2024-10-13T19:52:21.350Z"
   },
   {
    "duration": 297,
    "start_time": "2024-10-13T19:52:56.921Z"
   },
   {
    "duration": 1648,
    "start_time": "2024-10-13T19:54:29.074Z"
   },
   {
    "duration": 142,
    "start_time": "2024-10-13T19:55:16.374Z"
   },
   {
    "duration": 81,
    "start_time": "2024-10-13T19:55:51.042Z"
   },
   {
    "duration": 17,
    "start_time": "2024-10-13T19:55:51.632Z"
   },
   {
    "duration": 17,
    "start_time": "2024-10-13T19:55:52.246Z"
   },
   {
    "duration": 12,
    "start_time": "2024-10-13T19:55:53.953Z"
   },
   {
    "duration": 39,
    "start_time": "2024-10-13T19:55:54.476Z"
   },
   {
    "duration": 4,
    "start_time": "2024-10-13T19:55:55.408Z"
   },
   {
    "duration": 8,
    "start_time": "2024-10-13T19:55:55.822Z"
   },
   {
    "duration": 4,
    "start_time": "2024-10-13T19:55:55.926Z"
   },
   {
    "duration": 6,
    "start_time": "2024-10-13T19:55:56.446Z"
   },
   {
    "duration": 5,
    "start_time": "2024-10-13T19:55:56.504Z"
   },
   {
    "duration": 37,
    "start_time": "2024-10-13T19:55:57.246Z"
   },
   {
    "duration": 12,
    "start_time": "2024-10-13T19:55:57.527Z"
   },
   {
    "duration": 5,
    "start_time": "2024-10-13T19:55:57.622Z"
   },
   {
    "duration": 13,
    "start_time": "2024-10-13T19:55:58.077Z"
   },
   {
    "duration": 19,
    "start_time": "2024-10-13T19:55:58.358Z"
   },
   {
    "duration": 19,
    "start_time": "2024-10-13T19:55:58.610Z"
   },
   {
    "duration": 4,
    "start_time": "2024-10-13T19:55:58.927Z"
   },
   {
    "duration": 11,
    "start_time": "2024-10-13T19:55:59.159Z"
   },
   {
    "duration": 6,
    "start_time": "2024-10-13T19:55:59.736Z"
   },
   {
    "duration": 4,
    "start_time": "2024-10-13T19:56:00.198Z"
   },
   {
    "duration": 10,
    "start_time": "2024-10-13T19:56:00.407Z"
   },
   {
    "duration": 2,
    "start_time": "2024-10-13T19:56:01.361Z"
   },
   {
    "duration": 135,
    "start_time": "2024-10-13T19:56:04.049Z"
   },
   {
    "duration": 813,
    "start_time": "2024-10-13T19:56:13.226Z"
   },
   {
    "duration": 696,
    "start_time": "2024-10-13T19:56:26.304Z"
   },
   {
    "duration": 615,
    "start_time": "2024-10-13T19:56:42.335Z"
   },
   {
    "duration": 13790,
    "start_time": "2024-10-13T19:57:04.735Z"
   },
   {
    "duration": 1010,
    "start_time": "2024-10-13T19:58:01.525Z"
   },
   {
    "duration": 866,
    "start_time": "2024-10-13T19:58:06.637Z"
   },
   {
    "duration": 733,
    "start_time": "2024-10-13T19:58:22.823Z"
   },
   {
    "duration": 731,
    "start_time": "2024-10-13T19:58:31.110Z"
   },
   {
    "duration": 792,
    "start_time": "2024-10-13T19:58:35.633Z"
   },
   {
    "duration": 70,
    "start_time": "2024-10-13T19:59:46.499Z"
   },
   {
    "duration": 602,
    "start_time": "2024-10-13T20:00:11.013Z"
   },
   {
    "duration": 805,
    "start_time": "2024-10-13T20:00:18.331Z"
   },
   {
    "duration": 882,
    "start_time": "2024-10-13T20:01:05.578Z"
   },
   {
    "duration": 778,
    "start_time": "2024-10-13T20:01:19.306Z"
   },
   {
    "duration": 628,
    "start_time": "2024-10-13T20:03:00.000Z"
   },
   {
    "duration": 13,
    "start_time": "2024-10-13T20:03:43.628Z"
   },
   {
    "duration": 157,
    "start_time": "2024-10-13T20:04:03.853Z"
   },
   {
    "duration": 522,
    "start_time": "2024-10-13T20:04:28.894Z"
   },
   {
    "duration": 632,
    "start_time": "2024-10-13T20:04:55.185Z"
   },
   {
    "duration": 635,
    "start_time": "2024-10-13T20:05:06.577Z"
   },
   {
    "duration": 537,
    "start_time": "2024-10-13T20:05:09.794Z"
   },
   {
    "duration": 637,
    "start_time": "2024-10-13T20:05:17.009Z"
   },
   {
    "duration": 10,
    "start_time": "2024-10-13T20:05:44.304Z"
   },
   {
    "duration": 10,
    "start_time": "2024-10-13T20:06:28.111Z"
   },
   {
    "duration": 10,
    "start_time": "2024-10-13T20:07:00.017Z"
   },
   {
    "duration": 14,
    "start_time": "2024-10-13T20:07:04.188Z"
   },
   {
    "duration": 14,
    "start_time": "2024-10-13T20:08:21.251Z"
   },
   {
    "duration": 12,
    "start_time": "2024-10-13T20:08:57.981Z"
   },
   {
    "duration": 15,
    "start_time": "2024-10-13T20:09:12.316Z"
   },
   {
    "duration": 10,
    "start_time": "2024-10-13T20:09:32.402Z"
   },
   {
    "duration": 15,
    "start_time": "2024-10-13T20:09:43.743Z"
   },
   {
    "duration": 15,
    "start_time": "2024-10-13T20:11:03.497Z"
   },
   {
    "duration": 226,
    "start_time": "2024-10-13T20:11:40.011Z"
   },
   {
    "duration": 18,
    "start_time": "2024-10-13T20:11:50.683Z"
   },
   {
    "duration": 16,
    "start_time": "2024-10-13T20:11:53.649Z"
   },
   {
    "duration": 19,
    "start_time": "2024-10-13T20:12:05.106Z"
   },
   {
    "duration": 24,
    "start_time": "2024-10-13T20:12:46.942Z"
   },
   {
    "duration": 23,
    "start_time": "2024-10-13T20:12:52.027Z"
   },
   {
    "duration": 21,
    "start_time": "2024-10-13T20:13:02.643Z"
   },
   {
    "duration": 6,
    "start_time": "2024-10-13T20:13:42.672Z"
   },
   {
    "duration": 12,
    "start_time": "2024-10-13T20:13:45.805Z"
   },
   {
    "duration": 10,
    "start_time": "2024-10-13T20:13:49.015Z"
   },
   {
    "duration": 15,
    "start_time": "2024-10-13T20:13:59.749Z"
   },
   {
    "duration": 4,
    "start_time": "2024-10-13T20:14:15.300Z"
   },
   {
    "duration": 12,
    "start_time": "2024-10-13T20:14:24.193Z"
   },
   {
    "duration": 4,
    "start_time": "2024-10-13T20:14:54.161Z"
   },
   {
    "duration": 10,
    "start_time": "2024-10-13T20:15:01.248Z"
   },
   {
    "duration": 9,
    "start_time": "2024-10-13T20:15:16.007Z"
   },
   {
    "duration": 7,
    "start_time": "2024-10-13T20:15:23.222Z"
   },
   {
    "duration": 5,
    "start_time": "2024-10-13T20:15:27.496Z"
   },
   {
    "duration": 5,
    "start_time": "2024-10-13T20:15:28.900Z"
   },
   {
    "duration": 83,
    "start_time": "2024-10-13T20:15:32.820Z"
   },
   {
    "duration": 17,
    "start_time": "2024-10-13T20:15:33.111Z"
   },
   {
    "duration": 17,
    "start_time": "2024-10-13T20:15:33.170Z"
   },
   {
    "duration": 13,
    "start_time": "2024-10-13T20:15:33.305Z"
   },
   {
    "duration": 42,
    "start_time": "2024-10-13T20:15:33.368Z"
   },
   {
    "duration": 4,
    "start_time": "2024-10-13T20:15:33.468Z"
   },
   {
    "duration": 7,
    "start_time": "2024-10-13T20:15:33.535Z"
   },
   {
    "duration": 4,
    "start_time": "2024-10-13T20:15:33.986Z"
   },
   {
    "duration": 49,
    "start_time": "2024-10-13T20:15:33.992Z"
   },
   {
    "duration": 4,
    "start_time": "2024-10-13T20:15:34.043Z"
   },
   {
    "duration": 39,
    "start_time": "2024-10-13T20:15:34.048Z"
   },
   {
    "duration": 12,
    "start_time": "2024-10-13T20:15:34.090Z"
   },
   {
    "duration": 9,
    "start_time": "2024-10-13T20:15:34.104Z"
   },
   {
    "duration": 12,
    "start_time": "2024-10-13T20:15:34.562Z"
   },
   {
    "duration": 20,
    "start_time": "2024-10-13T20:15:34.620Z"
   },
   {
    "duration": 19,
    "start_time": "2024-10-13T20:15:34.652Z"
   },
   {
    "duration": 4,
    "start_time": "2024-10-13T20:15:35.225Z"
   },
   {
    "duration": 12,
    "start_time": "2024-10-13T20:15:35.479Z"
   },
   {
    "duration": 7,
    "start_time": "2024-10-13T20:15:35.546Z"
   },
   {
    "duration": 4,
    "start_time": "2024-10-13T20:15:35.620Z"
   },
   {
    "duration": 10,
    "start_time": "2024-10-13T20:15:35.653Z"
   },
   {
    "duration": 22,
    "start_time": "2024-10-13T20:15:35.785Z"
   },
   {
    "duration": 12,
    "start_time": "2024-10-13T20:15:49.331Z"
   },
   {
    "duration": 7,
    "start_time": "2024-10-13T20:15:58.676Z"
   },
   {
    "duration": 12,
    "start_time": "2024-10-13T20:16:13.509Z"
   },
   {
    "duration": 51,
    "start_time": "2024-10-13T20:16:34.021Z"
   },
   {
    "duration": 366,
    "start_time": "2024-10-13T20:16:39.140Z"
   },
   {
    "duration": 346,
    "start_time": "2024-10-13T20:17:00.430Z"
   },
   {
    "duration": 309,
    "start_time": "2024-10-13T20:17:13.447Z"
   },
   {
    "duration": 287,
    "start_time": "2024-10-13T20:17:22.634Z"
   },
   {
    "duration": 618,
    "start_time": "2024-10-13T20:17:36.033Z"
   },
   {
    "duration": 317,
    "start_time": "2024-10-13T20:17:56.686Z"
   },
   {
    "duration": 11,
    "start_time": "2024-10-13T20:18:36.635Z"
   },
   {
    "duration": 12,
    "start_time": "2024-10-13T20:20:08.406Z"
   },
   {
    "duration": 13,
    "start_time": "2024-10-13T20:20:15.399Z"
   },
   {
    "duration": 11,
    "start_time": "2024-10-13T20:20:23.183Z"
   },
   {
    "duration": 383,
    "start_time": "2024-10-13T20:21:24.701Z"
   },
   {
    "duration": 356,
    "start_time": "2024-10-13T20:21:40.453Z"
   },
   {
    "duration": 326,
    "start_time": "2024-10-13T20:22:21.504Z"
   },
   {
    "duration": 301,
    "start_time": "2024-10-13T20:22:32.191Z"
   },
   {
    "duration": 282,
    "start_time": "2024-10-13T20:22:37.434Z"
   },
   {
    "duration": 18,
    "start_time": "2024-10-13T20:22:41.214Z"
   },
   {
    "duration": 16,
    "start_time": "2024-10-13T20:22:44.396Z"
   },
   {
    "duration": 272,
    "start_time": "2024-10-13T20:23:33.213Z"
   },
   {
    "duration": 319,
    "start_time": "2024-10-13T20:23:50.731Z"
   },
   {
    "duration": 273,
    "start_time": "2024-10-13T20:23:54.909Z"
   },
   {
    "duration": 729,
    "start_time": "2024-10-13T20:25:40.011Z"
   },
   {
    "duration": 276,
    "start_time": "2024-10-13T20:25:46.503Z"
   },
   {
    "duration": 10,
    "start_time": "2024-10-13T20:27:19.319Z"
   },
   {
    "duration": 13,
    "start_time": "2024-10-13T20:27:26.112Z"
   },
   {
    "duration": 23,
    "start_time": "2024-10-13T20:27:43.707Z"
   },
   {
    "duration": 11,
    "start_time": "2024-10-13T20:27:57.313Z"
   },
   {
    "duration": 270,
    "start_time": "2024-10-13T20:28:41.029Z"
   },
   {
    "duration": 272,
    "start_time": "2024-10-13T20:29:10.515Z"
   },
   {
    "duration": 340,
    "start_time": "2024-10-13T20:29:21.647Z"
   },
   {
    "duration": 280,
    "start_time": "2024-10-13T20:29:44.504Z"
   },
   {
    "duration": 305,
    "start_time": "2024-10-13T20:30:03.840Z"
   },
   {
    "duration": 7,
    "start_time": "2024-10-13T20:41:38.104Z"
   },
   {
    "duration": 5,
    "start_time": "2024-10-13T20:41:57.115Z"
   },
   {
    "duration": 4,
    "start_time": "2024-10-13T20:44:37.914Z"
   },
   {
    "duration": 4,
    "start_time": "2024-10-13T20:44:40.954Z"
   },
   {
    "duration": 5,
    "start_time": "2024-10-13T20:46:23.450Z"
   },
   {
    "duration": 217,
    "start_time": "2024-10-13T20:53:59.840Z"
   },
   {
    "duration": 9,
    "start_time": "2024-10-13T20:54:07.553Z"
   },
   {
    "duration": 6,
    "start_time": "2024-10-13T20:54:33.338Z"
   },
   {
    "duration": 11,
    "start_time": "2024-10-13T20:54:42.138Z"
   },
   {
    "duration": 12,
    "start_time": "2024-10-13T20:55:06.105Z"
   },
   {
    "duration": 11,
    "start_time": "2024-10-13T20:56:00.410Z"
   },
   {
    "duration": 11,
    "start_time": "2024-10-13T20:56:03.210Z"
   },
   {
    "duration": 14,
    "start_time": "2024-10-13T20:56:19.666Z"
   },
   {
    "duration": 7,
    "start_time": "2024-10-13T20:56:22.580Z"
   },
   {
    "duration": 13,
    "start_time": "2024-10-13T20:56:22.960Z"
   },
   {
    "duration": 11,
    "start_time": "2024-10-13T20:56:26.081Z"
   },
   {
    "duration": 276,
    "start_time": "2024-10-13T20:56:29.657Z"
   },
   {
    "duration": 12,
    "start_time": "2024-10-13T20:57:08.687Z"
   },
   {
    "duration": 11,
    "start_time": "2024-10-13T20:57:15.524Z"
   },
   {
    "duration": 277,
    "start_time": "2024-10-13T20:57:16.799Z"
   },
   {
    "duration": 247,
    "start_time": "2024-10-13T20:59:20.190Z"
   },
   {
    "duration": 14,
    "start_time": "2024-10-13T20:59:25.045Z"
   },
   {
    "duration": 276,
    "start_time": "2024-10-13T20:59:38.456Z"
   },
   {
    "duration": 265,
    "start_time": "2024-10-13T20:59:59.540Z"
   },
   {
    "duration": 279,
    "start_time": "2024-10-13T21:00:48.075Z"
   },
   {
    "duration": 261,
    "start_time": "2024-10-13T21:01:04.811Z"
   },
   {
    "duration": 98,
    "start_time": "2024-10-13T21:02:27.237Z"
   },
   {
    "duration": 16,
    "start_time": "2024-10-13T21:02:27.934Z"
   },
   {
    "duration": 16,
    "start_time": "2024-10-13T21:02:28.000Z"
   },
   {
    "duration": 11,
    "start_time": "2024-10-13T21:02:28.134Z"
   },
   {
    "duration": 36,
    "start_time": "2024-10-13T21:02:28.207Z"
   },
   {
    "duration": 4,
    "start_time": "2024-10-13T21:02:28.309Z"
   },
   {
    "duration": 8,
    "start_time": "2024-10-13T21:02:28.378Z"
   },
   {
    "duration": 8,
    "start_time": "2024-10-13T21:02:28.479Z"
   },
   {
    "duration": 6,
    "start_time": "2024-10-13T21:02:28.658Z"
   },
   {
    "duration": 5,
    "start_time": "2024-10-13T21:02:28.943Z"
   },
   {
    "duration": 38,
    "start_time": "2024-10-13T21:02:29.043Z"
   },
   {
    "duration": 11,
    "start_time": "2024-10-13T21:02:29.110Z"
   },
   {
    "duration": 5,
    "start_time": "2024-10-13T21:02:29.211Z"
   },
   {
    "duration": 12,
    "start_time": "2024-10-13T21:02:29.312Z"
   },
   {
    "duration": 22,
    "start_time": "2024-10-13T21:02:29.641Z"
   },
   {
    "duration": 18,
    "start_time": "2024-10-13T21:02:29.880Z"
   },
   {
    "duration": 3,
    "start_time": "2024-10-13T21:02:29.992Z"
   },
   {
    "duration": 11,
    "start_time": "2024-10-13T21:02:30.015Z"
   },
   {
    "duration": 6,
    "start_time": "2024-10-13T21:02:30.083Z"
   },
   {
    "duration": 13,
    "start_time": "2024-10-13T21:02:30.166Z"
   },
   {
    "duration": 9,
    "start_time": "2024-10-13T21:02:30.643Z"
   },
   {
    "duration": 8,
    "start_time": "2024-10-13T21:02:30.997Z"
   },
   {
    "duration": 10,
    "start_time": "2024-10-13T21:02:31.519Z"
   },
   {
    "duration": 268,
    "start_time": "2024-10-13T21:02:32.082Z"
   },
   {
    "duration": 269,
    "start_time": "2024-10-13T21:06:11.187Z"
   },
   {
    "duration": 288,
    "start_time": "2024-10-13T21:06:30.432Z"
   },
   {
    "duration": 18,
    "start_time": "2024-10-13T21:10:08.368Z"
   },
   {
    "duration": 11,
    "start_time": "2024-10-13T21:10:43.892Z"
   },
   {
    "duration": 307,
    "start_time": "2024-10-13T21:11:50.370Z"
   },
   {
    "duration": 3,
    "start_time": "2024-10-13T21:15:48.794Z"
   },
   {
    "duration": 4,
    "start_time": "2024-10-13T21:16:08.332Z"
   },
   {
    "duration": 11,
    "start_time": "2024-10-13T21:16:33.379Z"
   },
   {
    "duration": 284,
    "start_time": "2024-10-13T21:16:34.355Z"
   },
   {
    "duration": 10,
    "start_time": "2024-10-13T21:17:00.493Z"
   },
   {
    "duration": 258,
    "start_time": "2024-10-13T21:17:01.319Z"
   },
   {
    "duration": 10,
    "start_time": "2024-10-13T21:17:24.036Z"
   },
   {
    "duration": 324,
    "start_time": "2024-10-13T21:17:25.745Z"
   },
   {
    "duration": 4,
    "start_time": "2024-10-13T21:18:34.764Z"
   },
   {
    "duration": 4,
    "start_time": "2024-10-13T21:20:00.659Z"
   },
   {
    "duration": 247,
    "start_time": "2024-10-13T21:20:30.026Z"
   },
   {
    "duration": 3,
    "start_time": "2024-10-13T21:21:37.864Z"
   },
   {
    "duration": 290,
    "start_time": "2024-10-13T21:21:56.275Z"
   },
   {
    "duration": 15,
    "start_time": "2024-10-13T21:22:20.217Z"
   },
   {
    "duration": 292,
    "start_time": "2024-10-13T21:22:29.474Z"
   },
   {
    "duration": 23,
    "start_time": "2024-10-13T21:25:13.735Z"
   },
   {
    "duration": 14,
    "start_time": "2024-10-13T21:30:07.716Z"
   },
   {
    "duration": 7,
    "start_time": "2024-10-13T21:31:37.764Z"
   },
   {
    "duration": 13,
    "start_time": "2024-10-13T21:31:40.958Z"
   },
   {
    "duration": 352,
    "start_time": "2024-10-13T21:33:08.166Z"
   },
   {
    "duration": 966,
    "start_time": "2024-10-13T21:33:38.141Z"
   },
   {
    "duration": 295,
    "start_time": "2024-10-13T21:34:37.632Z"
   },
   {
    "duration": 15,
    "start_time": "2024-10-13T21:35:27.127Z"
   },
   {
    "duration": 3,
    "start_time": "2024-10-13T21:37:25.864Z"
   },
   {
    "duration": 287,
    "start_time": "2024-10-13T21:37:27.603Z"
   },
   {
    "duration": 4,
    "start_time": "2024-10-13T21:37:33.334Z"
   },
   {
    "duration": 298,
    "start_time": "2024-10-13T21:37:35.809Z"
   },
   {
    "duration": 4,
    "start_time": "2024-10-13T21:37:46.116Z"
   },
   {
    "duration": 232,
    "start_time": "2024-10-13T21:37:48.022Z"
   },
   {
    "duration": 3,
    "start_time": "2024-10-13T21:37:53.407Z"
   },
   {
    "duration": 8,
    "start_time": "2024-10-13T21:37:54.514Z"
   },
   {
    "duration": 11,
    "start_time": "2024-10-13T21:37:55.047Z"
   },
   {
    "duration": 297,
    "start_time": "2024-10-13T21:37:55.875Z"
   },
   {
    "duration": 4,
    "start_time": "2024-10-13T21:38:01.282Z"
   },
   {
    "duration": 273,
    "start_time": "2024-10-13T21:38:02.383Z"
   },
   {
    "duration": 263,
    "start_time": "2024-10-13T21:38:06.936Z"
   },
   {
    "duration": 331,
    "start_time": "2024-10-13T21:38:10.155Z"
   },
   {
    "duration": 322,
    "start_time": "2024-10-13T21:38:13.883Z"
   },
   {
    "duration": 3,
    "start_time": "2024-10-13T21:39:41.174Z"
   },
   {
    "duration": 16,
    "start_time": "2024-10-13T21:45:17.024Z"
   },
   {
    "duration": 13,
    "start_time": "2024-10-13T21:45:34.704Z"
   },
   {
    "duration": 308,
    "start_time": "2024-10-13T21:47:29.955Z"
   },
   {
    "duration": 294,
    "start_time": "2024-10-13T21:48:04.848Z"
   },
   {
    "duration": 309,
    "start_time": "2024-10-13T21:56:38.291Z"
   },
   {
    "duration": 273,
    "start_time": "2024-10-13T21:56:49.225Z"
   },
   {
    "duration": 16,
    "start_time": "2024-10-13T22:04:14.221Z"
   },
   {
    "duration": 309,
    "start_time": "2024-10-13T22:04:51.353Z"
   },
   {
    "duration": 17,
    "start_time": "2024-10-13T22:07:20.828Z"
   },
   {
    "duration": 366,
    "start_time": "2024-10-13T22:07:29.106Z"
   },
   {
    "duration": 13,
    "start_time": "2024-10-13T22:08:02.793Z"
   },
   {
    "duration": 305,
    "start_time": "2024-10-13T22:08:03.457Z"
   },
   {
    "duration": 287,
    "start_time": "2024-10-13T22:11:37.181Z"
   },
   {
    "duration": 284,
    "start_time": "2024-10-13T22:11:40.883Z"
   },
   {
    "duration": 300,
    "start_time": "2024-10-13T22:11:44.481Z"
   },
   {
    "duration": 288,
    "start_time": "2024-10-13T22:11:47.992Z"
   },
   {
    "duration": 238,
    "start_time": "2024-10-13T22:11:53.232Z"
   },
   {
    "duration": 272,
    "start_time": "2024-10-13T22:12:00.151Z"
   },
   {
    "duration": 94,
    "start_time": "2024-10-13T22:19:24.338Z"
   },
   {
    "duration": 16,
    "start_time": "2024-10-13T22:19:25.506Z"
   },
   {
    "duration": 16,
    "start_time": "2024-10-13T22:19:33.251Z"
   },
   {
    "duration": 11,
    "start_time": "2024-10-13T22:19:36.227Z"
   },
   {
    "duration": 24,
    "start_time": "2024-10-13T22:19:59.990Z"
   },
   {
    "duration": 1345,
    "start_time": "2024-10-14T04:07:07.601Z"
   },
   {
    "duration": 17,
    "start_time": "2024-10-14T04:07:08.948Z"
   },
   {
    "duration": 13,
    "start_time": "2024-10-14T04:07:08.966Z"
   },
   {
    "duration": 10,
    "start_time": "2024-10-14T04:07:08.981Z"
   },
   {
    "duration": 32,
    "start_time": "2024-10-14T04:07:08.992Z"
   },
   {
    "duration": 3,
    "start_time": "2024-10-14T04:07:09.033Z"
   },
   {
    "duration": 86,
    "start_time": "2024-10-14T04:07:09.038Z"
   },
   {
    "duration": 60,
    "start_time": "2024-10-14T04:07:09.125Z"
   },
   {
    "duration": 24,
    "start_time": "2024-10-14T04:07:09.186Z"
   },
   {
    "duration": 4,
    "start_time": "2024-10-14T04:07:09.212Z"
   },
   {
    "duration": 27,
    "start_time": "2024-10-14T04:07:09.217Z"
   },
   {
    "duration": 8,
    "start_time": "2024-10-14T04:07:09.245Z"
   },
   {
    "duration": 7,
    "start_time": "2024-10-14T04:07:09.254Z"
   },
   {
    "duration": 18,
    "start_time": "2024-10-14T04:07:09.262Z"
   },
   {
    "duration": 18,
    "start_time": "2024-10-14T04:07:09.281Z"
   },
   {
    "duration": 15,
    "start_time": "2024-10-14T04:07:09.300Z"
   },
   {
    "duration": 3,
    "start_time": "2024-10-14T04:07:09.317Z"
   },
   {
    "duration": 9,
    "start_time": "2024-10-14T04:07:09.322Z"
   },
   {
    "duration": 25,
    "start_time": "2024-10-14T04:07:09.332Z"
   },
   {
    "duration": 3,
    "start_time": "2024-10-14T04:07:09.359Z"
   },
   {
    "duration": 11,
    "start_time": "2024-10-14T04:07:09.364Z"
   },
   {
    "duration": 3,
    "start_time": "2024-10-14T04:07:09.376Z"
   },
   {
    "duration": 3,
    "start_time": "2024-10-14T04:07:09.381Z"
   },
   {
    "duration": 7,
    "start_time": "2024-10-14T04:07:09.385Z"
   },
   {
    "duration": 10,
    "start_time": "2024-10-14T04:07:09.394Z"
   },
   {
    "duration": 325,
    "start_time": "2024-10-14T04:07:09.405Z"
   },
   {
    "duration": 9,
    "start_time": "2024-10-14T04:07:09.732Z"
   },
   {
    "duration": 7,
    "start_time": "2024-10-14T04:07:09.758Z"
   },
   {
    "duration": 250,
    "start_time": "2024-10-14T04:07:09.766Z"
   },
   {
    "duration": 9,
    "start_time": "2024-10-14T04:07:10.017Z"
   },
   {
    "duration": 281,
    "start_time": "2024-10-14T04:07:10.027Z"
   },
   {
    "duration": 10,
    "start_time": "2024-10-14T04:07:10.310Z"
   },
   {
    "duration": 289,
    "start_time": "2024-10-14T04:07:10.322Z"
   },
   {
    "duration": 11,
    "start_time": "2024-10-14T04:07:10.612Z"
   },
   {
    "duration": 270,
    "start_time": "2024-10-14T04:07:10.624Z"
   },
   {
    "duration": 10,
    "start_time": "2024-10-14T04:07:10.896Z"
   },
   {
    "duration": 265,
    "start_time": "2024-10-14T04:07:10.907Z"
   },
   {
    "duration": 65,
    "start_time": "2024-10-14T07:37:20.835Z"
   },
   {
    "duration": 1528,
    "start_time": "2024-10-14T07:37:33.595Z"
   },
   {
    "duration": 19,
    "start_time": "2024-10-14T07:37:35.125Z"
   },
   {
    "duration": 68,
    "start_time": "2024-10-14T07:37:35.145Z"
   },
   {
    "duration": 26,
    "start_time": "2024-10-14T07:37:35.215Z"
   },
   {
    "duration": 49,
    "start_time": "2024-10-14T07:37:35.242Z"
   },
   {
    "duration": 3,
    "start_time": "2024-10-14T07:37:35.736Z"
   },
   {
    "duration": 7,
    "start_time": "2024-10-14T07:37:36.181Z"
   },
   {
    "duration": 5,
    "start_time": "2024-10-14T07:37:36.827Z"
   },
   {
    "duration": 9,
    "start_time": "2024-10-14T07:37:37.288Z"
   },
   {
    "duration": 4,
    "start_time": "2024-10-14T07:37:37.748Z"
   },
   {
    "duration": 35,
    "start_time": "2024-10-14T07:37:38.534Z"
   },
   {
    "duration": 16,
    "start_time": "2024-10-14T07:37:38.938Z"
   },
   {
    "duration": 4,
    "start_time": "2024-10-14T07:37:39.560Z"
   },
   {
    "duration": 19,
    "start_time": "2024-10-14T07:37:40.164Z"
   },
   {
    "duration": 21,
    "start_time": "2024-10-14T07:37:40.648Z"
   },
   {
    "duration": 18,
    "start_time": "2024-10-14T07:37:40.889Z"
   },
   {
    "duration": 3,
    "start_time": "2024-10-14T07:37:41.547Z"
   },
   {
    "duration": 11,
    "start_time": "2024-10-14T07:37:41.730Z"
   },
   {
    "duration": 6,
    "start_time": "2024-10-14T07:37:42.398Z"
   },
   {
    "duration": 3,
    "start_time": "2024-10-14T07:37:42.876Z"
   },
   {
    "duration": 9,
    "start_time": "2024-10-14T07:37:43.199Z"
   },
   {
    "duration": 4,
    "start_time": "2024-10-14T07:37:44.369Z"
   },
   {
    "duration": 4,
    "start_time": "2024-10-14T07:37:46.213Z"
   },
   {
    "duration": 8,
    "start_time": "2024-10-14T07:37:46.923Z"
   },
   {
    "duration": 68,
    "start_time": "2024-10-14T07:37:47.583Z"
   },
   {
    "duration": 4,
    "start_time": "2024-10-14T07:37:57.479Z"
   },
   {
    "duration": 3,
    "start_time": "2024-10-14T07:37:58.399Z"
   },
   {
    "duration": 7,
    "start_time": "2024-10-14T07:37:59.014Z"
   },
   {
    "duration": 16,
    "start_time": "2024-10-14T07:37:59.528Z"
   },
   {
    "duration": 15,
    "start_time": "2024-10-14T07:38:06.724Z"
   },
   {
    "duration": 4,
    "start_time": "2024-10-14T07:38:21.716Z"
   },
   {
    "duration": 4,
    "start_time": "2024-10-14T07:38:22.574Z"
   },
   {
    "duration": 7,
    "start_time": "2024-10-14T07:38:23.263Z"
   },
   {
    "duration": 21,
    "start_time": "2024-10-14T07:38:23.682Z"
   },
   {
    "duration": 324,
    "start_time": "2024-10-14T07:38:24.421Z"
   },
   {
    "duration": 11,
    "start_time": "2024-10-14T07:38:27.665Z"
   },
   {
    "duration": 15,
    "start_time": "2024-10-14T07:38:27.882Z"
   },
   {
    "duration": 255,
    "start_time": "2024-10-14T07:38:28.068Z"
   },
   {
    "duration": 14,
    "start_time": "2024-10-14T07:38:29.189Z"
   },
   {
    "duration": 298,
    "start_time": "2024-10-14T07:38:29.926Z"
   },
   {
    "duration": 17,
    "start_time": "2024-10-14T07:38:31.577Z"
   },
   {
    "duration": 305,
    "start_time": "2024-10-14T07:38:36.775Z"
   },
   {
    "duration": 17,
    "start_time": "2024-10-14T07:38:49.654Z"
   },
   {
    "duration": 309,
    "start_time": "2024-10-14T07:38:49.692Z"
   },
   {
    "duration": 19,
    "start_time": "2024-10-14T07:41:47.368Z"
   },
   {
    "duration": 353,
    "start_time": "2024-10-14T07:41:50.899Z"
   },
   {
    "duration": 7,
    "start_time": "2024-10-14T07:44:59.559Z"
   },
   {
    "duration": 22,
    "start_time": "2024-10-14T07:45:00.164Z"
   },
   {
    "duration": 318,
    "start_time": "2024-10-14T07:45:10.206Z"
   },
   {
    "duration": 54,
    "start_time": "2024-10-14T07:54:22.839Z"
   },
   {
    "duration": 86,
    "start_time": "2024-10-14T07:54:58.356Z"
   },
   {
    "duration": 61,
    "start_time": "2024-10-14T07:55:06.215Z"
   },
   {
    "duration": 11,
    "start_time": "2024-10-14T07:55:08.705Z"
   },
   {
    "duration": 9,
    "start_time": "2024-10-14T07:55:12.269Z"
   },
   {
    "duration": 31,
    "start_time": "2024-10-14T07:55:14.648Z"
   },
   {
    "duration": 19,
    "start_time": "2024-10-14T07:55:44.429Z"
   },
   {
    "duration": 32,
    "start_time": "2024-10-14T07:55:59.367Z"
   },
   {
    "duration": 25,
    "start_time": "2024-10-14T07:57:30.748Z"
   },
   {
    "duration": 30,
    "start_time": "2024-10-14T07:57:33.500Z"
   },
   {
    "duration": 32,
    "start_time": "2024-10-14T07:58:00.296Z"
   },
   {
    "duration": 65,
    "start_time": "2024-10-14T07:59:29.576Z"
   },
   {
    "duration": 303,
    "start_time": "2024-10-14T08:09:24.167Z"
   },
   {
    "duration": 314,
    "start_time": "2024-10-14T08:15:35.379Z"
   },
   {
    "duration": 13,
    "start_time": "2024-10-14T08:57:29.221Z"
   },
   {
    "duration": 24,
    "start_time": "2024-10-14T08:57:32.198Z"
   },
   {
    "duration": 11,
    "start_time": "2024-10-14T08:57:58.687Z"
   },
   {
    "duration": 8,
    "start_time": "2024-10-14T08:58:06.307Z"
   },
   {
    "duration": 7,
    "start_time": "2024-10-14T08:58:30.061Z"
   },
   {
    "duration": 26,
    "start_time": "2024-10-14T08:58:54.981Z"
   },
   {
    "duration": 13,
    "start_time": "2024-10-14T09:00:13.410Z"
   },
   {
    "duration": 13,
    "start_time": "2024-10-14T09:00:35.058Z"
   },
   {
    "duration": 17,
    "start_time": "2024-10-14T09:01:26.321Z"
   },
   {
    "duration": 110,
    "start_time": "2024-10-14T09:01:50.827Z"
   },
   {
    "duration": 14,
    "start_time": "2024-10-14T09:03:34.344Z"
   },
   {
    "duration": 20,
    "start_time": "2024-10-14T09:03:44.423Z"
   },
   {
    "duration": 21,
    "start_time": "2024-10-14T09:03:53.615Z"
   },
   {
    "duration": 23,
    "start_time": "2024-10-14T09:04:16.417Z"
   },
   {
    "duration": 24,
    "start_time": "2024-10-14T09:04:22.314Z"
   },
   {
    "duration": 19,
    "start_time": "2024-10-14T09:05:11.900Z"
   },
   {
    "duration": 24,
    "start_time": "2024-10-14T09:05:18.694Z"
   },
   {
    "duration": 1165,
    "start_time": "2024-10-14T09:05:32.494Z"
   },
   {
    "duration": 28,
    "start_time": "2024-10-14T09:05:46.687Z"
   },
   {
    "duration": 65,
    "start_time": "2024-10-14T09:06:56.191Z"
   },
   {
    "duration": 9,
    "start_time": "2024-10-14T09:06:59.574Z"
   },
   {
    "duration": 8,
    "start_time": "2024-10-14T09:07:06.195Z"
   },
   {
    "duration": 15,
    "start_time": "2024-10-14T09:07:17.007Z"
   },
   {
    "duration": 7,
    "start_time": "2024-10-14T09:10:24.982Z"
   },
   {
    "duration": 9,
    "start_time": "2024-10-14T09:10:31.466Z"
   },
   {
    "duration": 8,
    "start_time": "2024-10-14T09:10:39.701Z"
   },
   {
    "duration": 9,
    "start_time": "2024-10-14T09:11:12.183Z"
   },
   {
    "duration": 17,
    "start_time": "2024-10-14T09:11:15.858Z"
   },
   {
    "duration": 28,
    "start_time": "2024-10-14T09:11:28.137Z"
   },
   {
    "duration": 26,
    "start_time": "2024-10-14T09:12:13.974Z"
   },
   {
    "duration": 48,
    "start_time": "2024-10-14T09:14:49.119Z"
   },
   {
    "duration": 20,
    "start_time": "2024-10-14T09:15:31.385Z"
   },
   {
    "duration": 27,
    "start_time": "2024-10-14T09:15:35.807Z"
   },
   {
    "duration": 21,
    "start_time": "2024-10-14T09:15:55.510Z"
   },
   {
    "duration": 18,
    "start_time": "2024-10-14T09:15:56.759Z"
   },
   {
    "duration": 18,
    "start_time": "2024-10-14T09:16:22.507Z"
   },
   {
    "duration": 17,
    "start_time": "2024-10-14T09:16:22.932Z"
   },
   {
    "duration": 33,
    "start_time": "2024-10-14T09:17:43.239Z"
   },
   {
    "duration": 30,
    "start_time": "2024-10-14T09:17:45.355Z"
   },
   {
    "duration": 19,
    "start_time": "2024-10-14T09:21:05.501Z"
   },
   {
    "duration": 19,
    "start_time": "2024-10-14T09:21:08.210Z"
   },
   {
    "duration": 34,
    "start_time": "2024-10-14T09:25:33.498Z"
   },
   {
    "duration": 23,
    "start_time": "2024-10-14T09:43:50.682Z"
   },
   {
    "duration": 36,
    "start_time": "2024-10-14T09:43:58.006Z"
   },
   {
    "duration": 47,
    "start_time": "2024-10-14T09:44:07.658Z"
   },
   {
    "duration": 43,
    "start_time": "2024-10-14T09:44:13.324Z"
   },
   {
    "duration": 34,
    "start_time": "2024-10-14T10:16:35.381Z"
   },
   {
    "duration": 32,
    "start_time": "2024-10-14T10:17:20.415Z"
   },
   {
    "duration": 32,
    "start_time": "2024-10-14T10:18:23.192Z"
   },
   {
    "duration": 35,
    "start_time": "2024-10-14T10:19:06.008Z"
   },
   {
    "duration": 41,
    "start_time": "2024-10-14T10:19:16.441Z"
   },
   {
    "duration": 36,
    "start_time": "2024-10-14T10:24:01.265Z"
   },
   {
    "duration": 30,
    "start_time": "2024-10-14T10:24:10.771Z"
   },
   {
    "duration": 34,
    "start_time": "2024-10-14T10:24:15.854Z"
   },
   {
    "duration": 42,
    "start_time": "2024-10-14T10:24:34.256Z"
   },
   {
    "duration": 40,
    "start_time": "2024-10-14T10:24:50.757Z"
   },
   {
    "duration": 34,
    "start_time": "2024-10-14T10:25:01.668Z"
   },
   {
    "duration": 25,
    "start_time": "2024-10-14T10:25:14.538Z"
   },
   {
    "duration": 36,
    "start_time": "2024-10-14T10:25:26.555Z"
   },
   {
    "duration": 78,
    "start_time": "2024-10-14T10:26:49.363Z"
   },
   {
    "duration": 39,
    "start_time": "2024-10-14T10:27:01.314Z"
   }
  ],
  "colab": {
   "name": "dpp_template_part2.ipynb",
   "provenance": []
  },
  "kernelspec": {
   "display_name": "Python 3 (ipykernel)",
   "language": "python",
   "name": "python3"
  },
  "language_info": {
   "codemirror_mode": {
    "name": "ipython",
    "version": 3
   },
   "file_extension": ".py",
   "mimetype": "text/x-python",
   "name": "python",
   "nbconvert_exporter": "python",
   "pygments_lexer": "ipython3",
   "version": "3.9.5"
  },
  "toc": {
   "base_numbering": 1,
   "nav_menu": {},
   "number_sections": true,
   "sideBar": true,
   "skip_h1_title": true,
   "title_cell": "Table of Contents",
   "title_sidebar": "Contents",
   "toc_cell": false,
   "toc_position": {},
   "toc_section_display": true,
   "toc_window_display": false
  }
 },
 "nbformat": 4,
 "nbformat_minor": 5
}
