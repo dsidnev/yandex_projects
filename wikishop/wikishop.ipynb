{
 "cells": [
  {
   "cell_type": "markdown",
   "id": "8c33eb96-0bcb-4693-94dd-edef439f18c9",
   "metadata": {},
   "source": [
    "# **Интернет-магазин «Викишоп»**\n",
    "\n",
    "Интернет-магазин «Викишоп» запускает новый сервис. Теперь пользователи могут редактировать и дополнять описания товаров, как в вики-сообществах. То есть клиенты предлагают свои правки и комментируют изменения других. Магазину нужен инструмент, который будет искать токсичные комментарии и отправлять их на модерацию. \n",
    "\n",
    "Обучите модель классифицировать комментарии на позитивные и негативные. \n",
    "\n",
    "В вашем распоряжении набор данных с разметкой о токсичности правок.\n",
    "\n",
    "Постройте модель со значением метрики качества F1 не меньше 0.75. "
   ]
  },
  {
   "cell_type": "code",
   "execution_count": null,
   "id": "f9f852d2-6515-478c-8fb6-53f60b69b3db",
   "metadata": {},
   "outputs": [],
   "source": [
    "!pip install pandarallel -q\n",
    "!pip install -U spacy  -q"
   ]
  },
  {
   "cell_type": "code",
   "execution_count": null,
   "id": "e981c26c-9b42-4e88-b348-02f61c6f89de",
   "metadata": {},
   "outputs": [],
   "source": [
    "!python -m spacy download en_core_web_sm -q"
   ]
  },
  {
   "cell_type": "code",
   "execution_count": null,
   "id": "85a21222-e6d1-42a2-89bb-45fc20d625ed",
   "metadata": {},
   "outputs": [],
   "source": [
    "import numpy as np\n",
    "import pandas as pd\n",
    "import matplotlib.pyplot as plt\n",
    "import seaborn as sns\n",
    "\n",
    "from scipy.stats import mode\n",
    "\n",
    "import re\n",
    "\n",
    "from tqdm import trange\n",
    "from tqdm.auto import tqdm\n",
    "\n",
    "# import nltk\n",
    "# from nltk import tokenize\n",
    "# from nltk.corpus import stopwords\n",
    "# from nltk.stem import WordNetLemmatizer\n",
    "# from nltk.probability import FreqDist\n",
    "\n",
    "import spacy\n",
    "from spacy.lang.en import stop_words\n",
    "\n",
    "\n",
    "from collections import Counter\n",
    "\n",
    "from sklearn.feature_extraction.text import CountVectorizer, TfidfVectorizer\n",
    "from sklearn.linear_model import LogisticRegression\n",
    "from sklearn.model_selection import train_test_split, cross_val_score, RandomizedSearchCV\n",
    "from sklearn.metrics import f1_score, roc_curve, roc_auc_score\n",
    "from sklearn.tree import DecisionTreeClassifier\n",
    "from sklearn.pipeline import Pipeline\n",
    "\n",
    "from lightgbm import LGBMClassifier\n",
    "\n",
    "from pandarallel import pandarallel\n",
    "\n",
    "import warnings\n",
    "warnings.filterwarnings(\"ignore\")"
   ]
  },
  {
   "cell_type": "code",
   "execution_count": 19,
   "id": "a328b786-96c5-4f8d-8ae2-833e4cf57e28",
   "metadata": {},
   "outputs": [],
   "source": [
    "def plot_graphics(df, \n",
    "                  column_name, \n",
    "                  test_df=None, \n",
    "                  bins=30, \n",
    "                  range_hist=None, \n",
    "                  hist_color='#519872', \n",
    "                  boxplot_color='#B9D2D2', \n",
    "                  col_alias='', \n",
    "                  xlabel='', \n",
    "                  ylabel='', \n",
    "                  figsize=(10, 10)):\n",
    "    \n",
    "    if test_df is not None:\n",
    "        fig, ax = plt.subplots(2, 2, figsize=figsize)\n",
    "        ax = ax.flatten()\n",
    "    \n",
    "        ax1 = sns.histplot(data=df, x=column_name, ax=ax[0], bins=bins, binrange=range_hist, color=hist_color)\n",
    "        ax1.set_title(f'[Train] Гистограмма столбца {col_alias if len(col_alias) > 0 else column_name}')\n",
    "    \n",
    "        ax2 = sns.boxplot(data=df, x=column_name, ax=ax[1], color=boxplot_color)\n",
    "        ax2.set_title(f'[Train] Коробчатая диаграмма столбца {col_alias if len(col_alias) > 0 else column_name}')\n",
    "\n",
    "    \n",
    "        ax1.set_xlabel(xlabel if len(xlabel) > 0 else 'Значения')\n",
    "        ax1.set_ylabel(ylabel if len(ylabel) > 0 else 'Количество')\n",
    "        ax2.set_xlabel(xlabel if len(xlabel) > 0 else 'Значения')\n",
    "        \n",
    "        ax1 = sns.histplot(data=test_df, x=column_name, ax=ax[2], bins=bins, binrange=range_hist, color=hist_color)\n",
    "        ax1.set_title(f'[Test] Гистограмма столбца {col_alias if len(col_alias) > 0 else column_name}')\n",
    "    \n",
    "        ax2 = sns.boxplot(data=test_df, x=column_name, ax=ax[3], color=boxplot_color)\n",
    "        ax2.set_title(f'[Test] Коробчатая диаграмма столбца {col_alias if len(col_alias) > 0 else column_name}')\n",
    "\n",
    "    \n",
    "        ax1.set_xlabel(xlabel if len(xlabel) > 0 else 'Значения')\n",
    "        ax1.set_ylabel(ylabel if len(ylabel) > 0 else 'Количество')\n",
    "        ax2.set_xlabel(xlabel if len(xlabel) > 0 else 'Значения')\n",
    "        return \n",
    "\n",
    "        \n",
    "    fig, ax = plt.subplots(1, 2, figsize=figsize)\n",
    "    \n",
    "    ax1 = sns.histplot(data=df, x=column_name, ax=ax[0], bins=bins, binrange=range_hist, color=hist_color)\n",
    "    ax1.set_title(f'Гистограмма столбца {col_alias if len(col_alias) > 0 else column_name}')\n",
    "    \n",
    "    ax2 = sns.boxplot(data=df, x=column_name, ax=ax[1], color=boxplot_color)\n",
    "    ax2.set_title(f'Коробчатая диаграмма столбца {col_alias if len(col_alias) > 0 else column_name}')\n",
    "\n",
    "    \n",
    "    ax1.set_xlabel(xlabel if len(xlabel) > 0 else 'Значения')\n",
    "    ax1.set_ylabel(ylabel if len(ylabel) > 0 else 'Количество')\n",
    "    ax2.set_xlabel(xlabel if len(xlabel) > 0 else 'Значения') "
   ]
  },
  {
   "cell_type": "code",
   "execution_count": 20,
   "id": "aa6bf880-e57d-4dcf-8c3e-2228139e3b29",
   "metadata": {},
   "outputs": [],
   "source": [
    "sns.set_style('darkgrid')\n",
    "\n",
    "TEST_SIZE = .25\n",
    "RANDOM_STATE = 42\n",
    "\n",
    "# nltk.download('stopwords')\n",
    "# nltk.download('wordnet')\n",
    "# nltk.download('omw-1.4')\n",
    "# nltk.download('punkt')\n",
    "# nltk.download('averaged_perceptron_tagger')\n",
    "# nltk.download('punkt_tab')\n",
    "\n",
    "nlp = spacy.load(\"en_core_web_sm\")\n",
    "stop_words = stop_words.STOP_WORDS\n",
    "\n",
    "# lemmatizer = WordNetLemmatizer()"
   ]
  },
  {
   "cell_type": "markdown",
   "id": "58ea1680-9202-4dbb-9d2a-6dcfb5688b19",
   "metadata": {},
   "source": [
    "# Загрузка данных"
   ]
  },
  {
   "cell_type": "code",
   "execution_count": null,
   "id": "aedd478f-4eba-47a5-91f8-668eb96125e3",
   "metadata": {},
   "outputs": [],
   "source": [
    "try:\n",
    "    df = pd.read_csv('/datasets/toxic_comments.csv', index_col=[0])\n",
    "except:\n",
    "    df = pd.read_csv('path', index_col=[0])"
   ]
  },
  {
   "cell_type": "code",
   "execution_count": 22,
   "id": "203208fa-0fa6-4bae-a7ae-18fc9482e537",
   "metadata": {},
   "outputs": [
    {
     "data": {
      "text/html": [
       "<div>\n",
       "<style scoped>\n",
       "    .dataframe tbody tr th:only-of-type {\n",
       "        vertical-align: middle;\n",
       "    }\n",
       "\n",
       "    .dataframe tbody tr th {\n",
       "        vertical-align: top;\n",
       "    }\n",
       "\n",
       "    .dataframe thead th {\n",
       "        text-align: right;\n",
       "    }\n",
       "</style>\n",
       "<table border=\"1\" class=\"dataframe\">\n",
       "  <thead>\n",
       "    <tr style=\"text-align: right;\">\n",
       "      <th></th>\n",
       "      <th>text</th>\n",
       "      <th>toxic</th>\n",
       "    </tr>\n",
       "  </thead>\n",
       "  <tbody>\n",
       "    <tr>\n",
       "      <th>0</th>\n",
       "      <td>Explanation\\nWhy the edits made under my usern...</td>\n",
       "      <td>0</td>\n",
       "    </tr>\n",
       "    <tr>\n",
       "      <th>1</th>\n",
       "      <td>D'aww! He matches this background colour I'm s...</td>\n",
       "      <td>0</td>\n",
       "    </tr>\n",
       "    <tr>\n",
       "      <th>2</th>\n",
       "      <td>Hey man, I'm really not trying to edit war. It...</td>\n",
       "      <td>0</td>\n",
       "    </tr>\n",
       "    <tr>\n",
       "      <th>3</th>\n",
       "      <td>\"\\nMore\\nI can't make any real suggestions on ...</td>\n",
       "      <td>0</td>\n",
       "    </tr>\n",
       "    <tr>\n",
       "      <th>4</th>\n",
       "      <td>You, sir, are my hero. Any chance you remember...</td>\n",
       "      <td>0</td>\n",
       "    </tr>\n",
       "  </tbody>\n",
       "</table>\n",
       "</div>"
      ],
      "text/plain": [
       "                                                text  toxic\n",
       "0  Explanation\\nWhy the edits made under my usern...      0\n",
       "1  D'aww! He matches this background colour I'm s...      0\n",
       "2  Hey man, I'm really not trying to edit war. It...      0\n",
       "3  \"\\nMore\\nI can't make any real suggestions on ...      0\n",
       "4  You, sir, are my hero. Any chance you remember...      0"
      ]
     },
     "execution_count": 22,
     "metadata": {},
     "output_type": "execute_result"
    }
   ],
   "source": [
    "df.head()"
   ]
  },
  {
   "cell_type": "code",
   "execution_count": 23,
   "id": "da678bb4-a949-49d4-889a-a8d0a0ba2943",
   "metadata": {},
   "outputs": [
    {
     "name": "stdout",
     "output_type": "stream",
     "text": [
      "<class 'pandas.core.frame.DataFrame'>\n",
      "Index: 159292 entries, 0 to 159450\n",
      "Data columns (total 2 columns):\n",
      " #   Column  Non-Null Count   Dtype \n",
      "---  ------  --------------   ----- \n",
      " 0   text    159292 non-null  object\n",
      " 1   toxic   159292 non-null  int64 \n",
      "dtypes: int64(1), object(1)\n",
      "memory usage: 3.6+ MB\n"
     ]
    }
   ],
   "source": [
    "df.info()"
   ]
  },
  {
   "cell_type": "code",
   "execution_count": 24,
   "id": "8a8ba7f4-d9ff-4c07-8dae-237f9f0fd0b4",
   "metadata": {},
   "outputs": [
    {
     "data": {
      "text/plain": [
       "text     0\n",
       "toxic    0\n",
       "dtype: int64"
      ]
     },
     "execution_count": 24,
     "metadata": {},
     "output_type": "execute_result"
    }
   ],
   "source": [
    "df.isna().sum()"
   ]
  },
  {
   "cell_type": "code",
   "execution_count": 25,
   "id": "341ae28d-88f4-49c0-aa20-ce6881d2d3ab",
   "metadata": {},
   "outputs": [
    {
     "data": {
      "text/plain": [
       "np.int64(0)"
      ]
     },
     "execution_count": 25,
     "metadata": {},
     "output_type": "execute_result"
    }
   ],
   "source": [
    "df.duplicated().sum()"
   ]
  },
  {
   "cell_type": "markdown",
   "id": "7705b78e-1793-46f7-bdfa-dd950592bc0b",
   "metadata": {},
   "source": [
    "# Исследовательский анализ"
   ]
  },
  {
   "cell_type": "markdown",
   "id": "7c434b3e-c3cf-4301-9607-6bcec8093a3d",
   "metadata": {},
   "source": [
    "## Таргет"
   ]
  },
  {
   "cell_type": "code",
   "execution_count": 26,
   "id": "9605d16a-200a-4d4b-a616-6e204d638851",
   "metadata": {},
   "outputs": [
    {
     "data": {
      "image/png": "[encoded data removed]",
      "text/plain": [
       "<Figure size 360x360 with 1 Axes>"
      ]
     },
     "metadata": {},
     "output_type": "display_data"
    }
   ],
   "source": [
    "(df\n",
    " .toxic\n",
    " .replace(\n",
    "     {\n",
    "         0: 'нет', \n",
    "         1: 'токсичный'\n",
    "     })\n",
    " .value_counts()\n",
    " .plot(\n",
    "       figsize=(5, 5),\n",
    "       title='Распределение таргета', \n",
    "       kind='pie', \n",
    "       colormap='Pastel2',\n",
    "       fontsize=15,\n",
    "       autopct = \"%.0f%%\"));"
   ]
  },
  {
   "cell_type": "markdown",
   "id": "dac74629-29f2-435c-8733-adf324a09dc5",
   "metadata": {},
   "source": [
    "- К сожалению, виден сильный дисбаланс классов. \n",
    "\n",
    "Будем решать эту проблему с помощью специального параметра class_weight в моделях"
   ]
  },
  {
   "cell_type": "markdown",
   "id": "e69e8197-4867-4f7d-baa0-e5393fcb9ad3",
   "metadata": {},
   "source": [
    "## Исследование длины комментов"
   ]
  },
  {
   "cell_type": "code",
   "execution_count": 27,
   "id": "1d5b7082-9170-4f83-b2dd-e385f527a324",
   "metadata": {},
   "outputs": [],
   "source": [
    "df['length'] = df['text'].str.len()"
   ]
  },
  {
   "cell_type": "code",
   "execution_count": 28,
   "id": "5c92b95b-fe90-4529-8d4f-0407a871718e",
   "metadata": {},
   "outputs": [
    {
     "data": {
      "image/png": "[encoded data removed]",
      "text/plain": [
       "<Figure size 1440x360 with 2 Axes>"
      ]
     },
     "metadata": {
      "needs_background": "light"
     },
     "output_type": "display_data"
    }
   ],
   "source": [
    "plot_graphics(df, 'length', figsize=(20, 5))"
   ]
  },
  {
   "cell_type": "markdown",
   "id": "5849bf0d-f52b-497d-97d3-0099faa1148c",
   "metadata": {},
   "source": [
    "- Видим, что подавляющее большинство комментов имеют длину не больше 2500 символов\n",
    "- Однако есть тяжелый хвост справа вплоть до 5000 символов"
   ]
  },
  {
   "cell_type": "code",
   "execution_count": 29,
   "id": "467a8cd0-3399-40fd-ae0c-bcb770653b4c",
   "metadata": {},
   "outputs": [
    {
     "data": {
      "text/html": [
       "<div>\n",
       "<style scoped>\n",
       "    .dataframe tbody tr th:only-of-type {\n",
       "        vertical-align: middle;\n",
       "    }\n",
       "\n",
       "    .dataframe tbody tr th {\n",
       "        vertical-align: top;\n",
       "    }\n",
       "\n",
       "    .dataframe thead th {\n",
       "        text-align: right;\n",
       "    }\n",
       "</style>\n",
       "<table border=\"1\" class=\"dataframe\">\n",
       "  <thead>\n",
       "    <tr style=\"text-align: right;\">\n",
       "      <th></th>\n",
       "      <th>2.5% процентиль</th>\n",
       "      <th>97.5% процентиль</th>\n",
       "      <th>Медианная длина твитов</th>\n",
       "    </tr>\n",
       "    <tr>\n",
       "      <th>toxic</th>\n",
       "      <th></th>\n",
       "      <th></th>\n",
       "      <th></th>\n",
       "    </tr>\n",
       "  </thead>\n",
       "  <tbody>\n",
       "    <tr>\n",
       "      <th>0</th>\n",
       "      <td>27.0</td>\n",
       "      <td>2030.000</td>\n",
       "      <td>216.0</td>\n",
       "    </tr>\n",
       "    <tr>\n",
       "      <th>1</th>\n",
       "      <td>23.0</td>\n",
       "      <td>1787.125</td>\n",
       "      <td>128.0</td>\n",
       "    </tr>\n",
       "  </tbody>\n",
       "</table>\n",
       "</div>"
      ],
      "text/plain": [
       "       2.5% процентиль  97.5% процентиль  Медианная длина твитов\n",
       "toxic                                                           \n",
       "0                 27.0          2030.000                   216.0\n",
       "1                 23.0          1787.125                   128.0"
      ]
     },
     "execution_count": 29,
     "metadata": {},
     "output_type": "execute_result"
    }
   ],
   "source": [
    "df.pivot_table(\n",
    "    index='toxic',           \n",
    "    values='length',\n",
    "    aggfunc={\n",
    "        'length': [('2.5% процентиль', lambda x: np.quantile(x, 0.025)),\n",
    "                   ('97.5% процентиль', lambda x: np.quantile(x, 0.975)),\n",
    "                   ('Медианная длина твитов', 'median')\n",
    "                  ]\n",
    "    }\n",
    ")"
   ]
  },
  {
   "cell_type": "code",
   "execution_count": 30,
   "id": "190afecd-cbe9-4686-98f7-b32baa2b6c6c",
   "metadata": {},
   "outputs": [
    {
     "data": {
      "image/png": "[encoded data removed]",
      "text/plain": [
       "<Figure size 1440x360 with 1 Axes>"
      ]
     },
     "metadata": {
      "needs_background": "light"
     },
     "output_type": "display_data"
    }
   ],
   "source": [
    "fig, ax = plt.subplots(1, 1, figsize=(20, 5))\n",
    "\n",
    "g = sns.histplot(data=df, \n",
    "                 x='length', \n",
    "                 hue='toxic', \n",
    "                 ax=ax)\n",
    "\n",
    "ax.set_title('Гистограмма распределения длины комментов в зависимости от таргета', \n",
    "             fontdict={'fontsize': 14});"
   ]
  },
  {
   "cell_type": "code",
   "execution_count": 31,
   "id": "cb7c64f6-40c3-4161-894b-fe362a7d03b2",
   "metadata": {},
   "outputs": [
    {
     "data": {
      "image/png": "[encoded data removed]",
      "text/plain": [
       "<Figure size 1440x360 with 1 Axes>"
      ]
     },
     "metadata": {
      "needs_background": "light"
     },
     "output_type": "display_data"
    }
   ],
   "source": [
    "fig, ax = plt.subplots(1, 1, figsize=(20, 5))\n",
    "\n",
    "g = sns.histplot(data=df.query('20 < length < 2100'), \n",
    "                 x='length', \n",
    "                 hue='toxic', \n",
    "                 ax=ax)\n",
    "\n",
    "ax.set_title('Гистограмма распределения длины комментов в зависимости от таргета (95% интервал)', \n",
    "             fontdict={'fontsize': 14});"
   ]
  },
  {
   "cell_type": "markdown",
   "id": "ad39f163-b454-4da3-8def-d35c5cfa8f82",
   "metadata": {},
   "source": [
    "- Заметим, что основная часть токсичных комментов имеет длину не больше 500 символов\n",
    "- Нетоксичные комментарии же наоборот могут быть достаточно длинными, в основном вплоть до 1500 символов\n",
    "- Медианная длина нетоксичных комментов - 216 символов, токсичных - 128 символов"
   ]
  },
  {
   "cell_type": "markdown",
   "id": "2c315da2-a3c5-46f2-9b82-6a9efdce1c48",
   "metadata": {},
   "source": [
    "## Исследование количества слов в комментах"
   ]
  },
  {
   "cell_type": "code",
   "execution_count": 32,
   "id": "e7fd483a-00ce-415d-a12e-b409282160e1",
   "metadata": {},
   "outputs": [],
   "source": [
    "def word_count(comment):\n",
    "    comment_list = comment.split()\n",
    "    return len(comment_list)"
   ]
  },
  {
   "cell_type": "code",
   "execution_count": 33,
   "id": "26d23b28-7c97-45f9-ba12-8a577163e11c",
   "metadata": {},
   "outputs": [],
   "source": [
    "df['word_count'] = df['text'].apply(word_count)"
   ]
  },
  {
   "cell_type": "code",
   "execution_count": 34,
   "id": "cff646a2-657a-4365-9cee-05b926a8c1de",
   "metadata": {},
   "outputs": [
    {
     "data": {
      "image/png": "[encoded data removed]",
      "text/plain": [
       "<Figure size 1440x360 with 2 Axes>"
      ]
     },
     "metadata": {
      "needs_background": "light"
     },
     "output_type": "display_data"
    }
   ],
   "source": [
    "plot_graphics(df, 'word_count', figsize=(20, 5))"
   ]
  },
  {
   "cell_type": "code",
   "execution_count": 35,
   "id": "ef602351-03a5-4983-b05b-7b95bcf0d323",
   "metadata": {},
   "outputs": [
    {
     "data": {
      "text/html": [
       "<div>\n",
       "<style scoped>\n",
       "    .dataframe tbody tr th:only-of-type {\n",
       "        vertical-align: middle;\n",
       "    }\n",
       "\n",
       "    .dataframe tbody tr th {\n",
       "        vertical-align: top;\n",
       "    }\n",
       "\n",
       "    .dataframe thead th {\n",
       "        text-align: right;\n",
       "    }\n",
       "</style>\n",
       "<table border=\"1\" class=\"dataframe\">\n",
       "  <thead>\n",
       "    <tr style=\"text-align: right;\">\n",
       "      <th></th>\n",
       "      <th>5% процентиль</th>\n",
       "      <th>95% процентиль</th>\n",
       "      <th>Медианное количество слов в коментах</th>\n",
       "    </tr>\n",
       "    <tr>\n",
       "      <th>toxic</th>\n",
       "      <th></th>\n",
       "      <th></th>\n",
       "      <th></th>\n",
       "    </tr>\n",
       "  </thead>\n",
       "  <tbody>\n",
       "    <tr>\n",
       "      <th>0</th>\n",
       "      <td>6.0</td>\n",
       "      <td>235.0</td>\n",
       "      <td>37.0</td>\n",
       "    </tr>\n",
       "    <tr>\n",
       "      <th>1</th>\n",
       "      <td>5.0</td>\n",
       "      <td>176.0</td>\n",
       "      <td>23.0</td>\n",
       "    </tr>\n",
       "  </tbody>\n",
       "</table>\n",
       "</div>"
      ],
      "text/plain": [
       "       5% процентиль  95% процентиль  Медианное количество слов в коментах\n",
       "toxic                                                                     \n",
       "0                6.0           235.0                                  37.0\n",
       "1                5.0           176.0                                  23.0"
      ]
     },
     "execution_count": 35,
     "metadata": {},
     "output_type": "execute_result"
    }
   ],
   "source": [
    "df.pivot_table(\n",
    "    index='toxic',           \n",
    "    values='word_count',\n",
    "    aggfunc={\n",
    "        'word_count': [('5% процентиль', lambda x: np.quantile(x, 0.05)),\n",
    "                   ('95% процентиль', lambda x: np.quantile(x, 0.95)),\n",
    "                   ('Медианное количество слов в коментах', 'median')\n",
    "                  ]\n",
    "    }\n",
    ")"
   ]
  },
  {
   "cell_type": "code",
   "execution_count": 36,
   "id": "1651e4ab-19b3-43a8-87fc-382c8b4c4bb4",
   "metadata": {},
   "outputs": [
    {
     "data": {
      "image/png": "[encoded data removed]",
      "text/plain": [
       "<Figure size 1440x360 with 1 Axes>"
      ]
     },
     "metadata": {
      "needs_background": "light"
     },
     "output_type": "display_data"
    }
   ],
   "source": [
    "fig, ax = plt.subplots(1, 1, figsize=(20, 5))\n",
    "\n",
    "g = sns.histplot(data=df, \n",
    "                 x='word_count', \n",
    "                 hue='toxic', \n",
    "                 ax=ax)\n",
    "\n",
    "ax.set_title('Гистограмма распределения количества слов в коментах в зависимости от таргета', \n",
    "             fontdict={'fontsize': 14});"
   ]
  },
  {
   "cell_type": "code",
   "execution_count": 37,
   "id": "cc5eaaa8-1139-4f2a-9741-35243d77f09b",
   "metadata": {},
   "outputs": [
    {
     "data": {
      "image/png": "[encoded data removed]",
      "text/plain": [
       "<Figure size 1440x360 with 1 Axes>"
      ]
     },
     "metadata": {
      "needs_background": "light"
     },
     "output_type": "display_data"
    }
   ],
   "source": [
    "fig, ax = plt.subplots(1, 1, figsize=(20, 5))\n",
    "\n",
    "g = sns.histplot(data=df.query('0 < word_count < 240'), \n",
    "                 x='word_count', \n",
    "                 hue='toxic', \n",
    "                 ax=ax)\n",
    "\n",
    "ax.set_title('Гистограмма распределения количества слов в твитах в зависимости от таргета (95% интервал)', \n",
    "             fontdict={'fontsize': 14});"
   ]
  },
  {
   "cell_type": "markdown",
   "id": "42a5669a-062f-4070-b0ff-2101e4b96ce3",
   "metadata": {},
   "source": [
    "- Заметим, что в основной части токсичных твитов не больше 100 слов\n",
    "- Нетоксичные комментарии же наоборот могут быть достаточно многословными, в основном вплоть до 240 слов\n",
    "- Медианное количество слов в нетоксичных твитах - 37 слов, в токсичных - 23 слова"
   ]
  },
  {
   "cell_type": "markdown",
   "id": "65b51c5f-5c8b-4d61-926f-fefe04b165cd",
   "metadata": {},
   "source": [
    "## Очищение текста и лемматизация"
   ]
  },
  {
   "cell_type": "code",
   "execution_count": 38,
   "id": "9a0d673c-a5fb-42bc-866e-5692e75d3efc",
   "metadata": {},
   "outputs": [],
   "source": [
    "def lemmatize_array(text):\n",
    "    text = text.lower()\n",
    "    text = re.sub(r\"[^\\w\\s']\", ' ', text)\n",
    "    doc = nlp(text)\n",
    "    lemmas = [token.lemma_ for token in doc if not token.is_stop and not token.is_punct and token.is_alpha]\n",
    "    return lemmas"
   ]
  },
  {
   "cell_type": "code",
   "execution_count": 39,
   "id": "9e35b35c-df4a-47e7-9049-c74975bda590",
   "metadata": {},
   "outputs": [
    {
     "name": "stdout",
     "output_type": "stream",
     "text": [
      "source sentence: D'aww! He matches this background colour I'm seemingly stuck with. Thanks.  (talk) 21:51, January 11, 2016 (UTC),\n",
      "\n",
      "\n",
      "lemmatized: match background colour seemingly stuck thank talk january utc\n"
     ]
    }
   ],
   "source": [
    "example = df.loc[1, 'text']\n",
    "print(f'source sentence: {example},\\n\\n\\nlemmatized: {\" \".join(lemmatize_array(example))}' )"
   ]
  },
  {
   "cell_type": "code",
   "execution_count": 40,
   "id": "71ba98d8-7823-4a4d-8121-0276b6c22533",
   "metadata": {},
   "outputs": [
    {
     "name": "stdout",
     "output_type": "stream",
     "text": [
      "INFO: Pandarallel will run on 8 workers.\n",
      "INFO: Pandarallel will use standard multiprocessing data transfer (pipe) to transfer data between the main process and workers.\n"
     ]
    },
    {
     "data": {
      "application/vnd.jupyter.widget-view+json": {
       "model_id": "3b65d29efdb6425897cf9a19326367aa",
       "version_major": 2,
       "version_minor": 0
      },
      "text/plain": [
       "VBox(children=(HBox(children=(IntProgress(value=0, description='0.00%', max=19912), Label(value='0 / 19912')))…"
      ]
     },
     "metadata": {},
     "output_type": "display_data"
    }
   ],
   "source": [
    "pandarallel.initialize(progress_bar=True)\n",
    "\n",
    "df['lemmatized_array'] = df['text'].parallel_apply(lemmatize_array)"
   ]
  },
  {
   "cell_type": "code",
   "execution_count": 41,
   "id": "df5ca217-d88f-4eb5-9a44-88f7225346b9",
   "metadata": {},
   "outputs": [],
   "source": [
    "df['lemmatized_text'] = df['lemmatized_array'].str.join(' ')"
   ]
  },
  {
   "cell_type": "code",
   "execution_count": 42,
   "id": "087c3272-5d65-4814-b56b-00d7b3448334",
   "metadata": {},
   "outputs": [
    {
     "data": {
      "text/plain": [
       "text                0\n",
       "toxic               0\n",
       "length              0\n",
       "word_count          0\n",
       "lemmatized_array    0\n",
       "lemmatized_text     0\n",
       "dtype: int64"
      ]
     },
     "execution_count": 42,
     "metadata": {},
     "output_type": "execute_result"
    }
   ],
   "source": [
    "df.isna().sum()"
   ]
  },
  {
   "cell_type": "markdown",
   "id": "2509da63-e45f-4986-aedd-0e840871ab4e",
   "metadata": {},
   "source": [
    "Для построения биграмм необходимо избавиться от пропусков, их очень мало, поэтому просто удалим их"
   ]
  },
  {
   "cell_type": "code",
   "execution_count": 43,
   "id": "cfb28fa9-cfe4-4c6d-adfb-b56c47a3ebbf",
   "metadata": {},
   "outputs": [],
   "source": [
    "df = df.dropna()"
   ]
  },
  {
   "cell_type": "markdown",
   "id": "24714478-1513-417d-afbd-1cdd8ef3b6b8",
   "metadata": {},
   "source": [
    "## Исследование слов в комментариях"
   ]
  },
  {
   "cell_type": "code",
   "execution_count": 44,
   "id": "d1a81d92-6e95-4eaf-8f4c-125b9b305809",
   "metadata": {},
   "outputs": [],
   "source": [
    "words_toxic = []\n",
    "words_no_toxic = []\n",
    "\n",
    "for i in df.query('toxic == 1').index:\n",
    "    words_toxic.extend(str(df.loc[i,'lemmatized_text']).split(' '))\n",
    "    \n",
    "for i in df.query('toxic == 0').index:\n",
    "    words_no_toxic.extend(str(df.loc[i,'lemmatized_text']).split(' '))"
   ]
  },
  {
   "cell_type": "code",
   "execution_count": 45,
   "id": "f7e29727-4656-4532-b1f9-7b68ddb3a64c",
   "metadata": {},
   "outputs": [],
   "source": [
    "def get_words_and_freqs(most_frequent):\n",
    "    words = []\n",
    "    freqs = []\n",
    "    \n",
    "    for pair in most_frequent:\n",
    "        words.append(pair[0])\n",
    "        freqs.append(pair[1])     \n",
    "        \n",
    "    return words, freqs"
   ]
  },
  {
   "cell_type": "code",
   "execution_count": 46,
   "id": "a8e279c1-4d8e-414e-a1b7-7b6c9ac3cd85",
   "metadata": {},
   "outputs": [],
   "source": [
    "most_frequent_toxic = Counter(words_toxic).most_common(10)"
   ]
  },
  {
   "cell_type": "code",
   "execution_count": 47,
   "id": "62649ea5-daf7-4d46-b601-a4a0610de2a7",
   "metadata": {},
   "outputs": [],
   "source": [
    "most_frequent_no_toxic = Counter(words_no_toxic).most_common(10)"
   ]
  },
  {
   "cell_type": "code",
   "execution_count": 48,
   "id": "c1ea9551-7b70-4715-9b59-6e227975a5ec",
   "metadata": {},
   "outputs": [
    {
     "data": {
      "image/png": "[encoded data removed]",
      "text/plain": [
       "<Figure size 1440x504 with 1 Axes>"
      ]
     },
     "metadata": {
      "needs_background": "light"
     },
     "output_type": "display_data"
    }
   ],
   "source": [
    "fig, ax = plt.subplots(1, 1, figsize=(20, 7))\n",
    "\n",
    "words, freqs = get_words_and_freqs(most_frequent_toxic)\n",
    "\n",
    "sns.barplot(y=freqs, x=words, ax=ax)\n",
    "plt.title('ТОП-10 самых часто встречаемых в комментариях символов и слов (токсичные)')\n",
    "plt.show()"
   ]
  },
  {
   "cell_type": "markdown",
   "id": "b62d3ef5-3e09-463b-99ce-33ad24ed6891",
   "metadata": {},
   "source": [
    "- Видим, что среди токсичных комментариев самые популярные слова являются нецензурными...."
   ]
  },
  {
   "cell_type": "code",
   "execution_count": 49,
   "id": "ef887047-2061-4f94-89b3-fc15e2974c0d",
   "metadata": {},
   "outputs": [
    {
     "data": {
      "image/png": "[encoded data removed]",
      "text/plain": [
       "<Figure size 1440x504 with 1 Axes>"
      ]
     },
     "metadata": {
      "needs_background": "light"
     },
     "output_type": "display_data"
    }
   ],
   "source": [
    "fig, ax = plt.subplots(1, 1, figsize=(20, 7))\n",
    "\n",
    "words, freqs = get_words_and_freqs(most_frequent_no_toxic)\n",
    "\n",
    "sns.barplot(y=freqs, x=words, ax=ax)\n",
    "plt.title('ТОП-10 самых часто встречаемых в комментариях символов и слов (НЕтоксичные)')\n",
    "plt.show()"
   ]
  },
  {
   "cell_type": "markdown",
   "id": "8306aeb3-1aed-499f-8200-a84435e8a3b3",
   "metadata": {},
   "source": [
    "- Среди нетоксичных комментариев самыми популярными словами являются: `article`, `page` и `wikipedia`"
   ]
  },
  {
   "cell_type": "code",
   "execution_count": 50,
   "id": "06884d2d-5357-4f06-ab95-94aeb9fb99f5",
   "metadata": {},
   "outputs": [
    {
     "data": {
      "image/png": "[encoded data removed]",
      "text/plain": [
       "<Figure size 1440x504 with 1 Axes>"
      ]
     },
     "metadata": {
      "needs_background": "light"
     },
     "output_type": "display_data"
    }
   ],
   "source": [
    "fig, ax = plt.subplots(1, 1, figsize=(20, 7))\n",
    "\n",
    "count_vectorizer = CountVectorizer(ngram_range=(2,2))\n",
    "bigrams = count_vectorizer.fit_transform(df.query('toxic == 0')['lemmatized_text'])\n",
    "\n",
    "count_values = bigrams.sum(axis=0).A1\n",
    "ngram_freq = pd.DataFrame({\n",
    "    'ngram': count_vectorizer.get_feature_names_out(),\n",
    "    'frequency': count_values\n",
    "}).sort_values('frequency', ascending=False)\n",
    "\n",
    "sns.barplot(x=ngram_freq['frequency'][:10], y=ngram_freq['ngram'][:10], ax=ax)\n",
    "plt.title('TOP 10 биграмм (НЕтоксичные комменты)')\n",
    "plt.show()"
   ]
  },
  {
   "cell_type": "markdown",
   "id": "be62a1fd-870c-46e4-826a-935ddd6e0b67",
   "metadata": {},
   "source": [
    "- Среди биграмм самой популярной является биграмма - talk page\n",
    "- Остальные видны на диаграмме выше"
   ]
  },
  {
   "cell_type": "markdown",
   "id": "3802d863-376a-4a65-b2a7-22c3d2cdc3cd",
   "metadata": {},
   "source": [
    "# Обучение моделей"
   ]
  },
  {
   "cell_type": "markdown",
   "id": "dd752235-2e07-4822-b45b-35b55cf0d647",
   "metadata": {},
   "source": [
    "## Вычисление TF-IDF и подготовка данных для передачи в модель "
   ]
  },
  {
   "cell_type": "code",
   "execution_count": 51,
   "id": "0eb92ecc-2ccd-4138-bde9-9776595f678d",
   "metadata": {},
   "outputs": [],
   "source": [
    "count_tf_idf = TfidfVectorizer() "
   ]
  },
  {
   "cell_type": "code",
   "execution_count": 52,
   "id": "76ebfab8-283f-4ba6-acf9-3d37ef31526f",
   "metadata": {},
   "outputs": [],
   "source": [
    "target = df.toxic"
   ]
  },
  {
   "cell_type": "code",
   "execution_count": 53,
   "id": "2b6a1141-4731-4091-aea8-ef45d795a791",
   "metadata": {},
   "outputs": [],
   "source": [
    "X_train, X_test, y_train, y_test = train_test_split(df['lemmatized_text'], \n",
    "                                                    target, \n",
    "                                                    test_size=TEST_SIZE, \n",
    "                                                    stratify=target, \n",
    "                                                    random_state=RANDOM_STATE)"
   ]
  },
  {
   "cell_type": "code",
   "execution_count": 54,
   "id": "5e618ee7-76f0-43f9-9582-d8a205236b9d",
   "metadata": {},
   "outputs": [],
   "source": [
    "X_train = count_tf_idf.fit_transform(X_train)"
   ]
  },
  {
   "cell_type": "code",
   "execution_count": 55,
   "id": "92d633fd-02e7-4b1f-9214-639119cdad55",
   "metadata": {},
   "outputs": [],
   "source": [
    "X_test = count_tf_idf.transform(X_test)"
   ]
  },
  {
   "cell_type": "markdown",
   "id": "8aaf9a66-5d51-4a5b-8241-35555131257a",
   "metadata": {},
   "source": [
    "## Логистическая регрессия"
   ]
  },
  {
   "cell_type": "code",
   "execution_count": 56,
   "id": "cfe0dbcb-d7cc-4382-bb55-3228538bae27",
   "metadata": {},
   "outputs": [],
   "source": [
    "pipe = Pipeline([\n",
    "    ('models', LogisticRegression())\n",
    "])"
   ]
  },
  {
   "cell_type": "code",
   "execution_count": null,
   "id": "d2bcc54f-9aa6-4743-8679-3858bc4afea7",
   "metadata": {},
   "outputs": [],
   "source": [
    "param_grid_logreg = [\n",
    "    {\n",
    "        'models': [LogisticRegression()],\n",
    "        'models__C': range(5, 15),\n",
    "        'models__penalty': ['l2'],\n",
    "        'models__class_weight': ['balanced', None]\n",
    "        \n",
    "    }\n",
    "]\n",
    "\n",
    "logreg_pipe = RandomizedSearchCV(\n",
    "    pipe, \n",
    "    param_grid_logreg, \n",
    "    cv=5,\n",
    "    scoring='f1',\n",
    "    error_score='raise',\n",
    "    random_state=RANDOM_STATE,\n",
    "    verbose=20\n",
    ")\n",
    "\n",
    "logreg_pipe.fit(X_train, y_train)"
   ]
  },
  {
   "cell_type": "code",
   "execution_count": 58,
   "id": "8393ebfd-f482-4dcc-ae40-463be8c6b752",
   "metadata": {},
   "outputs": [
    {
     "data": {
      "text/plain": [
       "{'models__penalty': 'l2',\n",
       " 'models__class_weight': None,\n",
       " 'models__C': 12,\n",
       " 'models': LogisticRegression()}"
      ]
     },
     "execution_count": 58,
     "metadata": {},
     "output_type": "execute_result"
    }
   ],
   "source": [
    "logreg_pipe.best_params_"
   ]
  },
  {
   "cell_type": "code",
   "execution_count": 59,
   "id": "c64424d2-db2e-4b7e-9c68-5aa80605d31c",
   "metadata": {},
   "outputs": [],
   "source": [
    "logreg = logreg_pipe.best_estimator_"
   ]
  },
  {
   "cell_type": "code",
   "execution_count": 60,
   "id": "bbb82871-0305-4299-803b-075c43f2d14a",
   "metadata": {},
   "outputs": [],
   "source": [
    "logreg_cv = cross_val_score(logreg, \n",
    "                            X_train, \n",
    "                            y_train, \n",
    "                            cv=5, \n",
    "                            scoring='f1')"
   ]
  },
  {
   "cell_type": "code",
   "execution_count": 61,
   "id": "d3a1786a-3632-48a4-b6fc-2be21d55bd4c",
   "metadata": {},
   "outputs": [
    {
     "name": "stdout",
     "output_type": "stream",
     "text": [
      "Среднее значение F1 на кросс-валидации: 0.772\n"
     ]
    }
   ],
   "source": [
    "print(f'Среднее значение F1 на кросс-валидации: {logreg_cv.mean().round(3)}')"
   ]
  },
  {
   "cell_type": "markdown",
   "id": "6f660c6d-7692-4d52-84e9-accf524c9cac",
   "metadata": {},
   "source": [
    "## LGBM"
   ]
  },
  {
   "cell_type": "code",
   "execution_count": 62,
   "id": "fa9fd5fd-c5a1-40b7-a9cc-bfcb7c7e8184",
   "metadata": {},
   "outputs": [],
   "source": [
    "boosting = LGBMClassifier(n_jobs=-1, \n",
    "                          n_estimators=100, \n",
    "                          class_weight='balanced', \n",
    "                          random_state=RANDOM_STATE)"
   ]
  },
  {
   "cell_type": "code",
   "execution_count": null,
   "id": "ec227642-94be-4ad0-8893-dc9adf270dcc",
   "metadata": {},
   "outputs": [],
   "source": [
    "lgbm_cv = cross_val_score(boosting, \n",
    "                          X_train, \n",
    "                          y_train, \n",
    "                          cv=5, \n",
    "                          n_jobs=-1, \n",
    "                          scoring='f1')"
   ]
  },
  {
   "cell_type": "code",
   "execution_count": 64,
   "id": "2f946fcc-537d-450d-9d7f-febe5b8d1fe3",
   "metadata": {},
   "outputs": [
    {
     "name": "stdout",
     "output_type": "stream",
     "text": [
      "Среднее значение F1 на кросс-валидации: 0.743\n"
     ]
    }
   ],
   "source": [
    "print(f'Среднее значение F1 на кросс-валидации: {lgbm_cv.mean().round(3)}')"
   ]
  },
  {
   "cell_type": "markdown",
   "id": "eaf84ac7-ae33-4d1c-92d0-909e07b59ba5",
   "metadata": {},
   "source": [
    "## Дерево решений"
   ]
  },
  {
   "cell_type": "code",
   "execution_count": 65,
   "id": "50c9bb98-c794-4c87-ad62-90b8d71dbd74",
   "metadata": {},
   "outputs": [],
   "source": [
    "dec_tree = DecisionTreeClassifier(class_weight='balanced', random_state=RANDOM_STATE)"
   ]
  },
  {
   "cell_type": "code",
   "execution_count": null,
   "id": "4b3693e0-12bd-45ae-8c21-d19a4c7046ec",
   "metadata": {},
   "outputs": [],
   "source": [
    "dec_cv = cross_val_score(dec_tree, \n",
    "                         X_train, \n",
    "                         y_train, \n",
    "                         cv=5,\n",
    "                         n_jobs=-1, \n",
    "                         scoring='f1')"
   ]
  },
  {
   "cell_type": "code",
   "execution_count": 67,
   "id": "243a4ac2-531f-48ce-a29f-18f692217bdc",
   "metadata": {},
   "outputs": [
    {
     "name": "stdout",
     "output_type": "stream",
     "text": [
      "Среднее значение F1 на кросс-валидации: 0.664\n"
     ]
    }
   ],
   "source": [
    "print(f'Среднее значение F1 на кросс-валидации: {dec_cv.mean().round(3)}')"
   ]
  },
  {
   "cell_type": "markdown",
   "id": "bff1b7c6-cd7a-4b29-92f1-25b829d94fb7",
   "metadata": {},
   "source": [
    "- На кросс-валидации лучший результат показала логистическая регрессия, именно ее и будем использовать для итоговой оценки\n",
    "- Слабое звено исследования - дерево решений. Данная модель показала самый низкий средний скор"
   ]
  },
  {
   "cell_type": "markdown",
   "id": "2991054c-906d-496e-ba1d-4f022bcf763b",
   "metadata": {},
   "source": [
    "## Итоговая оценка"
   ]
  },
  {
   "cell_type": "code",
   "execution_count": 68,
   "id": "ceef8307-76de-4d87-a88f-809d81ce3bb4",
   "metadata": {},
   "outputs": [
    {
     "data": {
      "text/html": [
       "<style>#sk-container-id-2 {\n",
       "  /* Definition of color scheme common for light and dark mode */\n",
       "  --sklearn-color-text: #000;\n",
       "  --sklearn-color-text-muted: #666;\n",
       "  --sklearn-color-line: gray;\n",
       "  /* Definition of color scheme for unfitted estimators */\n",
       "  --sklearn-color-unfitted-level-0: #fff5e6;\n",
       "  --sklearn-color-unfitted-level-1: #f6e4d2;\n",
       "  --sklearn-color-unfitted-level-2: #ffe0b3;\n",
       "  --sklearn-color-unfitted-level-3: chocolate;\n",
       "  /* Definition of color scheme for fitted estimators */\n",
       "  --sklearn-color-fitted-level-0: #f0f8ff;\n",
       "  --sklearn-color-fitted-level-1: #d4ebff;\n",
       "  --sklearn-color-fitted-level-2: #b3dbfd;\n",
       "  --sklearn-color-fitted-level-3: cornflowerblue;\n",
       "\n",
       "  /* Specific color for light theme */\n",
       "  --sklearn-color-text-on-default-background: var(--sg-text-color, var(--theme-code-foreground, var(--jp-content-font-color1, black)));\n",
       "  --sklearn-color-background: var(--sg-background-color, var(--theme-background, var(--jp-layout-color0, white)));\n",
       "  --sklearn-color-border-box: var(--sg-text-color, var(--theme-code-foreground, var(--jp-content-font-color1, black)));\n",
       "  --sklearn-color-icon: #696969;\n",
       "\n",
       "  @media (prefers-color-scheme: dark) {\n",
       "    /* Redefinition of color scheme for dark theme */\n",
       "    --sklearn-color-text-on-default-background: var(--sg-text-color, var(--theme-code-foreground, var(--jp-content-font-color1, white)));\n",
       "    --sklearn-color-background: var(--sg-background-color, var(--theme-background, var(--jp-layout-color0, #111)));\n",
       "    --sklearn-color-border-box: var(--sg-text-color, var(--theme-code-foreground, var(--jp-content-font-color1, white)));\n",
       "    --sklearn-color-icon: #878787;\n",
       "  }\n",
       "}\n",
       "\n",
       "#sk-container-id-2 {\n",
       "  color: var(--sklearn-color-text);\n",
       "}\n",
       "\n",
       "#sk-container-id-2 pre {\n",
       "  padding: 0;\n",
       "}\n",
       "\n",
       "#sk-container-id-2 input.sk-hidden--visually {\n",
       "  border: 0;\n",
       "  clip: rect(1px 1px 1px 1px);\n",
       "  clip: rect(1px, 1px, 1px, 1px);\n",
       "  height: 1px;\n",
       "  margin: -1px;\n",
       "  overflow: hidden;\n",
       "  padding: 0;\n",
       "  position: absolute;\n",
       "  width: 1px;\n",
       "}\n",
       "\n",
       "#sk-container-id-2 div.sk-dashed-wrapped {\n",
       "  border: 1px dashed var(--sklearn-color-line);\n",
       "  margin: 0 0.4em 0.5em 0.4em;\n",
       "  box-sizing: border-box;\n",
       "  padding-bottom: 0.4em;\n",
       "  background-color: var(--sklearn-color-background);\n",
       "}\n",
       "\n",
       "#sk-container-id-2 div.sk-container {\n",
       "  /* jupyter's `normalize.less` sets `[hidden] { display: none; }`\n",
       "     but bootstrap.min.css set `[hidden] { display: none !important; }`\n",
       "     so we also need the `!important` here to be able to override the\n",
       "     default hidden behavior on the sphinx rendered scikit-learn.org.\n",
       "     See: https://github.com/scikit-learn/scikit-learn/issues/21755 */\n",
       "  display: inline-block !important;\n",
       "  position: relative;\n",
       "}\n",
       "\n",
       "#sk-container-id-2 div.sk-text-repr-fallback {\n",
       "  display: none;\n",
       "}\n",
       "\n",
       "div.sk-parallel-item,\n",
       "div.sk-serial,\n",
       "div.sk-item {\n",
       "  /* draw centered vertical line to link estimators */\n",
       "  background-image: linear-gradient(var(--sklearn-color-text-on-default-background), var(--sklearn-color-text-on-default-background));\n",
       "  background-size: 2px 100%;\n",
       "  background-repeat: no-repeat;\n",
       "  background-position: center center;\n",
       "}\n",
       "\n",
       "/* Parallel-specific style estimator block */\n",
       "\n",
       "#sk-container-id-2 div.sk-parallel-item::after {\n",
       "  content: \"\";\n",
       "  width: 100%;\n",
       "  border-bottom: 2px solid var(--sklearn-color-text-on-default-background);\n",
       "  flex-grow: 1;\n",
       "}\n",
       "\n",
       "#sk-container-id-2 div.sk-parallel {\n",
       "  display: flex;\n",
       "  align-items: stretch;\n",
       "  justify-content: center;\n",
       "  background-color: var(--sklearn-color-background);\n",
       "  position: relative;\n",
       "}\n",
       "\n",
       "#sk-container-id-2 div.sk-parallel-item {\n",
       "  display: flex;\n",
       "  flex-direction: column;\n",
       "}\n",
       "\n",
       "#sk-container-id-2 div.sk-parallel-item:first-child::after {\n",
       "  align-self: flex-end;\n",
       "  width: 50%;\n",
       "}\n",
       "\n",
       "#sk-container-id-2 div.sk-parallel-item:last-child::after {\n",
       "  align-self: flex-start;\n",
       "  width: 50%;\n",
       "}\n",
       "\n",
       "#sk-container-id-2 div.sk-parallel-item:only-child::after {\n",
       "  width: 0;\n",
       "}\n",
       "\n",
       "/* Serial-specific style estimator block */\n",
       "\n",
       "#sk-container-id-2 div.sk-serial {\n",
       "  display: flex;\n",
       "  flex-direction: column;\n",
       "  align-items: center;\n",
       "  background-color: var(--sklearn-color-background);\n",
       "  padding-right: 1em;\n",
       "  padding-left: 1em;\n",
       "}\n",
       "\n",
       "\n",
       "/* Toggleable style: style used for estimator/Pipeline/ColumnTransformer box that is\n",
       "clickable and can be expanded/collapsed.\n",
       "- Pipeline and ColumnTransformer use this feature and define the default style\n",
       "- Estimators will overwrite some part of the style using the `sk-estimator` class\n",
       "*/\n",
       "\n",
       "/* Pipeline and ColumnTransformer style (default) */\n",
       "\n",
       "#sk-container-id-2 div.sk-toggleable {\n",
       "  /* Default theme specific background. It is overwritten whether we have a\n",
       "  specific estimator or a Pipeline/ColumnTransformer */\n",
       "  background-color: var(--sklearn-color-background);\n",
       "}\n",
       "\n",
       "/* Toggleable label */\n",
       "#sk-container-id-2 label.sk-toggleable__label {\n",
       "  cursor: pointer;\n",
       "  display: flex;\n",
       "  width: 100%;\n",
       "  margin-bottom: 0;\n",
       "  padding: 0.5em;\n",
       "  box-sizing: border-box;\n",
       "  text-align: center;\n",
       "  align-items: start;\n",
       "  justify-content: space-between;\n",
       "  gap: 0.5em;\n",
       "}\n",
       "\n",
       "#sk-container-id-2 label.sk-toggleable__label .caption {\n",
       "  font-size: 0.6rem;\n",
       "  font-weight: lighter;\n",
       "  color: var(--sklearn-color-text-muted);\n",
       "}\n",
       "\n",
       "#sk-container-id-2 label.sk-toggleable__label-arrow:before {\n",
       "  /* Arrow on the left of the label */\n",
       "  content: \"▸\";\n",
       "  float: left;\n",
       "  margin-right: 0.25em;\n",
       "  color: var(--sklearn-color-icon);\n",
       "}\n",
       "\n",
       "#sk-container-id-2 label.sk-toggleable__label-arrow:hover:before {\n",
       "  color: var(--sklearn-color-text);\n",
       "}\n",
       "\n",
       "/* Toggleable content - dropdown */\n",
       "\n",
       "#sk-container-id-2 div.sk-toggleable__content {\n",
       "  max-height: 0;\n",
       "  max-width: 0;\n",
       "  overflow: hidden;\n",
       "  text-align: left;\n",
       "  /* unfitted */\n",
       "  background-color: var(--sklearn-color-unfitted-level-0);\n",
       "}\n",
       "\n",
       "#sk-container-id-2 div.sk-toggleable__content.fitted {\n",
       "  /* fitted */\n",
       "  background-color: var(--sklearn-color-fitted-level-0);\n",
       "}\n",
       "\n",
       "#sk-container-id-2 div.sk-toggleable__content pre {\n",
       "  margin: 0.2em;\n",
       "  border-radius: 0.25em;\n",
       "  color: var(--sklearn-color-text);\n",
       "  /* unfitted */\n",
       "  background-color: var(--sklearn-color-unfitted-level-0);\n",
       "}\n",
       "\n",
       "#sk-container-id-2 div.sk-toggleable__content.fitted pre {\n",
       "  /* unfitted */\n",
       "  background-color: var(--sklearn-color-fitted-level-0);\n",
       "}\n",
       "\n",
       "#sk-container-id-2 input.sk-toggleable__control:checked~div.sk-toggleable__content {\n",
       "  /* Expand drop-down */\n",
       "  max-height: 200px;\n",
       "  max-width: 100%;\n",
       "  overflow: auto;\n",
       "}\n",
       "\n",
       "#sk-container-id-2 input.sk-toggleable__control:checked~label.sk-toggleable__label-arrow:before {\n",
       "  content: \"▾\";\n",
       "}\n",
       "\n",
       "/* Pipeline/ColumnTransformer-specific style */\n",
       "\n",
       "#sk-container-id-2 div.sk-label input.sk-toggleable__control:checked~label.sk-toggleable__label {\n",
       "  color: var(--sklearn-color-text);\n",
       "  background-color: var(--sklearn-color-unfitted-level-2);\n",
       "}\n",
       "\n",
       "#sk-container-id-2 div.sk-label.fitted input.sk-toggleable__control:checked~label.sk-toggleable__label {\n",
       "  background-color: var(--sklearn-color-fitted-level-2);\n",
       "}\n",
       "\n",
       "/* Estimator-specific style */\n",
       "\n",
       "/* Colorize estimator box */\n",
       "#sk-container-id-2 div.sk-estimator input.sk-toggleable__control:checked~label.sk-toggleable__label {\n",
       "  /* unfitted */\n",
       "  background-color: var(--sklearn-color-unfitted-level-2);\n",
       "}\n",
       "\n",
       "#sk-container-id-2 div.sk-estimator.fitted input.sk-toggleable__control:checked~label.sk-toggleable__label {\n",
       "  /* fitted */\n",
       "  background-color: var(--sklearn-color-fitted-level-2);\n",
       "}\n",
       "\n",
       "#sk-container-id-2 div.sk-label label.sk-toggleable__label,\n",
       "#sk-container-id-2 div.sk-label label {\n",
       "  /* The background is the default theme color */\n",
       "  color: var(--sklearn-color-text-on-default-background);\n",
       "}\n",
       "\n",
       "/* On hover, darken the color of the background */\n",
       "#sk-container-id-2 div.sk-label:hover label.sk-toggleable__label {\n",
       "  color: var(--sklearn-color-text);\n",
       "  background-color: var(--sklearn-color-unfitted-level-2);\n",
       "}\n",
       "\n",
       "/* Label box, darken color on hover, fitted */\n",
       "#sk-container-id-2 div.sk-label.fitted:hover label.sk-toggleable__label.fitted {\n",
       "  color: var(--sklearn-color-text);\n",
       "  background-color: var(--sklearn-color-fitted-level-2);\n",
       "}\n",
       "\n",
       "/* Estimator label */\n",
       "\n",
       "#sk-container-id-2 div.sk-label label {\n",
       "  font-family: monospace;\n",
       "  font-weight: bold;\n",
       "  display: inline-block;\n",
       "  line-height: 1.2em;\n",
       "}\n",
       "\n",
       "#sk-container-id-2 div.sk-label-container {\n",
       "  text-align: center;\n",
       "}\n",
       "\n",
       "/* Estimator-specific */\n",
       "#sk-container-id-2 div.sk-estimator {\n",
       "  font-family: monospace;\n",
       "  border: 1px dotted var(--sklearn-color-border-box);\n",
       "  border-radius: 0.25em;\n",
       "  box-sizing: border-box;\n",
       "  margin-bottom: 0.5em;\n",
       "  /* unfitted */\n",
       "  background-color: var(--sklearn-color-unfitted-level-0);\n",
       "}\n",
       "\n",
       "#sk-container-id-2 div.sk-estimator.fitted {\n",
       "  /* fitted */\n",
       "  background-color: var(--sklearn-color-fitted-level-0);\n",
       "}\n",
       "\n",
       "/* on hover */\n",
       "#sk-container-id-2 div.sk-estimator:hover {\n",
       "  /* unfitted */\n",
       "  background-color: var(--sklearn-color-unfitted-level-2);\n",
       "}\n",
       "\n",
       "#sk-container-id-2 div.sk-estimator.fitted:hover {\n",
       "  /* fitted */\n",
       "  background-color: var(--sklearn-color-fitted-level-2);\n",
       "}\n",
       "\n",
       "/* Specification for estimator info (e.g. \"i\" and \"?\") */\n",
       "\n",
       "/* Common style for \"i\" and \"?\" */\n",
       "\n",
       ".sk-estimator-doc-link,\n",
       "a:link.sk-estimator-doc-link,\n",
       "a:visited.sk-estimator-doc-link {\n",
       "  float: right;\n",
       "  font-size: smaller;\n",
       "  line-height: 1em;\n",
       "  font-family: monospace;\n",
       "  background-color: var(--sklearn-color-background);\n",
       "  border-radius: 1em;\n",
       "  height: 1em;\n",
       "  width: 1em;\n",
       "  text-decoration: none !important;\n",
       "  margin-left: 0.5em;\n",
       "  text-align: center;\n",
       "  /* unfitted */\n",
       "  border: var(--sklearn-color-unfitted-level-1) 1pt solid;\n",
       "  color: var(--sklearn-color-unfitted-level-1);\n",
       "}\n",
       "\n",
       ".sk-estimator-doc-link.fitted,\n",
       "a:link.sk-estimator-doc-link.fitted,\n",
       "a:visited.sk-estimator-doc-link.fitted {\n",
       "  /* fitted */\n",
       "  border: var(--sklearn-color-fitted-level-1) 1pt solid;\n",
       "  color: var(--sklearn-color-fitted-level-1);\n",
       "}\n",
       "\n",
       "/* On hover */\n",
       "div.sk-estimator:hover .sk-estimator-doc-link:hover,\n",
       ".sk-estimator-doc-link:hover,\n",
       "div.sk-label-container:hover .sk-estimator-doc-link:hover,\n",
       ".sk-estimator-doc-link:hover {\n",
       "  /* unfitted */\n",
       "  background-color: var(--sklearn-color-unfitted-level-3);\n",
       "  color: var(--sklearn-color-background);\n",
       "  text-decoration: none;\n",
       "}\n",
       "\n",
       "div.sk-estimator.fitted:hover .sk-estimator-doc-link.fitted:hover,\n",
       ".sk-estimator-doc-link.fitted:hover,\n",
       "div.sk-label-container:hover .sk-estimator-doc-link.fitted:hover,\n",
       ".sk-estimator-doc-link.fitted:hover {\n",
       "  /* fitted */\n",
       "  background-color: var(--sklearn-color-fitted-level-3);\n",
       "  color: var(--sklearn-color-background);\n",
       "  text-decoration: none;\n",
       "}\n",
       "\n",
       "/* Span, style for the box shown on hovering the info icon */\n",
       ".sk-estimator-doc-link span {\n",
       "  display: none;\n",
       "  z-index: 9999;\n",
       "  position: relative;\n",
       "  font-weight: normal;\n",
       "  right: .2ex;\n",
       "  padding: .5ex;\n",
       "  margin: .5ex;\n",
       "  width: min-content;\n",
       "  min-width: 20ex;\n",
       "  max-width: 50ex;\n",
       "  color: var(--sklearn-color-text);\n",
       "  box-shadow: 2pt 2pt 4pt #999;\n",
       "  /* unfitted */\n",
       "  background: var(--sklearn-color-unfitted-level-0);\n",
       "  border: .5pt solid var(--sklearn-color-unfitted-level-3);\n",
       "}\n",
       "\n",
       ".sk-estimator-doc-link.fitted span {\n",
       "  /* fitted */\n",
       "  background: var(--sklearn-color-fitted-level-0);\n",
       "  border: var(--sklearn-color-fitted-level-3);\n",
       "}\n",
       "\n",
       ".sk-estimator-doc-link:hover span {\n",
       "  display: block;\n",
       "}\n",
       "\n",
       "/* \"?\"-specific style due to the `<a>` HTML tag */\n",
       "\n",
       "#sk-container-id-2 a.estimator_doc_link {\n",
       "  float: right;\n",
       "  font-size: 1rem;\n",
       "  line-height: 1em;\n",
       "  font-family: monospace;\n",
       "  background-color: var(--sklearn-color-background);\n",
       "  border-radius: 1rem;\n",
       "  height: 1rem;\n",
       "  width: 1rem;\n",
       "  text-decoration: none;\n",
       "  /* unfitted */\n",
       "  color: var(--sklearn-color-unfitted-level-1);\n",
       "  border: var(--sklearn-color-unfitted-level-1) 1pt solid;\n",
       "}\n",
       "\n",
       "#sk-container-id-2 a.estimator_doc_link.fitted {\n",
       "  /* fitted */\n",
       "  border: var(--sklearn-color-fitted-level-1) 1pt solid;\n",
       "  color: var(--sklearn-color-fitted-level-1);\n",
       "}\n",
       "\n",
       "/* On hover */\n",
       "#sk-container-id-2 a.estimator_doc_link:hover {\n",
       "  /* unfitted */\n",
       "  background-color: var(--sklearn-color-unfitted-level-3);\n",
       "  color: var(--sklearn-color-background);\n",
       "  text-decoration: none;\n",
       "}\n",
       "\n",
       "#sk-container-id-2 a.estimator_doc_link.fitted:hover {\n",
       "  /* fitted */\n",
       "  background-color: var(--sklearn-color-fitted-level-3);\n",
       "}\n",
       "</style><div id=\"sk-container-id-2\" class=\"sk-top-container\"><div class=\"sk-text-repr-fallback\"><pre>Pipeline(steps=[(&#x27;models&#x27;, LogisticRegression(C=12))])</pre><b>In a Jupyter environment, please rerun this cell to show the HTML representation or trust the notebook. <br />On GitHub, the HTML representation is unable to render, please try loading this page with nbviewer.org.</b></div><div class=\"sk-container\" hidden><div class=\"sk-item sk-dashed-wrapped\"><div class=\"sk-label-container\"><div class=\"sk-label fitted sk-toggleable\"><input class=\"sk-toggleable__control sk-hidden--visually\" id=\"sk-estimator-id-4\" type=\"checkbox\" ><label for=\"sk-estimator-id-4\" class=\"sk-toggleable__label fitted sk-toggleable__label-arrow\"><div><div>Pipeline</div></div><div><a class=\"sk-estimator-doc-link fitted\" rel=\"noreferrer\" target=\"_blank\" href=\"https://scikit-learn.org/1.6/modules/generated/sklearn.pipeline.Pipeline.html\">?<span>Documentation for Pipeline</span></a><span class=\"sk-estimator-doc-link fitted\">i<span>Fitted</span></span></div></label><div class=\"sk-toggleable__content fitted\"><pre>Pipeline(steps=[(&#x27;models&#x27;, LogisticRegression(C=12))])</pre></div> </div></div><div class=\"sk-serial\"><div class=\"sk-item\"><div class=\"sk-estimator fitted sk-toggleable\"><input class=\"sk-toggleable__control sk-hidden--visually\" id=\"sk-estimator-id-5\" type=\"checkbox\" ><label for=\"sk-estimator-id-5\" class=\"sk-toggleable__label fitted sk-toggleable__label-arrow\"><div><div>LogisticRegression</div></div><div><a class=\"sk-estimator-doc-link fitted\" rel=\"noreferrer\" target=\"_blank\" href=\"https://scikit-learn.org/1.6/modules/generated/sklearn.linear_model.LogisticRegression.html\">?<span>Documentation for LogisticRegression</span></a></div></label><div class=\"sk-toggleable__content fitted\"><pre>LogisticRegression(C=12)</pre></div> </div></div></div></div></div></div>"
      ],
      "text/plain": [
       "Pipeline(steps=[('models', LogisticRegression(C=12))])"
      ]
     },
     "execution_count": 68,
     "metadata": {},
     "output_type": "execute_result"
    }
   ],
   "source": [
    "logreg.fit(X_train, y_train)"
   ]
  },
  {
   "cell_type": "code",
   "execution_count": 72,
   "id": "3d69f892-875e-4b4a-96c7-208f57304885",
   "metadata": {},
   "outputs": [
    {
     "data": {
      "text/plain": [
       "0.78"
      ]
     },
     "execution_count": 72,
     "metadata": {},
     "output_type": "execute_result"
    }
   ],
   "source": [
    "round(f1_score(y_test, logreg.predict(X_test)), 2)"
   ]
  },
  {
   "cell_type": "markdown",
   "id": "f578af05-7149-4d7e-a2fe-5ad23c6d4a54",
   "metadata": {},
   "source": [
    "- На тестовых данных модель показала неплохой результат, он удовлетворяет требованиям проекта\n",
    "$$ F_1 = 0.78 \\geqslant 0.75 $$"
   ]
  },
  {
   "cell_type": "code",
   "execution_count": 70,
   "id": "87663c8a-380c-4933-bba9-4637cedf87aa",
   "metadata": {},
   "outputs": [
    {
     "data": {
      "image/png": "[encoded data removed]",
      "text/plain": [
       "<Figure size 432x288 with 1 Axes>"
      ]
     },
     "metadata": {
      "needs_background": "light"
     },
     "output_type": "display_data"
    },
    {
     "name": "stdout",
     "output_type": "stream",
     "text": [
      "[LightGBM] [Info] Number of positive: 9712, number of negative: 85863\n",
      "[LightGBM] [Info] Auto-choosing row-wise multi-threading, the overhead of testing was 16.531622 seconds.\n",
      "You can set `force_row_wise=true` to remove the overhead.\n",
      "And if memory is not enough, you can set `force_col_wise=true`.\n",
      "[LightGBM] [Info] Total Bins 413949\n",
      "[LightGBM] [Info] Number of data points in the train set: 95575, number of used features: 8068\n",
      "[LightGBM] [Info] [binary:BoostFromScore]: pavg=0.500000 -> initscore=0.000000\n",
      "[LightGBM] [Info] Start training from score 0.000000\n",
      "[LightGBM] [Info] Number of positive: 9712, number of negative: 85863\n",
      "[LightGBM] [Info] Auto-choosing col-wise multi-threading, the overhead of testing was 23.972352 seconds.\n",
      "You can set `force_col_wise=true` to remove the overhead.\n",
      "[LightGBM] [Info] Total Bins 413533\n",
      "[LightGBM] [Info] Number of data points in the train set: 95575, number of used features: 8089\n",
      "[LightGBM] [Info] [binary:BoostFromScore]: pavg=0.500000 -> initscore=0.000000\n",
      "[LightGBM] [Info] Start training from score 0.000000\n",
      "[LightGBM] [Info] Number of positive: 9712, number of negative: 85864\n",
      "[LightGBM] [Info] Auto-choosing col-wise multi-threading, the overhead of testing was 28.260703 seconds.\n",
      "You can set `force_col_wise=true` to remove the overhead.\n",
      "[LightGBM] [Info] Total Bins 412402\n",
      "[LightGBM] [Info] Number of data points in the train set: 95576, number of used features: 8042\n",
      "[LightGBM] [Info] [binary:BoostFromScore]: pavg=0.500000 -> initscore=0.000000\n",
      "[LightGBM] [Info] Start training from score 0.000000\n",
      "[LightGBM] [Info] Number of positive: 9712, number of negative: 85863\n",
      "[LightGBM] [Info] Auto-choosing row-wise multi-threading, the overhead of testing was 11.920420 seconds.\n",
      "You can set `force_row_wise=true` to remove the overhead.\n",
      "And if memory is not enough, you can set `force_col_wise=true`.\n",
      "[LightGBM] [Info] Total Bins 413792\n",
      "[LightGBM] [Info] Number of data points in the train set: 95575, number of used features: 8077\n",
      "[LightGBM] [Info] [binary:BoostFromScore]: pavg=0.500000 -> initscore=0.000000\n",
      "[LightGBM] [Info] Start training from score 0.000000\n",
      "[LightGBM] [Info] Number of positive: 9712, number of negative: 85863\n",
      "[LightGBM] [Info] Auto-choosing col-wise multi-threading, the overhead of testing was 24.019482 seconds.\n",
      "You can set `force_col_wise=true` to remove the overhead.\n",
      "[LightGBM] [Info] Total Bins 414278\n",
      "[LightGBM] [Info] Number of data points in the train set: 95575, number of used features: 8062\n",
      "[LightGBM] [Info] [binary:BoostFromScore]: pavg=0.500000 -> initscore=0.000000\n",
      "[LightGBM] [Info] Start training from score 0.000000\n"
     ]
    }
   ],
   "source": [
    "fpr, tpr, threshold = roc_curve(y_test, logreg.predict_proba(X_test)[:,1])\n",
    "\n",
    "plt.plot(fpr, tpr)\n",
    "plt.plot([0, 1], [0, 1], '--')\n",
    "plt.title(f\"ROC-кривая (LogReg), $F_1$ = {round(f1_score(y_test, logreg.predict(X_test)), 2)}\")\n",
    "plt.xlabel('False Positive Rate (FPR)')\n",
    "plt.legend([f'AUC ROC = {roc_auc_score(y_test, logreg.predict_proba(X_test)[:,1]).round(2)}'])\n",
    "plt.ylabel('True Positive Rate (TPR)');"
   ]
  },
  {
   "cell_type": "markdown",
   "id": "1a8af8f5-ed74-4844-8502-738939d6dda6",
   "metadata": {},
   "source": [
    "# Итоговый вывод"
   ]
  },
  {
   "cell_type": "markdown",
   "id": "d5b30edd-df42-4270-8d41-c6a94061a4f5",
   "metadata": {},
   "source": [
    "- Данные не сожержат явных дубликатов и пропусков\n",
    "- В целевой переменной датасета есть существенный дисбаланс\n",
    "- Далее было получено распределение длины комментариев: \n",
    "    - Подавляющее большинство комментов имеют длину не больше 2500 символов\n",
    "    - Однако есть тяжелый хвост справа вплоть до 5000 символов\n",
    "    - Основная часть токсичных комментов имеет длину не больше 500 символов\n",
    "    - Нетоксичные комментарии же наоборот могут быть достаточно длинными, в основном вплоть до 1500 символов\n",
    "    - Медианная длина нетоксичных комментов - 216 символов, токсичных - 128 символов\n",
    "- Также было исследовано распределение количества слов в комментариях\n",
    "    - В основной части токсичных твитов не больше 100 слов\n",
    "    - Нетоксичные комментарии же наоборот могут быть достаточно многословными, в основном вплоть до 240 слов\n",
    "    - Медианное количество слов в нетоксичных твитах - 37 слов, в токсичных - 23 слова\n",
    "- Далее текст был очищен и лемматизирован\n",
    "- На основе корпуса слов, полученного после лемматизации были исследованы слова в исходной форме и биграммы\n",
    "    - Среди токсичных комментариев самые популярные слова являются нецензурными....\n",
    "    - Среди нетоксичных комментариев самыми популярными словами являются: `article`, `page` и `wikipedia`\n",
    "    - Среди биграмм самой популярной является биграмма - talk page\n",
    "- Затем с помощью TFIDFVectorizer были получены эмбеддинги, из которых сформирован датасет для обучения и теста\n",
    "- Обучены 4 модели: логистическая регрессия, градиентный бустинг и простое дерево решений\n",
    "- На кросс-валидации лучшей себя показала модель логистической регрессии\n",
    "- На контрольном тестировании модель показала метрику $F_1 = 0.78$, что удовлетворяет условиям проекта"
   ]
  }
 ],
 "metadata": {
  "ExecuteTimeLog": [
   {
    "duration": 5185,
    "start_time": "2025-05-04T09:15:13.475Z"
   },
   {
    "duration": 2051,
    "start_time": "2025-05-04T09:16:10.397Z"
   },
   {
    "duration": 10,
    "start_time": "2025-05-04T09:17:28.335Z"
   },
   {
    "duration": 9,
    "start_time": "2025-05-04T09:17:32.321Z"
   },
   {
    "duration": 1850,
    "start_time": "2025-05-04T09:17:32.691Z"
   },
   {
    "duration": 890,
    "start_time": "2025-05-04T09:19:29.716Z"
   },
   {
    "duration": 11,
    "start_time": "2025-05-04T09:19:31.851Z"
   },
   {
    "duration": 34,
    "start_time": "2025-05-04T09:19:32.259Z"
   },
   {
    "duration": 28,
    "start_time": "2025-05-04T09:19:32.818Z"
   },
   {
    "duration": 226,
    "start_time": "2025-05-04T09:19:33.191Z"
   },
   {
    "duration": 120,
    "start_time": "2025-05-04T09:19:35.093Z"
   },
   {
    "duration": 125,
    "start_time": "2025-05-04T09:19:36.831Z"
   },
   {
    "duration": 408,
    "start_time": "2025-05-04T09:19:37.275Z"
   },
   {
    "duration": 47,
    "start_time": "2025-05-04T09:19:37.813Z"
   },
   {
    "duration": 1619,
    "start_time": "2025-05-04T09:19:37.981Z"
   },
   {
    "duration": 855,
    "start_time": "2025-05-04T09:19:39.601Z"
   },
   {
    "duration": 3,
    "start_time": "2025-05-04T09:19:40.457Z"
   },
   {
    "duration": 724,
    "start_time": "2025-05-04T09:19:40.462Z"
   },
   {
    "duration": 542,
    "start_time": "2025-05-04T09:19:41.187Z"
   },
   {
    "duration": 39,
    "start_time": "2025-05-04T09:19:41.731Z"
   },
   {
    "duration": 2492,
    "start_time": "2025-05-04T09:19:41.772Z"
   },
   {
    "duration": 856,
    "start_time": "2025-05-04T09:19:44.265Z"
   },
   {
    "duration": 4,
    "start_time": "2025-05-04T09:19:45.123Z"
   },
   {
    "duration": 44,
    "start_time": "2025-05-04T09:19:45.129Z"
   },
   {
    "duration": 3,
    "start_time": "2025-05-04T09:20:11.708Z"
   },
   {
    "duration": 3,
    "start_time": "2025-05-04T09:20:13.624Z"
   },
   {
    "duration": 3,
    "start_time": "2025-05-04T09:20:14.028Z"
   },
   {
    "duration": 3713,
    "start_time": "2025-05-04T09:20:15.807Z"
   }
  ],
  "kernelspec": {
   "display_name": "Python 3 (ipykernel)",
   "language": "python",
   "name": "python3"
  },
  "language_info": {
   "codemirror_mode": {
    "name": "ipython",
    "version": 3
   },
   "file_extension": ".py",
   "mimetype": "text/x-python",
   "name": "python",
   "nbconvert_exporter": "python",
   "pygments_lexer": "ipython3",
   "version": "3.9.5"
  },
  "toc": {
   "base_numbering": 1,
   "nav_menu": {},
   "number_sections": true,
   "sideBar": true,
   "skip_h1_title": true,
   "title_cell": "Table of Contents",
   "title_sidebar": "Contents",
   "toc_cell": false,
   "toc_position": {},
   "toc_section_display": true,
   "toc_window_display": true
  }
 },
 "nbformat": 4,
 "nbformat_minor": 5
}
